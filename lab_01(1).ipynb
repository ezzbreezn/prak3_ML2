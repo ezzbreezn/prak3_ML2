{
  "cells": [
    {
      "cell_type": "markdown",
      "metadata": {
        "id": "9B0GkmkUN03b"
      },
      "source": [
        "# 1 практическое задание. Полносвязная нейронная сеть на `numpy`.\n",
        "\n",
        "## Практикум на ЭВМ для 317 группы, весна 2021\n",
        "\n",
        "#### Фамилия, имя: Михеев Борис\n",
        "\n",
        "Дата выдачи: <span style=\"color:red\">__17 февраля 03:00__</span>.\n",
        "\n",
        "Мягкий дедлайн: <span style=\"color:red\">__10 марта 23:59__</span>.\n",
        "\n",
        "Стоимость: __10 баллов__ (основная часть заданий) + __3 балла__ (дополнительные задания).\n",
        "\n",
        "<span style=\"color:red\">__В ноутбуке все клетки должны выполняться без ошибок при последовательном их выполнении.__</span>"
      ]
    },
    {
      "cell_type": "code",
      "execution_count": 2,
      "metadata": {
        "ExecuteTime": {
          "end_time": "2021-03-03T14:44:48.909044Z",
          "start_time": "2021-03-03T14:44:48.683650Z"
        },
        "id": "XnaZBWZON03j"
      },
      "outputs": [],
      "source": [
        "import numpy as np"
      ]
    },
    {
      "cell_type": "markdown",
      "metadata": {
        "id": "FpBQ2BgiN03o"
      },
      "source": [
        "## Теоретическая часть (3 балла)"
      ]
    },
    {
      "cell_type": "markdown",
      "metadata": {
        "id": "Jvq2-EYuN03r"
      },
      "source": [
        "В этом блоке вам нужно решить 3 задания."
      ]
    },
    {
      "cell_type": "markdown",
      "metadata": {
        "id": "se5aEXTvN03t"
      },
      "source": [
        "### Задание 1. Градиенты для слоя Batch normalization (1.5 балла)\n",
        "\n",
        "Рассмотрим слой Batch normalization. Пусть на вход этого слоя был подан батч из $n$ объектов, при этом у всех объектов по 1 признаку. Представим вход BN слоя в виде $X \\in \\mathbb{R}^{n \\times 1}$.\n",
        "\n",
        "Тогда в этом слое производятся следующие вычисления:\n",
        "\n",
        "$$ \\mu = \\frac1n \\sum_{i=1}^{n} X_i $$\n",
        "\n",
        "$$ \\sigma^2 = \\frac1n \\sum_{i=1}^{n} \\left( X_i - \\mu \\right) ^2 $$\n",
        "\n",
        "$$ \\tilde{y_i} = \\frac{X_i - \\mu}{\\sqrt{\\sigma^2 + \\varepsilon}} $$\n",
        "\n",
        "$$ y_i = \\gamma \\tilde{y_i} + \\delta $$\n",
        "\n",
        "Выходом BN слоя является $y_i$, а $\\gamma$ и $\\delta$ в нем — параметры, которые подбираются во время обучения вместе с другими параметрами нейронной сети (наряду, например, с весами линейного слоя).\n",
        "\n",
        "Рассмотрим нейронную сеть, в которой есть BN слой. Предположим, что вычисления в нейронной завершаются подсчетом функции потерь $\\mathcal{L}$. Пусть мы выполнили прямой проход по нейронной сети и сейчас делаем обратный проход с помощью метода обратного распространения ошибки. Пусть BN слою пришел градиент функции потерь по выходу BN слоя ($\\nabla_{y} \\mathcal{L}$).\n",
        "\n",
        "В этом задании вам нужно записать вычисление градиента функции потерь по параметрам слоя BN $\\gamma$ и $\\delta$ ($\\nabla_{\\gamma} \\mathcal{L}$, $\\nabla_{\\delta} \\mathcal{L}$) через $\\nabla_{y} \\mathcal{L}$, а также вам нужно записать вычисление градиента функции потерь по входу слоя BN $X$ ($\\nabla_{X} \\mathcal{L}$) через $\\nabla_{y} \\mathcal{L}$.\n",
        "\n",
        "Хочу заметить, в данном задании мы рассматриваем объекты всего с 1 признаком, чтобы упростить выкладки."
      ]
    },
    {
      "cell_type": "markdown",
      "metadata": {
        "id": "oXC5e5rqN03x"
      },
      "source": [
        "__Ваше решение:__\n",
        "\n",
        "Воспользуемся правилами матрично-векторного дифференцирования. \n",
        "\n",
        "Учтем, что $\\gamma, \\delta$ - настраиваемые параметры, скаляры.\n",
        "\n",
        "$d\\mathcal{L}=\\langle\\nabla_y\\mathcal{L}, dy\\rangle$. Пусть $\\nabla_y\\mathcal{L}$ известен. За $\\vec{1} \\in \\mathbb{R}^{n \\times 1}$ обозначим единичный вектор.\n",
        "\n",
        "\n",
        "$y \\in \\mathbb{R}^{n \\times 1}, y=\\gamma\\tilde{y}+\\delta\\vec{1} \\Rightarrow d\\mathcal{L}=\\langle\\nabla_y\\mathcal{L}, dy\\rangle=\\langle\\nabla_y\\mathcal{L}, \\gamma d\\tilde{y} + \\tilde{y}d\\gamma + \\vec{1}d\\delta\\rangle = \\langle\\nabla_y\\mathcal{L}, \\gamma d\\tilde{y}\\rangle + \\langle\\nabla_y\\mathcal{L}, \\tilde{y}d\\gamma\\rangle + \\langle\\nabla_y\\mathcal{L}, \\vec{1}d\\delta\\rangle = $\n",
        "\n",
        "$=\\langle\\gamma\\nabla_y\\mathcal{L}, d\\tilde{y}\\rangle + \\langle\\tilde{y}^{T}\\nabla_y\\mathcal{L}, d\\gamma\\rangle + \\langle\\vec{1}^{T}\\nabla_y\\mathcal{L}, d\\delta\\rangle \\Rightarrow$\n",
        "\n",
        "$\\Rightarrow \\nabla_\\gamma\\mathcal{L} = \\tilde{y}^{T}\\nabla_y\\mathcal{L}=\\langle\\tilde{y}, \\nabla_y\\mathcal{L}\\rangle, \\nabla_\\delta\\mathcal{L} = \\vec{1}^{T}\\nabla_y\\mathcal{L}=\\langle\\vec{1}, \\nabla_y\\mathcal{L}\\rangle, \\nabla_\\tilde{y}\\mathcal{L}=\\gamma\\nabla_y\\mathcal{L}$\n",
        "\n",
        "$\\nabla_X\\mathcal{L} = \\nabla_\\tilde{y}\\mathcal{L} \\nabla_X\\tilde{y}$\n",
        "\n",
        "$\\tilde{y}=\\frac{X-\\mu\\vec{1}}{\\sqrt{\\sigma^2+\\varepsilon}} \\Rightarrow d\\tilde{y}=d(\\frac{X-\\mu\\vec{1}}{\\sqrt{\\sigma^2+\\varepsilon}})=\\frac{d(X-\\mu\\vec{1})\\sqrt{\\sigma^2+\\varepsilon}-d(\\sqrt{\\sigma^2+\\varepsilon})(X-\\mu\\vec{1})}{\\sigma^2+\\varepsilon}$\n",
        "\n",
        "$X \\in \\mathbb{R}^{n \\times 1}, d(X-\\mu\\vec{1})=dX - \\vec{1}d\\mu$,  $\\mu = \\frac{1}{n}\\sum^{n}_{i=1}X_i = \\frac{1}{n}\\vec{1}^{T}X=\\frac{1}{n}\\langle\\vec{1}, X\\rangle \\Rightarrow $\n",
        "\n",
        "$\\Rightarrow \\vec{1}d\\mu = \\frac{1}{n}\\vec{1}\\vec{1}^{T}dX = \\frac{1}{n}EdX$, где $E \\in \\mathbb{R}^{n \\times n}$ - матрица из единиц.\n",
        "\n",
        "Т. о., $d(X-\\mu\\vec{1})=dX - \\frac{1}{n}EdX = (I - \\frac{1}{n}E)dX, I \\in \\mathbb{R}^{n \\times n} $\n",
        "\n",
        "$\\sigma^2=\\frac{1}{n}\\sum^{n}_{i=1}(X_i-\\mu)^2, d(\\sqrt{\\sigma^2+\\varepsilon})=\\frac{d(\\sigma^2+\\varepsilon)}{2\\sqrt{(\\sigma^2+\\varepsilon)}}=\\frac{d(\\frac{1}{n}\\sum^{n}_{i=1}(X_i-\\mu)^2)}{2\\sqrt{\\sigma^2+\\varepsilon}}=\\frac{d||X-\\mu\\vec{1}||^2}{2n\\sqrt{\\sigma^2+\\varepsilon}}=$\n",
        "\n",
        "$=\\frac{d\\langle(X-\\mu\\vec{1}),(X-\\mu\\vec{1})\\rangle}{2n\\sqrt{\\sigma^2+\\varepsilon}}=\\frac{\\langle(X-\\mu\\vec{1}),d(X-\\mu\\vec{1})\\rangle}{n\\sqrt{\\sigma^2+\\varepsilon}}=\\frac{\\langle(X-\\mu\\vec{1}),(I-\\frac{1}{n}E)dX\\rangle}{n\\sqrt{\\sigma^2+\\varepsilon}}=\\frac{(X-\\mu\\vec{1})^T(I-\\frac{1}{n}E)dX}{n\\sqrt{\\sigma^2+\\varepsilon}} = $\n",
        "\n",
        "$=\\frac{((X-\\mu\\vec{1})^T-(X-\\mu\\vec{1})^T\\frac{1}{n}E)dX}{n\\sqrt{\\sigma^2+\\varepsilon}} = \\frac{(X-\\mu\\vec{1})^TdX}{n\\sqrt{\\sigma^2+\\varepsilon}} \\Rightarrow$\n",
        "\n",
        "$\\Rightarrow d\\tilde{y}=\\frac{(I-\\frac{1}{n}E)dX\\sqrt{\\sigma^2+\\varepsilon}-\\frac{(X-\\mu\\vec{1})^TdX}{n\\sqrt{\\sigma^2+\\varepsilon}}(X-\\mu\\vec{1})}{\\sigma^2+\\varepsilon}=\\frac{(I-\\frac{1}{n}E)\\sqrt{\\sigma^2+\\varepsilon}-\\frac{1}{n\\sqrt{\\sigma^2+\\varepsilon}}(X-\\mu\\vec{1})(X-\\mu\\vec{1})^T}{\\sigma^2+\\varepsilon}dX=(\\frac{(I-\\frac{1}{n}E)}{\\sqrt{\\sigma^2+\\varepsilon}}- \\frac{(X-\\mu\\vec{1})(X-\\mu\\vec{1})^T}{n(\\sigma^2+\\varepsilon)^{\\frac{3}{2}}})dX \\Rightarrow$\n",
        "\n",
        "$\\Rightarrow \\nabla_X\\mathcal{L}=(\\frac{(I-\\frac{1}{n}E)}{\\sqrt{\\sigma^2+\\varepsilon}}- \\frac{(X-\\mu\\vec{1})(X-\\mu\\vec{1})^T}{n(\\sigma^2+\\varepsilon)^{\\frac{3}{2}}})\\gamma\\nabla_y\\mathcal{L}$\n",
        "\n"
      ]
    },
    {
      "cell_type": "markdown",
      "metadata": {
        "id": "s5N6YbZ5N032"
      },
      "source": [
        "### Задание 2. Вывод инициализации весов линейного слоя при использовании ReLU в качестве функции активации (1 балл)\n",
        "\n",
        "Рассмотрим полносвязную нейронную сеть с функцией активации $g(y)$. Пусть сеть состоит из $L$ слоев и размер входа слоя $l$ равен $n_l\\ \\ (l = \\overline{1, L})$.\n",
        "\n",
        "Обозначим за $x^l \\in \\mathbb{R}^{n_{l}}$ вход слоя $l$, за $y^l \\in \\mathbb{R}^{n_{l+1}}$ — выход слоя $l$, за $W^l \\in \\mathbb{R}^{n_{l+1} \\times n_{l}}$ — веса слоя $l$, за $b^l \\in \\mathbb{R}^{n_{l+1}}$ — вектор сдвига слоя $l$.\n",
        "\n",
        "Тогда\n",
        "$$y^l = W^l x^l + b^l,$$\n",
        "$$x^{l+1} = g(y^l).$$\n",
        "\n",
        "На паре вы выводили хорошую инициализацию для линейного слоя в случае, когда в качестве функции активации $g(y)$ в нейронной сети используется гиперболический тангенс $g(y) = \\tanh(y)$. Сейчас вам нужно сделать подобный вывод для случая, когда в сети в качестве функций активации используется $g(y) = ReLU(y) = \\max(0, y)$.\n",
        "\n",
        "Сделаем следующие предположения насчет того, как распределены веса $W^l$, вектор сдвига $b^l$, входной вектор $x^l$, выходной вектор $y^l$ линейного слоя и градиенты функции потерь $\\frac{\\partial L}{\\partial y^{l}}$ $(l = \\overline{1, L}$):\n",
        "\n",
        "1. Все компоненты в $W^l$ распределены одинаково и независимо друг от друга;\n",
        "2. Все компоненты в $y^l$ распределены одинаково и независимо друг от друга;\n",
        "3. Все компоненты в $x^l$ распределены одинаково и независимо друг от друга;\n",
        "4. Все компоненты в $\\frac{\\partial L}{\\partial y^{l}}$ распределены одинаково и независимо друг от друга;\n",
        "5. Все компоненты в $W^l$ и все компоненты в $x^l$ независимы друг от друга;\n",
        "6. Все компоненты в $W^l$ имеют четную плотность распределения (то есть симметричную относительно нуля: $p_{W^l}(-x) = p_{W^l}(x)$);\n",
        "7. Все компоненты в $W^l$ имеют конечное матожидание;\n",
        "8. Вектор $b^l$ инициализирован нулями.\n",
        "\n",
        "\n",
        "Подсказки:\n",
        "1. Из пунктов 6 и 7 следует, что все компоненты в $W^l$ имеют нулевое среднее ($\\mathbb{E} W^l_{ij} = 0\\ \\ \\forall i = \\overline{1, n_{l+1}}, j = \\overline{1, n_{l}}$) (докажите);\n",
        "2. Из пунктов 6 и 7 следует, что все компоненты в $y^l$ имеют нулевое среднее и четную плотность распределения (докажите)."
      ]
    },
    {
      "cell_type": "markdown",
      "metadata": {
        "id": "EgvvxTZ4N036"
      },
      "source": [
        "__Ваше решение:__\n",
        "\n",
        "$g(y)=ReLU(y)=max(0, y)$, компоненты $W_{ij}^{l}$ имеют четную потность распределения. Используем это и применим следующий трюк:\n",
        "\n",
        "$W_{ij}^{l}=g(W^{l}_{ij})-g(-W^{l}_{ij})$\n",
        "\n",
        "$\\mathbb{E}W_{ij}^{l}=\\mathbb{E}g(W^{l}_{ij})-\\mathbb{E}g(-W^{l}_{ij})$. Используем определение матожидания и четность распределения $W_{ij}^{l}$:\n",
        "\n",
        "$\\mathbb{E}W^{l}_{ij}=\\mathbb{E}g(W^{l}_{ij})-\\mathbb{E}g(-W^{l}_{ij})=\\int_{0}^{+\\infty}W^{l}_{ij}p_{W_{ij}^{l}}(x)dx-\\int_{-\\infty}^{0}(-W^{l}_{ij})p_{W^{l}_{ij}}(x)dx=$\n",
        "\n",
        "$=\\int_{0}^{+\\infty}W^{l}_{ij}p_{W_{ij}^{l}}(x)dx-\\int_{0}^{+\\infty}W^{l}_{ij}p_{W^{l}_{ij}}(x)dx=0$\n",
        "\n",
        "$y^{l}=W^{l}x^{l}+b^{l}$, $b^{l}$ инициализирован нулями $\\Rightarrow \\mathbb{E}y^{l}_{i}=\\mathbb{E}(\\sum^{n_l}_{j=1}W_{ij}^{l}x_{j}^{l})=\\sum^{n_{l}}_{j=1}\\mathbb{E}W^{l}_{ij}\\mathbb{E}x_{j}^{l}=0$\n",
        "\n",
        "Рассмотрим распределение компонент $y^{l}_{i}$. Т. к. $y^{l}=W^{l}x^{l}+b^{l}$, применим известную формулу для плотности распределения двух независимых случайных величин:\n",
        "\n",
        "$p_{y^{l}}(y)=\\int_{-\\infty}^{+\\infty}p_{x^{l}}(x)p_{W^{l}}(\\frac{y}{x})\\frac{dx}{|x|}=$ \\{модуль\\} $=\\int_{-\\infty}^{+\\infty}p_{x^{l}}(x)p_{W^{l}}(-\\frac{y}{x})\\frac{dx}{|x|}=p_{y^{l}}(-y) \\Rightarrow$ плотность распределения $y^{l}$ - четна.\n",
        "\n",
        "\n",
        "$\\mathbb{D}y^{l}_{i}=\\mathbb{D}(\\sum_{j=1}^{n_{l}}W^{l}_{ij}x^{l}_{j})=\\sum^{n_l}_{j=1}\\mathbb{D}(W^{l}_{ij}x^{l}_{j})=$ \\{формула дисперсии двух независимо распределенных с. в. } $=$\n",
        "\n",
        "$=\\sum_{j=1}^{n_{l}}(\\mathbb{D}W^{l}_{ij}\\mathbb{D}x^{l}_{j}+(\\mathbb{E}W^{l}_{ij})^2\\mathbb{D}x^{l}_{j}+(\\mathbb{E}x^{l}_{j})^2\\mathbb{D}W^{l}_{ij})=\\sum_{j=1}^{n_{l}}(\\mathbb{D}W^{l}_{ij}\\mathbb{D}x^{l}_{j}+(\\mathbb{E}x^{l}_{j})^2\\mathbb{D}W^{l}_{ij})=\\sum_{j=1}^{n_{l}}(\\mathbb{D}W^{l}_{ij}(\\mathbb{E}(x^{l}_{j})^2-(\\mathbb{E}x^{l}_{j})^2)+(\\mathbb{E}x^{l}_{j})^2\\mathbb{D}W^{l}_{ij})=\\sum_{j=1}^{n_{l}}(\\mathbb{D}W^{l}_{ij}\\mathbb{E}(x^{l}_{j})^2)=n_{l}\\mathbb{D}W^{l}_{ij}\\mathbb{E}(x^{l}_{j})^2=n_{l}\\mathbb{D}W^{l}\\mathbb{E}(x^{l})^2$\n",
        "\n",
        "$x^{l}=g(y^{l-1}) \\Rightarrow \\mathbb{D}y^{l}_{i}=\\mathbb{D}y^{l}=n_{l}\\mathbb{D}W^{l}\\mathbb{E}(g(y^{l-1}))^2$\n",
        "\n",
        "$\\mathbb{E}(g(y^{l-1}))^2=\\mathbb{E}((g(y^{l-1}))^2|y^{l-1}\\leq0)\\mathbb{P}(y^{l-1}\\leq0)+\\mathbb{E}((g(y^{l-1}))^2|y^{l-1}>0)\\mathbb{P}(y^{l-1}>0)$\n",
        "\n",
        "Пусть $\\mathbb{P}(y^{l-1} \\leq 0)=\\mathbb{P}(y^{l-1} > 0)=\\frac{1}{2} \\Rightarrow$\n",
        "\n",
        "$\\Rightarrow \\mathbb{E}(g(y^{l-1}))^2=\\frac{1}{2}(\\mathbb{E}(0|y^{l-1} \\leq 0)+\\mathbb{E}((y^{l-1})^2|y^{l-1} > 0))=\\frac{1}{2}\\mathbb{E}(y^{l-1})^2$\n",
        "\n",
        "$\\mathbb{E}y^l=0 \\Rightarrow \\mathbb{E}(g(y^{l-1}))^2=\\frac{1}{2}(\\mathbb{E}(y^{l-1})^2-(\\mathbb{E}y^{l-1})^2)=\\frac{1}{2}\\mathbb{D}y^{l-1} \\Rightarrow$\n",
        "\n",
        "$\\Rightarrow \\mathbb{D}y^{l}=\\frac{1}{2}n_{l}\\mathbb{D}W^{l}\\mathbb{D}y^{l-1}$\n",
        "\n",
        "Хотим добиться того, чтобы среднее и дисперсия выходов слоев сохранялись $\\Rightarrow$\n",
        "\n",
        "$\\Rightarrow \\mathbb{D}y^{l}=\\mathbb{D}y^{l-1} \\Rightarrow 1=\\frac{1}{2}n_{l}\\mathbb{D}W^{l} \\Rightarrow \\mathbb{D}W^{l}=\\frac{2}{n_{l}}$\n",
        "\n",
        "До этого рассматривался прямой проход по сети. Рассмотрим обратный проход.\n",
        "\n",
        "Пусть $\\mathcal{L}$-функция потерь. $g^{'}(y)=[y > 0]$.\n",
        "\n",
        "$\\frac{\\partial \\mathcal{L}}{\\partial y^{l-1}_{j}}=g^{'}(y^{l}_{j})\\sum^{n_{l}}_{i=1}W^{l}_{ij}\\frac{\\partial \\mathcal{L}}{\\partial y^{l}_{i}}=[y^{l}_{j}>0]\\sum^{n_{l}}_{i=1}W^{l}_{ij}\\frac{\\partial \\mathcal{L}}{\\partial y^{l}_{i}}$\n",
        "\n",
        "$\\mathbb{E}\\frac{\\partial \\mathcal{L}}{\\partial y^{l-1}_{j}}=\\mathbb{P}(y^{l}_{j}>0)\\mathbb{E}(\\sum^{n_{l}}_{i=1}W^{l}_{ij}\\frac{\\partial \\mathcal{L}}{\\partial y^{l}_{i}})=\\mathbb{P}(y^{l}_{j}>0)\\sum^{n_{l}}_{i=1}\\mathbb{E}W^{l}_{ij}\\mathbb{E}\\frac{\\partial \\mathcal{L}}{\\partial y^{l}_{i}}=0$\n",
        "\n",
        "$\\mathbb{D}\\frac{\\partial \\mathcal{L}}{\\partial y^{l-1}_{j}}=\\mathbb{D}([y^{l}_{j}>0]\\sum^{n_{l}}_{i=1}W^{l}_{ij}\\frac{\\partial \\mathcal{L}}{\\partial y^{l}_{i}})=\\mathbb{D}[y^{l}_{j}>0]\\mathbb{D}(\\sum^{n_{l}}_{i=1}W^{l}_{ij}\\frac{\\partial \\mathcal{L}}{\\partial y^{l}_{i}})+(\\mathbb{E}[y^{l}_{j}>0])^2\\mathbb{D}(\\sum^{n_{l}}_{i=1}W^{l}_{ij}\\frac{\\partial \\mathcal{L}}{\\partial y^{l}_{i}})+\\mathbb{D}[y^{l}_{j}>0](\\mathbb{E}(\\sum^{n_{l}}_{i=1}W^{l}_{ij}\\frac{\\partial \\mathcal{L}}{\\partial y^{l}_{i}}))^2$\n",
        "\n",
        "$\\mathbb{E}[y^{l}_{j}>0]=\\frac{1}{2} \\Rightarrow \\mathbb{D}[y^{l}_{j}>0]=\\mathbb{E}[y^{l}_{j}>0]^2-(\\mathbb{E}[y^{l}_{j}>0])^2=\\frac{1}{2}-\\frac{1}{4}=\\frac{1}{4} \\Rightarrow $\n",
        "\n",
        "$\\Rightarrow \\mathbb{D}\\frac{\\partial \\mathcal{L}}{\\partial y^{l-1}_{j}}=\\frac{1}{2}\\mathbb{D}(\\sum^{n_{l}}_{i=1}W^{l}_{ij}\\frac{\\partial \\mathcal{L}}{\\partial y^{l}_{i}})=\\frac{1}{2}\\sum_{i=1}^{n_{l}}\\mathbb{D}(W^{l}_{ij}\\frac{\\partial \\mathcal{L}}{\\partial y^{l}_{i}})=\\frac{n_{l}}{2}(\\mathbb{D}W^{l}_{ij}\\mathbb{D}\\frac{\\partial \\mathcal{L}}{\\partial y^{l}_{i}}+(\\mathbb{E}W^{l}_{ij})^2\\mathbb{D}\\frac{\\partial \\mathcal{L}}{\\partial y^{l}_{i}}+(\\mathbb{E}\\frac{\\partial \\mathcal{L}}{\\partial y^{l}_{i}})^2\\mathbb{D}W^{l}_{ij})=\\frac{n_{l}}{2}\\mathbb{D}W^{l}_{ij}\\mathbb{D}\\frac{\\partial \\mathcal{L}}{\\partial y^{l}_{i}}$\n",
        "\n",
        "Дисперсии градиентов на каждом слое должны сохраняться $\\Rightarrow$\n",
        "\n",
        "$\\Rightarrow \\mathbb{D}\\frac{\\partial \\mathcal{L}}{\\partial y^{l}_{j}}=\\mathbb{D}\\frac{\\partial \\mathcal{L}}{\\partial y^{l-1}_{j}} \\Rightarrow 1=\\frac{n_{l}}{2}\\mathbb{D}W^{l} \\Rightarrow \\mathbb{D}W^{l}=\\frac{2}{n_{l}}$\n",
        "\n",
        "Таким образом, получили формулу дисперсии для весов, позволяющую достигнуть постоянности дисперсии выходов и градиентов по слоям. Таким образом, веса должны иметь среднее $0$ и дисперсию $\\frac{2}{n_{l}}$. При этом, чтобы выполнялась сохранность дисперсий выходов и градиентов, все слои сети должны иметь одинаковое число нейронов $n_{l}$.\n",
        "\n",
        "Однако в данной задаче не специфицировано распределение. Удобно брать симметричное распределение, к примеру, нормальное, и тогда инициализация весов будет следующей: $W^{l} \\sim \\mathcal{N}(0, \\frac{2}{n_{l}})$. В целом можно сэмплировать и из других распределений."
      ]
    },
    {
      "cell_type": "markdown",
      "metadata": {
        "heading_collapsed": true,
        "id": "yPmviC-sN037"
      },
      "source": [
        "### Задание 3. Почему функция активации $ReLU(y) = \\max(0, y)$ предпочтительней сигмоиды $\\sigma(y) = \\frac{1}{1 + \\exp(-y)}$ в нейронных сетях? (0.5 балла)\n",
        "\n",
        "Дайте развернутый ответ на вопрос \"Почему функция активации $ReLU(y) = \\max(0, y)$ предпочтительней сигмоиды $\\sigma(y) = \\frac{1}{1 + \\exp(-y)}$ в нейронных сетях?\""
      ]
    },
    {
      "cell_type": "markdown",
      "metadata": {
        "hidden": true,
        "id": "3dJUkMG3N03_"
      },
      "source": [
        "__Ваш ответ:__\n",
        "\n",
        "В случае использования сигмоиды как функции активации возникает проблема затухания градиентов. Производная сигмоиды равна $\\frac{1}{1+exp(-y)}(1-\\frac{1}{1+exp(-y)})=\\frac{exp(-y)}{(1+exp(-y))^2}$. Это значение близко к 0 при сколь нибудь больших по модулю значениях $y$, как положительных, так и отрицательных, что можно увидеть на графике функции. Таким образом, производная сигмоиды близка к 0 почти на всей вещественной прямой. При обратном распространении по сети эти производные будут перемножаться, и итоговые градиенты будут практически нулевыми, т. е. веса практически не будут обучаться. \n",
        "\n",
        "Если же рассматривать функцию $ReLU(y)=max(0, y)$, то ее производная равна 1 на положительной полуоси, 0 на отрицательной, и проблема затухания градиентов отстутствует.\n",
        "\n",
        "Стоит также отметить, что использование сигмоиды предполагает вычисление экспоненты, что значительно более затратно, чем вычисление $ReLU$ и ее производной.\n",
        "\n",
        "Также сигмоида чувствительна к значениям и инициализации весов. Если $y^{l}=W^{l}x^{l}+b^{l}$, то при больших значениях весов $W^{l}$ производная сигмоиды будет почти нулевой. В таком случае сеть перестанет обучаться уже на самых первых итерациях. $ReLU$ же не так чувствительна к значениям весов и их инициализации. "
      ]
    },
    {
      "cell_type": "markdown",
      "metadata": {
        "hidden": true,
        "id": "LRCZTT3eN04B"
      },
      "source": [
        "---"
      ]
    },
    {
      "cell_type": "markdown",
      "metadata": {
        "id": "z0P1pAUSN04E"
      },
      "source": [
        "## Практическая часть (7 баллов)"
      ]
    },
    {
      "cell_type": "markdown",
      "metadata": {
        "heading_collapsed": true,
        "id": "FDXKhyvQN04F"
      },
      "source": [
        "### Реализация нейронной сети (3 балла)"
      ]
    },
    {
      "cell_type": "markdown",
      "metadata": {
        "hidden": true,
        "id": "-_ynbp17N04G"
      },
      "source": [
        "В этом задании вы обучите полносвязную нейронную сеть распознавать рукописные цифры (а что же еще, если не их :), [почти] самостоятельно реализовав все составляющие алгоритма обучения и предсказания.\n",
        "\n",
        "Для начала нам понадобится реализовать прямой и обратный проход через слои. Наши слои будут соответствовать следующему интерфейсу (на примере \"тождественного\" слоя):"
      ]
    },
    {
      "cell_type": "code",
      "execution_count": 3,
      "metadata": {
        "ExecuteTime": {
          "end_time": "2021-03-03T14:44:48.924967Z",
          "start_time": "2021-03-03T14:44:48.912996Z"
        },
        "hidden": true,
        "id": "j7gkbnnlN04I"
      },
      "outputs": [],
      "source": [
        "class IdentityLayer:\n",
        "    \"\"\"\n",
        "    A building block. Each layer is capable of performing two things:\n",
        "\n",
        "    - Process input to get output:           \n",
        "    output = layer.forward(input)\n",
        "\n",
        "    - Propagate gradients through itself:    \n",
        "    grad_input = layer.backward(input, grad_output)\n",
        "\n",
        "    Some layers also have learnable parameters.\n",
        "\n",
        "    Modified code from cs.hse DL course *\n",
        "    \"\"\"\n",
        "    def __init__(self):\n",
        "        \"\"\"\n",
        "        Here you can initialize layer parameters (if any) \n",
        "        and auxiliary stuff. You should enumerate all parameters\n",
        "        in self.params\n",
        "        \"\"\"\n",
        "        # An identity layer does nothing\n",
        "        self.params = []\n",
        "        pass\n",
        "\n",
        "    def forward(self, input):\n",
        "        \"\"\"\n",
        "        Takes input data of shape [batch, input_units], \n",
        "        returns output data [batch, output_units]\n",
        "        \"\"\"\n",
        "        # An identity layer just returns whatever it gets as input.\n",
        "        self.input = input\n",
        "        return input\n",
        "\n",
        "    def backward(self, grad_output): \n",
        "        \"\"\"\n",
        "        Performs a backpropagation step through the layer, \n",
        "        with respect to the given input.\n",
        "\n",
        "        To compute loss gradients w.r.t input, \n",
        "        you need to apply chain rule (backprop):\n",
        "\n",
        "        d `loss` / d `input` = (d `loss` / d `layer`) * (d `layer` / d `input`)\n",
        "\n",
        "        Luckily, you already receive d `loss` / d `layer` in argument, \n",
        "        so you only need to multiply it by d `layer` / d `input`.\n",
        "\n",
        "        NB: Sometimes d `layer` / d `input` can be a 3D or even 4D tensor.\n",
        "        So it's better to write down the `loss` differential and extract\n",
        "        d `layer` / d `input` from it so that only 2D tensors were present.\n",
        "\n",
        "        The method returns:\n",
        "        * gradient w.r.t input (will be passed to \n",
        "          previous layer's backward method)\n",
        "        * flattened gradient w.r.t. parameters (with .ravel() \n",
        "          applied to each gradient). \n",
        "          If there are no params, return []\n",
        "        \"\"\"\n",
        "        # The gradient of an identity layer is precisely grad_output\n",
        "        input_dim = self.input.shape[1]\n",
        "\n",
        "        d_layer_d_input = np.eye(input_dim)\n",
        "\n",
        "        return np.dot(grad_output, d_layer_d_input), [] # chain rule"
      ]
    },
    {
      "cell_type": "markdown",
      "metadata": {
        "id": "ANLNUDpDN04N"
      },
      "source": [
        "### Слой нелинейности ReLU\n",
        "\n",
        "Для начала реализуем слой нелинейности $ReLU(y) = \\max(0, y)$. Параметров у слоя нет. Метод `forward` должен вернуть результат поэлементного применения $ReLU$ к входному массиву, метод `backward` — градиент функции потерь по входу слоя. В нуле будем считать производную равной 0. Обратите внимание, что при обратном проходе могут понадобиться величины, посчитанные во время прямого прохода, поэтому их стоит сохранить как атрибут класса."
      ]
    },
    {
      "cell_type": "code",
      "execution_count": 4,
      "metadata": {
        "ExecuteTime": {
          "end_time": "2021-03-03T14:44:48.939926Z",
          "start_time": "2021-03-03T14:44:48.928957Z"
        },
        "id": "O1jasaRvN04Q"
      },
      "outputs": [],
      "source": [
        "class ReLU:\n",
        "    \"\"\"\n",
        "    Modified code from cs.hse DL course *\n",
        "    \"\"\"\n",
        "    def __init__(self):\n",
        "        \"\"\"ReLU layer simply applies elementwise rectified linear unit to all inputs\"\"\"\n",
        "        self.params = [] # ReLU has no parameters\n",
        "\n",
        "    def forward(self, input):\n",
        "        \"\"\"Apply elementwise ReLU to [batch, num_units] matrix\"\"\"\n",
        "        ### your code here\n",
        "        self.output = input * (input > 0)\n",
        "        return self.output\n",
        "        \n",
        "    def backward(self, grad_output):\n",
        "        \"\"\"Compute gradient of loss w.r.t. ReLU input\n",
        "        grad_output shape: [batch, num_units]\n",
        "        output 1 shape: [batch, num_units]\n",
        "        output 2: []\n",
        "        \"\"\"\n",
        "        ### your code here\n",
        "        return grad_output * (self.output > 0), []\n",
        "    \n",
        "    def __repr__(self):\n",
        "        return 'Relu()'"
      ]
    },
    {
      "cell_type": "markdown",
      "metadata": {
        "id": "6Q2M7_xJN04S"
      },
      "source": [
        "### Полносвязный слой\n",
        "Далее реализуем полносвязный слой без нелинейности. У слоя два параметра: матрица весов и вектор сдвига.\n",
        "\n",
        "Обратите внимание на второй аргумент: в нем надо возвращать градиент по всем параметрам в одномерном виде. Для этого надо сначала применить `.ravel()` ко всем градиентам, а затем воспользоваться `np.r_`:"
      ]
    },
    {
      "cell_type": "code",
      "execution_count": 5,
      "metadata": {
        "ExecuteTime": {
          "end_time": "2021-03-03T14:44:48.971838Z",
          "start_time": "2021-03-03T14:44:48.943913Z"
        },
        "colab": {
          "base_uri": "https://localhost:8080/"
        },
        "id": "qk8FxhhQN04T",
        "outputId": "c9e68d5d-330d-4641-e91c-3c93d0d44c63"
      },
      "outputs": [
        {
          "output_type": "execute_result",
          "data": {
            "text/plain": [
              "array([1., 0., 0., 0., 1., 0., 0., 0., 1., 0., 1., 2., 3.])"
            ]
          },
          "metadata": {},
          "execution_count": 5
        }
      ],
      "source": [
        "# example\n",
        "np.r_[np.eye(3).ravel(), np.arange(4)]"
      ]
    },
    {
      "cell_type": "code",
      "execution_count": 6,
      "metadata": {
        "ExecuteTime": {
          "end_time": "2021-03-03T14:44:48.987794Z",
          "start_time": "2021-03-03T14:44:48.975827Z"
        },
        "id": "07g6ugAMN04V"
      },
      "outputs": [],
      "source": [
        "class Dense:\n",
        "    \"\"\"\n",
        "    Modified code from cs.hse DL course *\n",
        "    \"\"\"\n",
        "    def __init__(self, input_units, output_units):\n",
        "        \"\"\"\n",
        "        A dense layer is a layer which performs a learned affine transformation:\n",
        "        f(x) = x W + b\n",
        "        \"\"\"\n",
        "        # initialize weights with small random numbers from normal distribution\n",
        "        self.weights = np.random.randn(input_units, output_units) * 0.01\n",
        "        self.biases = np.zeros(output_units)\n",
        "        self.params = [self.weights, self.biases]\n",
        "\n",
        "    def forward(self,input):\n",
        "        \"\"\"\n",
        "        Perform an affine transformation:\n",
        "        f(x) = x W + b\n",
        "        \n",
        "        input shape: [batch, input_units]\n",
        "        output shape: [batch, output units]\n",
        "        \"\"\"\n",
        "        ### your code here\n",
        "        self.input = input\n",
        "        self.output = np.dot(input, self.weights) + self.biases\n",
        "        return self.output\n",
        "\n",
        "    def backward(self, grad_output):\n",
        "        \"\"\"\n",
        "        compute gradients\n",
        "        grad_output shape: [batch, output_units]\n",
        "        output shapes: [batch, input_units], [num_params]\n",
        "        \n",
        "        hint: use function np.r_\n",
        "        np.r_[np.arange(3), np.arange(3)] = [0, 1, 2, 0, 1, 2]\n",
        "        \"\"\"\n",
        "        ### your code here\n",
        "        dLdx = np.dot(grad_output, self.weights.T)\n",
        "        dLdw = np.dot(self.input.T, grad_output)\n",
        "        dLdb = np.sum(grad_output, axis=0)\n",
        "        return dLdx, np.r_[dLdw.ravel(), dLdb.ravel()]\n",
        "    \n",
        "    def __repr__(self):\n",
        "        return f'Dense({self.weights.shape[0]}, {self.weights.shape[1]})'"
      ]
    },
    {
      "cell_type": "markdown",
      "metadata": {
        "id": "iKKkLnclN04Y"
      },
      "source": [
        "### Проверка градиента\n",
        "\n",
        "Проверим правильность реализации с помощью функции численной проверки градиента. Функция `eval_numerical_gradient` принимает на вход callable объект `f` (функцию от одного аргумента-матрицы) и аргумент `x` и вычисляет приближенный градиент функции `f` в точке `x`."
      ]
    },
    {
      "cell_type": "code",
      "execution_count": 7,
      "metadata": {
        "ExecuteTime": {
          "end_time": "2021-03-03T14:44:49.003751Z",
          "start_time": "2021-03-03T14:44:48.990787Z"
        },
        "id": "ATI-qdYIN04Z"
      },
      "outputs": [],
      "source": [
        "def eval_numerical_gradient(f, x, verbose=False, h=0.00001):\n",
        "    \"\"\"\n",
        "    Evaluates gradient df/dx via finite differences:\n",
        "    df/dx ~ (f(x+h) - f(x-h)) / 2h\n",
        "    Adopted from https://github.com/ddtm/dl-course/\n",
        "    \"\"\"\n",
        "    fx = f(x) # evaluate function value at original point\n",
        "    grad = np.zeros_like(x)\n",
        "    # iterate over all indexes in x\n",
        "    it = np.nditer(x, flags=['multi_index'], op_flags=['readwrite'])\n",
        "    while not it.finished:\n",
        "\n",
        "        # evaluate function at x+h\n",
        "        ix = it.multi_index\n",
        "        oldval = x[ix]\n",
        "        x[ix] = oldval + h # increment by h\n",
        "        fxph = f(x) # evalute f(x + h)\n",
        "        x[ix] = oldval - h\n",
        "        fxmh = f(x) # evaluate f(x - h)\n",
        "        x[ix] = oldval # restore\n",
        "\n",
        "        # compute the partial derivative with centered formula\n",
        "        grad[ix] = (fxph - fxmh) / (2 * h) # the slope\n",
        "        if verbose:\n",
        "            print (ix, grad[ix])\n",
        "        it.iternext() # step to next dimension\n",
        "\n",
        "    return grad"
      ]
    },
    {
      "cell_type": "markdown",
      "metadata": {
        "id": "VrG6xOKLN04b"
      },
      "source": [
        "Вычислите аналитический и численный градиенты по входу слоя ReLU от функции\n",
        "$$ f(y) = \\sum_i y_i, \\quad y = ReLU(x) $$\n",
        "\n",
        "Выпишите аналитический градиент в этой ячейке:\n",
        "\n",
        "$\\nabla_xf=\\nabla_yf\\nabla_xy$, $\\nabla_xy=[x>0]$\n",
        "\n",
        "$f(y)=E_1yE_2$, $E_1 = \\vec{1} \\in \\mathbb{R}^{1 \\times batch}$, $E_2 = \\vec{1} \\in \\mathbb{R}^{input\\_units \\times 1}$ - вектора из единиц.\n",
        "\n",
        "$df=E_1dyE_2=\\langle E_1^T, dyE_2\\rangle=\\langle E_1^TE_2^T, dy \\rangle \\Rightarrow \\nabla_yf=E \\in \\mathbb{R}^{batch \\times input\\_units}$ - матрица из единиц, $\\Rightarrow$\n",
        "\n",
        "$\\Rightarrow \\nabla_xf=[x>0] \\in \\mathbb{R}^{batch \\times input\\_units}$"
      ]
    },
    {
      "cell_type": "markdown",
      "metadata": {
        "id": "Xp9H6ZxKN04b"
      },
      "source": [
        "Следующая ячейка после заполнения должна не выдавать ошибку :)"
      ]
    },
    {
      "cell_type": "code",
      "execution_count": 8,
      "metadata": {
        "ExecuteTime": {
          "end_time": "2021-03-03T14:44:49.034673Z",
          "start_time": "2021-03-03T14:44:49.006744Z"
        },
        "id": "CCetsZmCN04d"
      },
      "outputs": [],
      "source": [
        "relu = ReLU()\n",
        "points = np.linspace(-1, 1, 10*12).reshape([10, 12])\n",
        "\n",
        "### your code here\n",
        "### grads = \n",
        "### numeric_grads = \n",
        "\n",
        "temp = relu.forward(points)\n",
        "grads, params = relu.backward(np.ones(relu.output.shape))\n",
        "numeric_grads = eval_numerical_gradient(lambda x: relu.forward(x).sum(), points)\n",
        "\n",
        "assert np.allclose(grads, numeric_grads, rtol=1e-3, atol=0)"
      ]
    },
    {
      "cell_type": "markdown",
      "metadata": {
        "id": "pArt8fAyN04f"
      },
      "source": [
        "Вычислите аналитический и численный градиенты по входу полносвязного слоя от функции\n",
        "$$ f(y) = \\sum_i y_i, \\quad y = W x + b $$\n",
        "\n",
        "Выпишите аналитический градиент в этой ячейке (советуем выписать градиент через дифференциал функции $f$):\n",
        "\n",
        "Судя по всему, в данной задаче считается, что $x \\in \\mathbb{R}^{input\\_units \\times batch}$, $W \\in \\mathbb{R}^{output\\_units \\times input\\_units}$, $y \\in \\mathbb{R}^{output\\_units \\times batch}$, в коде соответствующего слоя же считается иначе.\n",
        "\n",
        "$f(y)=E_1yE_2=E_1(Wx+b)E_2=E_1WxE_2+E_1bE_2$, где $E_1 = \\vec{1} \\in \\mathbb{R}^{1 \\times output\\_units}$, $E_2 = \\vec{1} \\in \\mathbb{R}^{batch \\times 1}$\n",
        "\n",
        "$df=E_1WdxE_2+E_1dWxE_2+E_1dbE_2=\\langle W^TE_1^T, dxE_2 \\rangle + E_1dWxE_2+E_1dbE_2=\\langle W^TE_1^TE_2^T, dx \\rangle + E_1dWxE_2+E_1dbE_2 \\Rightarrow$\n",
        "\n",
        "$\\Rightarrow \\nabla_xf=W^TE$, $E \\in \\mathbb{R}^{output\\_units \\times batch}$ - матрица из единиц\n"
      ]
    },
    {
      "cell_type": "markdown",
      "metadata": {
        "id": "e1sz5LF5N04g"
      },
      "source": [
        "Следующая ячейка после заполнения должна не выдавать ошибку :)"
      ]
    },
    {
      "cell_type": "code",
      "execution_count": 11,
      "metadata": {
        "ExecuteTime": {
          "end_time": "2021-03-03T14:44:49.066624Z",
          "start_time": "2021-03-03T14:44:49.041651Z"
        },
        "id": "Hjqmvu60N04h"
      },
      "outputs": [],
      "source": [
        "linear = Dense(12, 32)\n",
        "points = np.linspace(-1, 1, 10*12).reshape([10, 12])\n",
        "\n",
        "### your code here\n",
        "### grads = \n",
        "### numeric_grads = \n",
        "\n",
        "temp = linear.forward(points)\n",
        "grads, params = linear.backward(np.ones(linear.output.shape))\n",
        "numeric_grads = eval_numerical_gradient(lambda x: linear.forward(x).sum(), points)\n",
        "\n",
        "assert np.allclose(grads, numeric_grads, rtol=1e-3, atol=0)"
      ]
    },
    {
      "cell_type": "markdown",
      "metadata": {
        "id": "VWIwEwaWN04i"
      },
      "source": [
        "### Реализация softmax-слоя и функции потерь"
      ]
    },
    {
      "cell_type": "markdown",
      "metadata": {
        "id": "KtHsv7WWN04i"
      },
      "source": [
        "Для решения задачи многоклассовой классификации обычно используют $softmax$ в качестве нелинейности на последнем слое, чтобы получить вероятности классов для каждого объекта:\n",
        "$$\\hat y = softmax(x)  = \\left \\{\\frac {\\exp(x^i)}{\\sum_{j=1}^K \\exp(x^j)} \\right \\}_{i=1}^K, \\quad K - \\text{число классов.}$$\n",
        "\n",
        "Здесь за $x^i$ мы обозначаем $i$-ый признак объекта $x$.\n",
        "\n",
        "В качестве функции потерь выберем отрицательный логарифм правдоподобия (по английски: negative log likelihood или NLL)\n",
        "$$L(y, \\hat y) = -\\sum_{i=1}^K y^i \\log \\hat y^i,$$\n",
        "где $y^i = 1$, если объект принадлежит $i$-му классу, и $y^i = 0$ иначе.\n",
        "\n",
        "NLL совпадает с выражением для [кросс-энтропии](https://ru.wikipedia.org/wiki/Перекрёстная_энтропия) (в качестве первого распределения берем вырожденное распределение $y$, в качестве второго — предсказанное распределение $\\hat y$). Очевидно, что эту функцию потерь также можно переписать через индексацию, если через $y$ обозначить класс данного объекта:\n",
        "$$L(y, \\hat y) = - \\log \\hat y_{y}$$\n",
        "\n",
        "В таком виде ее удобно реализовывать."
      ]
    },
    {
      "cell_type": "markdown",
      "metadata": {
        "ExecuteTime": {
          "end_time": "2021-03-03T13:13:02.970075Z",
          "start_time": "2021-03-03T13:13:02.961134Z"
        },
        "id": "S6FflGBjN04k"
      },
      "source": [
        "Для обучения нейронной сети будем оптимизировать эту функцию потерь по параметрам нейронной сети:\n",
        "\n",
        "$$ \\frac1N \\sum_{i=1}^N L(y_i, \\hat y_i) = \\frac1N \\sum_{i=1}^N L(y_i, \\text{NN}(x_i)) \\rightarrow \\min_{w}\\,,$$\n",
        "где за $x_i$ и $y_i$ мы обозначили признаки и таргет $i$-ого объекта обучающей выборки, за $\\text{NN}$ мы обозначили нейронную сеть, которая по признакам объекта $x_i$ выдает распределение вероятностей $\\hat y_i$, за $w$ мы обозначили все веса нейронной сети, а $N$ — это число объектов в обучающей выборке."
      ]
    },
    {
      "cell_type": "markdown",
      "metadata": {
        "id": "sAxGhADKN04l"
      },
      "source": [
        "Реализуйте слой `LogSoftmax` (у этого слоя нет параметров). Метод `forward` должен вычислять логарифм от $softmax$, а метод `backward` — пропускать градиенты. В общем случае в промежуточных вычислениях `backward` получится трехмерный тензор, однако для нашей конкретной функции потерь все вычисления можно реализовать в матричном виде.  Поэтому мы будем предполагать, что аргумент `grad_output` — это матрица, у которой в каждой строке только одно ненулевое значение (не обязательно единица)."
      ]
    },
    {
      "cell_type": "code",
      "execution_count": 12,
      "metadata": {
        "ExecuteTime": {
          "end_time": "2021-03-03T14:44:49.272035Z",
          "start_time": "2021-03-03T14:44:49.070612Z"
        },
        "id": "zlaVoEqkN04m"
      },
      "outputs": [],
      "source": [
        "from scipy.special import logsumexp\n",
        "# use this function instead of np.log(np.sum(np.exp(...))) because it is more stable"
      ]
    },
    {
      "cell_type": "code",
      "execution_count": 13,
      "metadata": {
        "ExecuteTime": {
          "end_time": "2021-03-03T14:44:49.288035Z",
          "start_time": "2021-03-03T14:44:49.275031Z"
        },
        "id": "_Nybd4DjN04o"
      },
      "outputs": [],
      "source": [
        "class LogSoftmax:\n",
        "    def __init__(self):\n",
        "        self.params = []\n",
        "\n",
        "    def forward(self, input):\n",
        "        \"\"\"\n",
        "        Applies softmax to each row and then applies component-wise log\n",
        "        Input shape: [batch, num_units]\n",
        "        Output shape: [batch, num_units]\n",
        "        \"\"\"\n",
        "        ### your code here\n",
        "        self.output = input - logsumexp(input, axis=1, keepdims=True)\n",
        "        return self.output\n",
        "        \n",
        "    def backward(self, grad_output):\n",
        "        \"\"\"\n",
        "        Propagartes gradients.\n",
        "        Assumes that each row of grad_output contains only 1 \n",
        "        non-zero element\n",
        "        Input shape: [batch, num_units]\n",
        "        Output shape: [batch, num_units]\n",
        "        Do not forget to return [] as second value (grad w.r.t. params)\n",
        "        \"\"\"\n",
        "        ### your code here\n",
        "        return grad_output - grad_output.sum(axis=1, keepdims=True) * np.exp(self.output), []\n",
        "    \n",
        "    def __repr__(self):\n",
        "        return 'LogSoftmax()'"
      ]
    },
    {
      "cell_type": "markdown",
      "metadata": {
        "id": "fTQY4saoN04r"
      },
      "source": [
        "Реализуйте функцию потерь и градиенты функции потерь. Во время вычисления NLL усредняйте (а не суммируйте) значения функции потерь по батчу. Обычно так делают для того, чтобы при двух запусках обучения нейронной сети с разными размерами батча получаемые значения функции потерь у этих сетей были сравнимы."
      ]
    },
    {
      "cell_type": "code",
      "execution_count": 14,
      "metadata": {
        "ExecuteTime": {
          "end_time": "2021-03-03T14:44:49.302990Z",
          "start_time": "2021-03-03T14:44:49.290985Z"
        },
        "id": "EawdWgDhN04s"
      },
      "outputs": [],
      "source": [
        "def NLL(activations, target):\n",
        "    \"\"\"\n",
        "    Returns negative log-likelihood of target under model represented by\n",
        "    activations (log probabilities of classes, it's just output of LogSoftmax layer).\n",
        "    `activations` has shape [batch, num_classes], `target` has shape [batch]\n",
        "    Output shape: 1 (scalar).\n",
        "    \"\"\"\n",
        "    ### your code here\n",
        "    return -activations[np.arange(len(target)), target].mean()\n",
        "\n",
        "\n",
        "def grad_NLL(activations, target):\n",
        "    \"\"\"\n",
        "    Returns gradient of negative log-likelihood w.r.t. activations.\n",
        "    each arg has shape [batch, num_classes]\n",
        "    output shape: [batch, num-classes]\n",
        "    \"\"\"\n",
        "    ### your code here\n",
        "    gradient = np.zeros(activations.shape)\n",
        "    gradient[np.arange(len(target)), target] = -1 / len(target)\n",
        "    return gradient"
      ]
    },
    {
      "cell_type": "markdown",
      "metadata": {
        "id": "_Htz0A9eN04t"
      },
      "source": [
        "Наконец, выполните проверку `LogSoftmax`-слоя, используя функцию потерь и ее градиент:"
      ]
    },
    {
      "cell_type": "code",
      "execution_count": 15,
      "metadata": {
        "ExecuteTime": {
          "end_time": "2021-03-03T14:44:49.350863Z",
          "start_time": "2021-03-03T14:44:49.305945Z"
        },
        "id": "EG9ONJPdN04u"
      },
      "outputs": [],
      "source": [
        "lsm = LogSoftmax()\n",
        "target = np.arange(10)\n",
        "points = np.linspace(-1, 1, 10 * 12).reshape([10, 12])\n",
        "\n",
        "### your code here\n",
        "### grads = \n",
        "### numeric_grads = \n",
        "\n",
        "grads, params = lsm.backward(grad_NLL(lsm.forward(points), target))\n",
        "numeric_grads = eval_numerical_gradient(lambda x: NLL(lsm.forward(x), target), points)\n",
        "\n",
        "assert np.allclose(grads, numeric_grads, rtol=1e-3, atol=0)"
      ]
    },
    {
      "cell_type": "markdown",
      "metadata": {
        "id": "GqwNrYyBN04v"
      },
      "source": [
        "## Загрузка данных\n",
        "\n",
        "Мы реализаовали все архитектурные составляющие нашей нейронной сети. Осталось загрузить данные и обучить модель. Мы будем работать с датасетом `digits`, каждый объект в котором — это 8x8 изображение рукописной цифры."
      ]
    },
    {
      "cell_type": "code",
      "execution_count": 16,
      "metadata": {
        "ExecuteTime": {
          "end_time": "2021-03-03T14:44:49.872521Z",
          "start_time": "2021-03-03T14:44:49.354818Z"
        },
        "id": "2FktVvxQN04w"
      },
      "outputs": [],
      "source": [
        "import matplotlib.pyplot as plt\n",
        "%matplotlib inline"
      ]
    },
    {
      "cell_type": "code",
      "execution_count": 17,
      "metadata": {
        "ExecuteTime": {
          "end_time": "2021-03-03T14:44:51.700670Z",
          "start_time": "2021-03-03T14:44:49.876510Z"
        },
        "id": "91zPrBJMN04x"
      },
      "outputs": [],
      "source": [
        "from sklearn.datasets import load_digits"
      ]
    },
    {
      "cell_type": "code",
      "execution_count": 18,
      "metadata": {
        "ExecuteTime": {
          "end_time": "2021-03-03T14:44:51.873771Z",
          "start_time": "2021-03-03T14:44:51.703667Z"
        },
        "id": "89FRH65UN04y"
      },
      "outputs": [],
      "source": [
        "X, y = load_digits(return_X_y=True)"
      ]
    },
    {
      "cell_type": "code",
      "execution_count": 19,
      "metadata": {
        "ExecuteTime": {
          "end_time": "2021-03-03T14:44:51.889252Z",
          "start_time": "2021-03-03T14:44:51.877326Z"
        },
        "colab": {
          "base_uri": "https://localhost:8080/"
        },
        "id": "A-R-cMthN04z",
        "outputId": "bfba92a0-3e2e-41ed-db99-3d6dc828ec82"
      },
      "outputs": [
        {
          "output_type": "execute_result",
          "data": {
            "text/plain": [
              "((1797, 64), (1797,))"
            ]
          },
          "metadata": {},
          "execution_count": 19
        }
      ],
      "source": [
        "X.shape, y.shape"
      ]
    },
    {
      "cell_type": "markdown",
      "metadata": {
        "id": "oNFY-uoNN041"
      },
      "source": [
        "Разделим данные на обучение и контроль:"
      ]
    },
    {
      "cell_type": "code",
      "execution_count": 20,
      "metadata": {
        "ExecuteTime": {
          "end_time": "2021-03-03T14:44:51.952606Z",
          "start_time": "2021-03-03T14:44:51.892280Z"
        },
        "id": "WcQEsWaJN043"
      },
      "outputs": [],
      "source": [
        "from sklearn.model_selection import train_test_split"
      ]
    },
    {
      "cell_type": "code",
      "execution_count": 21,
      "metadata": {
        "ExecuteTime": {
          "end_time": "2021-03-03T14:44:51.968609Z",
          "start_time": "2021-03-03T14:44:51.955642Z"
        },
        "id": "oVXAgwEON044"
      },
      "outputs": [],
      "source": [
        "X_train, X_test, y_train, y_test = train_test_split(X, y, random_state=0)"
      ]
    },
    {
      "cell_type": "code",
      "execution_count": 22,
      "metadata": {
        "ExecuteTime": {
          "end_time": "2021-03-03T14:44:52.000485Z",
          "start_time": "2021-03-03T14:44:51.971599Z"
        },
        "colab": {
          "base_uri": "https://localhost:8080/"
        },
        "id": "dm0z7ufVN046",
        "outputId": "2465b807-861c-4f50-becb-1c090407877e"
      },
      "outputs": [
        {
          "output_type": "execute_result",
          "data": {
            "text/plain": [
              "((1347, 64), (450, 64))"
            ]
          },
          "metadata": {},
          "execution_count": 22
        }
      ],
      "source": [
        "X_train.shape, X_test.shape"
      ]
    },
    {
      "cell_type": "markdown",
      "metadata": {
        "id": "mT1F5fjZN049"
      },
      "source": [
        "## Сборка и обучение нейронной сети (1 балл)"
      ]
    },
    {
      "cell_type": "markdown",
      "metadata": {
        "id": "VaISi1r6N04-"
      },
      "source": [
        "В нашей реализации мы представляем нейронную сеть в виде списка ее слоев. Например, следующая функция конструирует нейронную сеть заданной ширины (то есть с заданным размером скрытых слоев) и глубины (то есть с заданным количеством слоев) с заданным размером входа и выхода, а также с заданной функцией активации между линейными слоями."
      ]
    },
    {
      "cell_type": "code",
      "execution_count": 23,
      "metadata": {
        "ExecuteTime": {
          "end_time": "2021-03-03T14:44:52.016442Z",
          "start_time": "2021-03-03T14:44:52.003513Z"
        },
        "id": "PYJHqOKVN05A"
      },
      "outputs": [],
      "source": [
        "def make_network(input_size, hidden_layers_size, output_size, n_layers=3, activation_class=ReLU):\n",
        "    network = []\n",
        "\n",
        "    for layer_idx in range(n_layers):\n",
        "        # Compute sizes of current linear layer\n",
        "        layer_in = input_size if layer_idx == 0 else hidden_layers_size\n",
        "        layer_out = output_size if layer_idx == n_layers - 1 else hidden_layers_size\n",
        "        \n",
        "        # Add linear layer to the network\n",
        "        network.append(Dense(layer_in, layer_out))\n",
        "\n",
        "        # Add activation after each layer except the last one\n",
        "        if layer_idx != n_layers - 1:\n",
        "            network.append(activation_class())\n",
        "\n",
        "    # Add LogSoftmax layer to the network\n",
        "    network.append(LogSoftmax())\n",
        "\n",
        "    return network"
      ]
    },
    {
      "cell_type": "code",
      "execution_count": 24,
      "metadata": {
        "ExecuteTime": {
          "end_time": "2021-03-03T14:44:52.048395Z",
          "start_time": "2021-03-03T14:44:52.020431Z"
        },
        "colab": {
          "base_uri": "https://localhost:8080/"
        },
        "id": "S7GzT2H-N05B",
        "outputId": "eca49133-68f0-4c61-e2a2-7c0e7ce9d0ee"
      },
      "outputs": [
        {
          "output_type": "execute_result",
          "data": {
            "text/plain": [
              "[Dense(64, 32), Relu(), Dense(32, 32), Relu(), Dense(32, 10), LogSoftmax()]"
            ]
          },
          "metadata": {},
          "execution_count": 24
        }
      ],
      "source": [
        "input_size = X_train.shape[1]\n",
        "hidden_layers_size = 32\n",
        "output_size = 10\n",
        "\n",
        "network = make_network(input_size, hidden_layers_size, output_size, 3, ReLU)\n",
        "network"
      ]
    },
    {
      "cell_type": "markdown",
      "metadata": {
        "id": "sQ-4vKi7N05D"
      },
      "source": [
        "Реализуйте функцию, которая выполнет прямой проход по нейронной сети:"
      ]
    },
    {
      "cell_type": "code",
      "execution_count": 25,
      "metadata": {
        "ExecuteTime": {
          "end_time": "2021-03-03T14:44:52.063319Z",
          "start_time": "2021-03-03T14:44:52.051386Z"
        },
        "id": "Ele1spM2N05E"
      },
      "outputs": [],
      "source": [
        "def forward(network, X):\n",
        "    \"\"\"\n",
        "    Perform forward pass through the network.\n",
        "    \n",
        "    network: list of layers\n",
        "    X: raw data\n",
        "    X shape: [batch, features_num]\n",
        "\n",
        "    output: \n",
        "    output shape: [batch, out_features_num]\n",
        "    \"\"\"\n",
        "    ### your code here\n",
        "    res = X\n",
        "    for layer in network:\n",
        "        res = layer.forward(res)\n",
        "    return res"
      ]
    },
    {
      "cell_type": "markdown",
      "metadata": {
        "id": "TI3UewicN05G"
      },
      "source": [
        "Для проверки, хорошо ли сеть обучилась, нам понадобится вычислять долю правильных ответов (accuracy) на данной выборке. Для этого реализуйте функцию, которая делает предсказания на каждом объекте (логично в качестве предсказания на очередном объекте выдавать тот класс, для которого предсказанный логарифм вероятности максимален):"
      ]
    },
    {
      "cell_type": "code",
      "execution_count": 26,
      "metadata": {
        "ExecuteTime": {
          "end_time": "2021-03-03T14:44:52.063319Z",
          "start_time": "2021-03-03T14:44:52.051386Z"
        },
        "id": "j4kObyGQN05H"
      },
      "outputs": [],
      "source": [
        "def predict(network, X):\n",
        "    \"\"\"\n",
        "    Returns predictions for each object in X.\n",
        "    \n",
        "    network: list of layers\n",
        "    X: raw data\n",
        "    X shape: [batch, features_num]\n",
        "\n",
        "    output: array of classes, each from 0 to 9\n",
        "    output shape: [batch]\n",
        "    \"\"\"\n",
        "    ### your code here\n",
        "    return forward(network, X).argmax(axis=1)"
      ]
    },
    {
      "cell_type": "markdown",
      "metadata": {
        "id": "ZYyiRRlUN05I"
      },
      "source": [
        "Мы будем обучать параметры нейросети с помощью готовой функции оптимизации из модуля `scipy`:"
      ]
    },
    {
      "cell_type": "code",
      "execution_count": 27,
      "metadata": {
        "ExecuteTime": {
          "end_time": "2021-03-03T14:44:52.079311Z",
          "start_time": "2021-03-03T14:44:52.070308Z"
        },
        "id": "JrIN2LmkN05J"
      },
      "outputs": [],
      "source": [
        "from scipy.optimize import minimize"
      ]
    },
    {
      "cell_type": "code",
      "execution_count": 28,
      "metadata": {
        "ExecuteTime": {
          "end_time": "2021-03-03T14:44:52.111226Z",
          "start_time": "2021-03-03T14:44:52.085292Z"
        },
        "scrolled": true,
        "colab": {
          "base_uri": "https://localhost:8080/"
        },
        "id": "S24lwUXpN05L",
        "outputId": "80dcffc5-7aaa-42ae-c860-a0be7a574a16"
      },
      "outputs": [
        {
          "output_type": "stream",
          "name": "stdout",
          "text": [
            "Help on function minimize in module scipy.optimize._minimize:\n",
            "\n",
            "minimize(fun, x0, args=(), method=None, jac=None, hess=None, hessp=None, bounds=None, constraints=(), tol=None, callback=None, options=None)\n",
            "    Minimization of scalar function of one or more variables.\n",
            "    \n",
            "    Parameters\n",
            "    ----------\n",
            "    fun : callable\n",
            "        The objective function to be minimized.\n",
            "    \n",
            "            ``fun(x, *args) -> float``\n",
            "    \n",
            "        where x is an 1-D array with shape (n,) and `args`\n",
            "        is a tuple of the fixed parameters needed to completely\n",
            "        specify the function.\n",
            "    x0 : ndarray, shape (n,)\n",
            "        Initial guess. Array of real elements of size (n,),\n",
            "        where 'n' is the number of independent variables.\n",
            "    args : tuple, optional\n",
            "        Extra arguments passed to the objective function and its\n",
            "        derivatives (`fun`, `jac` and `hess` functions).\n",
            "    method : str or callable, optional\n",
            "        Type of solver.  Should be one of\n",
            "    \n",
            "            - 'Nelder-Mead' :ref:`(see here) <optimize.minimize-neldermead>`\n",
            "            - 'Powell'      :ref:`(see here) <optimize.minimize-powell>`\n",
            "            - 'CG'          :ref:`(see here) <optimize.minimize-cg>`\n",
            "            - 'BFGS'        :ref:`(see here) <optimize.minimize-bfgs>`\n",
            "            - 'Newton-CG'   :ref:`(see here) <optimize.minimize-newtoncg>`\n",
            "            - 'L-BFGS-B'    :ref:`(see here) <optimize.minimize-lbfgsb>`\n",
            "            - 'TNC'         :ref:`(see here) <optimize.minimize-tnc>`\n",
            "            - 'COBYLA'      :ref:`(see here) <optimize.minimize-cobyla>`\n",
            "            - 'SLSQP'       :ref:`(see here) <optimize.minimize-slsqp>`\n",
            "            - 'trust-constr':ref:`(see here) <optimize.minimize-trustconstr>`\n",
            "            - 'dogleg'      :ref:`(see here) <optimize.minimize-dogleg>`\n",
            "            - 'trust-ncg'   :ref:`(see here) <optimize.minimize-trustncg>`\n",
            "            - 'trust-exact' :ref:`(see here) <optimize.minimize-trustexact>`\n",
            "            - 'trust-krylov' :ref:`(see here) <optimize.minimize-trustkrylov>`\n",
            "            - custom - a callable object (added in version 0.14.0),\n",
            "              see below for description.\n",
            "    \n",
            "        If not given, chosen to be one of ``BFGS``, ``L-BFGS-B``, ``SLSQP``,\n",
            "        depending if the problem has constraints or bounds.\n",
            "    jac : {callable,  '2-point', '3-point', 'cs', bool}, optional\n",
            "        Method for computing the gradient vector. Only for CG, BFGS,\n",
            "        Newton-CG, L-BFGS-B, TNC, SLSQP, dogleg, trust-ncg, trust-krylov,\n",
            "        trust-exact and trust-constr. If it is a callable, it should be a\n",
            "        function that returns the gradient vector:\n",
            "    \n",
            "            ``jac(x, *args) -> array_like, shape (n,)``\n",
            "    \n",
            "        where x is an array with shape (n,) and `args` is a tuple with\n",
            "        the fixed parameters. Alternatively, the keywords\n",
            "        {'2-point', '3-point', 'cs'} select a finite\n",
            "        difference scheme for numerical estimation of the gradient. Options\n",
            "        '3-point' and 'cs' are available only to 'trust-constr'.\n",
            "        If `jac` is a Boolean and is True, `fun` is assumed to return the\n",
            "        gradient along with the objective function. If False, the gradient\n",
            "        will be estimated using '2-point' finite difference estimation.\n",
            "    hess : {callable, '2-point', '3-point', 'cs', HessianUpdateStrategy},  optional\n",
            "        Method for computing the Hessian matrix. Only for Newton-CG, dogleg,\n",
            "        trust-ncg,  trust-krylov, trust-exact and trust-constr. If it is\n",
            "        callable, it should return the  Hessian matrix:\n",
            "    \n",
            "            ``hess(x, *args) -> {LinearOperator, spmatrix, array}, (n, n)``\n",
            "    \n",
            "        where x is a (n,) ndarray and `args` is a tuple with the fixed\n",
            "        parameters. LinearOperator and sparse matrix returns are\n",
            "        allowed only for 'trust-constr' method. Alternatively, the keywords\n",
            "        {'2-point', '3-point', 'cs'} select a finite difference scheme\n",
            "        for numerical estimation. Or, objects implementing\n",
            "        `HessianUpdateStrategy` interface can be used to approximate\n",
            "        the Hessian. Available quasi-Newton methods implementing\n",
            "        this interface are:\n",
            "    \n",
            "            - `BFGS`;\n",
            "            - `SR1`.\n",
            "    \n",
            "        Whenever the gradient is estimated via finite-differences,\n",
            "        the Hessian cannot be estimated with options\n",
            "        {'2-point', '3-point', 'cs'} and needs to be\n",
            "        estimated using one of the quasi-Newton strategies.\n",
            "        Finite-difference options {'2-point', '3-point', 'cs'} and\n",
            "        `HessianUpdateStrategy` are available only for 'trust-constr' method.\n",
            "    hessp : callable, optional\n",
            "        Hessian of objective function times an arbitrary vector p. Only for\n",
            "        Newton-CG, trust-ncg, trust-krylov, trust-constr.\n",
            "        Only one of `hessp` or `hess` needs to be given.  If `hess` is\n",
            "        provided, then `hessp` will be ignored.  `hessp` must compute the\n",
            "        Hessian times an arbitrary vector:\n",
            "    \n",
            "            ``hessp(x, p, *args) ->  ndarray shape (n,)``\n",
            "    \n",
            "        where x is a (n,) ndarray, p is an arbitrary vector with\n",
            "        dimension (n,) and `args` is a tuple with the fixed\n",
            "        parameters.\n",
            "    bounds : sequence or `Bounds`, optional\n",
            "        Bounds on variables for L-BFGS-B, TNC, SLSQP and\n",
            "        trust-constr methods. There are two ways to specify the bounds:\n",
            "    \n",
            "            1. Instance of `Bounds` class.\n",
            "            2. Sequence of ``(min, max)`` pairs for each element in `x`. None\n",
            "               is used to specify no bound.\n",
            "    \n",
            "    constraints : {Constraint, dict} or List of {Constraint, dict}, optional\n",
            "        Constraints definition (only for COBYLA, SLSQP and trust-constr).\n",
            "        Constraints for 'trust-constr' are defined as a single object or a\n",
            "        list of objects specifying constraints to the optimization problem.\n",
            "        Available constraints are:\n",
            "    \n",
            "            - `LinearConstraint`\n",
            "            - `NonlinearConstraint`\n",
            "    \n",
            "        Constraints for COBYLA, SLSQP are defined as a list of dictionaries.\n",
            "        Each dictionary with fields:\n",
            "    \n",
            "            type : str\n",
            "                Constraint type: 'eq' for equality, 'ineq' for inequality.\n",
            "            fun : callable\n",
            "                The function defining the constraint.\n",
            "            jac : callable, optional\n",
            "                The Jacobian of `fun` (only for SLSQP).\n",
            "            args : sequence, optional\n",
            "                Extra arguments to be passed to the function and Jacobian.\n",
            "    \n",
            "        Equality constraint means that the constraint function result is to\n",
            "        be zero whereas inequality means that it is to be non-negative.\n",
            "        Note that COBYLA only supports inequality constraints.\n",
            "    tol : float, optional\n",
            "        Tolerance for termination. For detailed control, use solver-specific\n",
            "        options.\n",
            "    options : dict, optional\n",
            "        A dictionary of solver options. All methods accept the following\n",
            "        generic options:\n",
            "    \n",
            "            maxiter : int\n",
            "                Maximum number of iterations to perform. Depending on the\n",
            "                method each iteration may use several function evaluations.\n",
            "            disp : bool\n",
            "                Set to True to print convergence messages.\n",
            "    \n",
            "        For method-specific options, see :func:`show_options()`.\n",
            "    callback : callable, optional\n",
            "        Called after each iteration. For 'trust-constr' it is a callable with\n",
            "        the signature:\n",
            "    \n",
            "            ``callback(xk, OptimizeResult state) -> bool``\n",
            "    \n",
            "        where ``xk`` is the current parameter vector. and ``state``\n",
            "        is an `OptimizeResult` object, with the same fields\n",
            "        as the ones from the return.  If callback returns True\n",
            "        the algorithm execution is terminated.\n",
            "        For all the other methods, the signature is:\n",
            "    \n",
            "            ``callback(xk)``\n",
            "    \n",
            "        where ``xk`` is the current parameter vector.\n",
            "    \n",
            "    Returns\n",
            "    -------\n",
            "    res : OptimizeResult\n",
            "        The optimization result represented as a ``OptimizeResult`` object.\n",
            "        Important attributes are: ``x`` the solution array, ``success`` a\n",
            "        Boolean flag indicating if the optimizer exited successfully and\n",
            "        ``message`` which describes the cause of the termination. See\n",
            "        `OptimizeResult` for a description of other attributes.\n",
            "    \n",
            "    See also\n",
            "    --------\n",
            "    minimize_scalar : Interface to minimization algorithms for scalar\n",
            "        univariate functions\n",
            "    show_options : Additional options accepted by the solvers\n",
            "    \n",
            "    Notes\n",
            "    -----\n",
            "    This section describes the available solvers that can be selected by the\n",
            "    'method' parameter. The default method is *BFGS*.\n",
            "    \n",
            "    **Unconstrained minimization**\n",
            "    \n",
            "    Method :ref:`Nelder-Mead <optimize.minimize-neldermead>` uses the\n",
            "    Simplex algorithm [1]_, [2]_. This algorithm is robust in many\n",
            "    applications. However, if numerical computation of derivative can be\n",
            "    trusted, other algorithms using the first and/or second derivatives\n",
            "    information might be preferred for their better performance in\n",
            "    general.\n",
            "    \n",
            "    Method :ref:`Powell <optimize.minimize-powell>` is a modification\n",
            "    of Powell's method [3]_, [4]_ which is a conjugate direction\n",
            "    method. It performs sequential one-dimensional minimizations along\n",
            "    each vector of the directions set (`direc` field in `options` and\n",
            "    `info`), which is updated at each iteration of the main\n",
            "    minimization loop. The function need not be differentiable, and no\n",
            "    derivatives are taken.\n",
            "    \n",
            "    Method :ref:`CG <optimize.minimize-cg>` uses a nonlinear conjugate\n",
            "    gradient algorithm by Polak and Ribiere, a variant of the\n",
            "    Fletcher-Reeves method described in [5]_ pp.  120-122. Only the\n",
            "    first derivatives are used.\n",
            "    \n",
            "    Method :ref:`BFGS <optimize.minimize-bfgs>` uses the quasi-Newton\n",
            "    method of Broyden, Fletcher, Goldfarb, and Shanno (BFGS) [5]_\n",
            "    pp. 136. It uses the first derivatives only. BFGS has proven good\n",
            "    performance even for non-smooth optimizations. This method also\n",
            "    returns an approximation of the Hessian inverse, stored as\n",
            "    `hess_inv` in the OptimizeResult object.\n",
            "    \n",
            "    Method :ref:`Newton-CG <optimize.minimize-newtoncg>` uses a\n",
            "    Newton-CG algorithm [5]_ pp. 168 (also known as the truncated\n",
            "    Newton method). It uses a CG method to the compute the search\n",
            "    direction. See also *TNC* method for a box-constrained\n",
            "    minimization with a similar algorithm. Suitable for large-scale\n",
            "    problems.\n",
            "    \n",
            "    Method :ref:`dogleg <optimize.minimize-dogleg>` uses the dog-leg\n",
            "    trust-region algorithm [5]_ for unconstrained minimization. This\n",
            "    algorithm requires the gradient and Hessian; furthermore the\n",
            "    Hessian is required to be positive definite.\n",
            "    \n",
            "    Method :ref:`trust-ncg <optimize.minimize-trustncg>` uses the\n",
            "    Newton conjugate gradient trust-region algorithm [5]_ for\n",
            "    unconstrained minimization. This algorithm requires the gradient\n",
            "    and either the Hessian or a function that computes the product of\n",
            "    the Hessian with a given vector. Suitable for large-scale problems.\n",
            "    \n",
            "    Method :ref:`trust-krylov <optimize.minimize-trustkrylov>` uses\n",
            "    the Newton GLTR trust-region algorithm [14]_, [15]_ for unconstrained\n",
            "    minimization. This algorithm requires the gradient\n",
            "    and either the Hessian or a function that computes the product of\n",
            "    the Hessian with a given vector. Suitable for large-scale problems.\n",
            "    On indefinite problems it requires usually less iterations than the\n",
            "    `trust-ncg` method and is recommended for medium and large-scale problems.\n",
            "    \n",
            "    Method :ref:`trust-exact <optimize.minimize-trustexact>`\n",
            "    is a trust-region method for unconstrained minimization in which\n",
            "    quadratic subproblems are solved almost exactly [13]_. This\n",
            "    algorithm requires the gradient and the Hessian (which is\n",
            "    *not* required to be positive definite). It is, in many\n",
            "    situations, the Newton method to converge in fewer iteraction\n",
            "    and the most recommended for small and medium-size problems.\n",
            "    \n",
            "    **Bound-Constrained minimization**\n",
            "    \n",
            "    Method :ref:`L-BFGS-B <optimize.minimize-lbfgsb>` uses the L-BFGS-B\n",
            "    algorithm [6]_, [7]_ for bound constrained minimization.\n",
            "    \n",
            "    Method :ref:`TNC <optimize.minimize-tnc>` uses a truncated Newton\n",
            "    algorithm [5]_, [8]_ to minimize a function with variables subject\n",
            "    to bounds. This algorithm uses gradient information; it is also\n",
            "    called Newton Conjugate-Gradient. It differs from the *Newton-CG*\n",
            "    method described above as it wraps a C implementation and allows\n",
            "    each variable to be given upper and lower bounds.\n",
            "    \n",
            "    **Constrained Minimization**\n",
            "    \n",
            "    Method :ref:`COBYLA <optimize.minimize-cobyla>` uses the\n",
            "    Constrained Optimization BY Linear Approximation (COBYLA) method\n",
            "    [9]_, [10]_, [11]_. The algorithm is based on linear\n",
            "    approximations to the objective function and each constraint. The\n",
            "    method wraps a FORTRAN implementation of the algorithm. The\n",
            "    constraints functions 'fun' may return either a single number\n",
            "    or an array or list of numbers.\n",
            "    \n",
            "    Method :ref:`SLSQP <optimize.minimize-slsqp>` uses Sequential\n",
            "    Least SQuares Programming to minimize a function of several\n",
            "    variables with any combination of bounds, equality and inequality\n",
            "    constraints. The method wraps the SLSQP Optimization subroutine\n",
            "    originally implemented by Dieter Kraft [12]_. Note that the\n",
            "    wrapper handles infinite values in bounds by converting them into\n",
            "    large floating values.\n",
            "    \n",
            "    Method :ref:`trust-constr <optimize.minimize-trustconstr>` is a\n",
            "    trust-region algorithm for constrained optimization. It swiches\n",
            "    between two implementations depending on the problem definition.\n",
            "    It is the most versatile constrained minimization algorithm\n",
            "    implemented in SciPy and the most appropriate for large-scale problems.\n",
            "    For equality constrained problems it is an implementation of Byrd-Omojokun\n",
            "    Trust-Region SQP method described in [17]_ and in [5]_, p. 549. When\n",
            "    inequality constraints  are imposed as well, it swiches to the trust-region\n",
            "    interior point  method described in [16]_. This interior point algorithm,\n",
            "    in turn, solves inequality constraints by introducing slack variables\n",
            "    and solving a sequence of equality-constrained barrier problems\n",
            "    for progressively smaller values of the barrier parameter.\n",
            "    The previously described equality constrained SQP method is\n",
            "    used to solve the subproblems with increasing levels of accuracy\n",
            "    as the iterate gets closer to a solution.\n",
            "    \n",
            "    **Finite-Difference Options**\n",
            "    \n",
            "    For Method :ref:`trust-constr <optimize.minimize-trustconstr>`\n",
            "    the gradient and the Hessian may be approximated using\n",
            "    three finite-difference schemes: {'2-point', '3-point', 'cs'}.\n",
            "    The scheme 'cs' is, potentially, the most accurate but it\n",
            "    requires the function to correctly handles complex inputs and to\n",
            "    be differentiable in the complex plane. The scheme '3-point' is more\n",
            "    accurate than '2-point' but requires twice as much operations.\n",
            "    \n",
            "    **Custom minimizers**\n",
            "    \n",
            "    It may be useful to pass a custom minimization method, for example\n",
            "    when using a frontend to this method such as `scipy.optimize.basinhopping`\n",
            "    or a different library.  You can simply pass a callable as the ``method``\n",
            "    parameter.\n",
            "    \n",
            "    The callable is called as ``method(fun, x0, args, **kwargs, **options)``\n",
            "    where ``kwargs`` corresponds to any other parameters passed to `minimize`\n",
            "    (such as `callback`, `hess`, etc.), except the `options` dict, which has\n",
            "    its contents also passed as `method` parameters pair by pair.  Also, if\n",
            "    `jac` has been passed as a bool type, `jac` and `fun` are mangled so that\n",
            "    `fun` returns just the function values and `jac` is converted to a function\n",
            "    returning the Jacobian.  The method shall return an `OptimizeResult`\n",
            "    object.\n",
            "    \n",
            "    The provided `method` callable must be able to accept (and possibly ignore)\n",
            "    arbitrary parameters; the set of parameters accepted by `minimize` may\n",
            "    expand in future versions and then these parameters will be passed to\n",
            "    the method.  You can find an example in the scipy.optimize tutorial.\n",
            "    \n",
            "    .. versionadded:: 0.11.0\n",
            "    \n",
            "    References\n",
            "    ----------\n",
            "    .. [1] Nelder, J A, and R Mead. 1965. A Simplex Method for Function\n",
            "        Minimization. The Computer Journal 7: 308-13.\n",
            "    .. [2] Wright M H. 1996. Direct search methods: Once scorned, now\n",
            "        respectable, in Numerical Analysis 1995: Proceedings of the 1995\n",
            "        Dundee Biennial Conference in Numerical Analysis (Eds. D F\n",
            "        Griffiths and G A Watson). Addison Wesley Longman, Harlow, UK.\n",
            "        191-208.\n",
            "    .. [3] Powell, M J D. 1964. An efficient method for finding the minimum of\n",
            "       a function of several variables without calculating derivatives. The\n",
            "       Computer Journal 7: 155-162.\n",
            "    .. [4] Press W, S A Teukolsky, W T Vetterling and B P Flannery.\n",
            "       Numerical Recipes (any edition), Cambridge University Press.\n",
            "    .. [5] Nocedal, J, and S J Wright. 2006. Numerical Optimization.\n",
            "       Springer New York.\n",
            "    .. [6] Byrd, R H and P Lu and J. Nocedal. 1995. A Limited Memory\n",
            "       Algorithm for Bound Constrained Optimization. SIAM Journal on\n",
            "       Scientific and Statistical Computing 16 (5): 1190-1208.\n",
            "    .. [7] Zhu, C and R H Byrd and J Nocedal. 1997. L-BFGS-B: Algorithm\n",
            "       778: L-BFGS-B, FORTRAN routines for large scale bound constrained\n",
            "       optimization. ACM Transactions on Mathematical Software 23 (4):\n",
            "       550-560.\n",
            "    .. [8] Nash, S G. Newton-Type Minimization Via the Lanczos Method.\n",
            "       1984. SIAM Journal of Numerical Analysis 21: 770-778.\n",
            "    .. [9] Powell, M J D. A direct search optimization method that models\n",
            "       the objective and constraint functions by linear interpolation.\n",
            "       1994. Advances in Optimization and Numerical Analysis, eds. S. Gomez\n",
            "       and J-P Hennart, Kluwer Academic (Dordrecht), 51-67.\n",
            "    .. [10] Powell M J D. Direct search algorithms for optimization\n",
            "       calculations. 1998. Acta Numerica 7: 287-336.\n",
            "    .. [11] Powell M J D. A view of algorithms for optimization without\n",
            "       derivatives. 2007.Cambridge University Technical Report DAMTP\n",
            "       2007/NA03\n",
            "    .. [12] Kraft, D. A software package for sequential quadratic\n",
            "       programming. 1988. Tech. Rep. DFVLR-FB 88-28, DLR German Aerospace\n",
            "       Center -- Institute for Flight Mechanics, Koln, Germany.\n",
            "    .. [13] Conn, A. R., Gould, N. I., and Toint, P. L.\n",
            "       Trust region methods. 2000. Siam. pp. 169-200.\n",
            "    .. [14] F. Lenders, C. Kirches, A. Potschka: \"trlib: A vector-free\n",
            "       implementation of the GLTR method for iterative solution of\n",
            "       the trust region problem\", https://arxiv.org/abs/1611.04718\n",
            "    .. [15] N. Gould, S. Lucidi, M. Roma, P. Toint: \"Solving the\n",
            "       Trust-Region Subproblem using the Lanczos Method\",\n",
            "       SIAM J. Optim., 9(2), 504--525, (1999).\n",
            "    .. [16] Byrd, Richard H., Mary E. Hribar, and Jorge Nocedal. 1999.\n",
            "        An interior point algorithm for large-scale nonlinear  programming.\n",
            "        SIAM Journal on Optimization 9.4: 877-900.\n",
            "    .. [17] Lalee, Marucha, Jorge Nocedal, and Todd Plantega. 1998. On the\n",
            "        implementation of an algorithm for large-scale equality constrained\n",
            "        optimization. SIAM Journal on Optimization 8.3: 682-706.\n",
            "    \n",
            "    Examples\n",
            "    --------\n",
            "    Let us consider the problem of minimizing the Rosenbrock function. This\n",
            "    function (and its respective derivatives) is implemented in `rosen`\n",
            "    (resp. `rosen_der`, `rosen_hess`) in the `scipy.optimize`.\n",
            "    \n",
            "    >>> from scipy.optimize import minimize, rosen, rosen_der\n",
            "    \n",
            "    A simple application of the *Nelder-Mead* method is:\n",
            "    \n",
            "    >>> x0 = [1.3, 0.7, 0.8, 1.9, 1.2]\n",
            "    >>> res = minimize(rosen, x0, method='Nelder-Mead', tol=1e-6)\n",
            "    >>> res.x\n",
            "    array([ 1.,  1.,  1.,  1.,  1.])\n",
            "    \n",
            "    Now using the *BFGS* algorithm, using the first derivative and a few\n",
            "    options:\n",
            "    \n",
            "    >>> res = minimize(rosen, x0, method='BFGS', jac=rosen_der,\n",
            "    ...                options={'gtol': 1e-6, 'disp': True})\n",
            "    Optimization terminated successfully.\n",
            "             Current function value: 0.000000\n",
            "             Iterations: 26\n",
            "             Function evaluations: 31\n",
            "             Gradient evaluations: 31\n",
            "    >>> res.x\n",
            "    array([ 1.,  1.,  1.,  1.,  1.])\n",
            "    >>> print(res.message)\n",
            "    Optimization terminated successfully.\n",
            "    >>> res.hess_inv\n",
            "    array([[ 0.00749589,  0.01255155,  0.02396251,  0.04750988,  0.09495377],  # may vary\n",
            "           [ 0.01255155,  0.02510441,  0.04794055,  0.09502834,  0.18996269],\n",
            "           [ 0.02396251,  0.04794055,  0.09631614,  0.19092151,  0.38165151],\n",
            "           [ 0.04750988,  0.09502834,  0.19092151,  0.38341252,  0.7664427 ],\n",
            "           [ 0.09495377,  0.18996269,  0.38165151,  0.7664427,   1.53713523]])\n",
            "    \n",
            "    \n",
            "    Next, consider a minimization problem with several constraints (namely\n",
            "    Example 16.4 from [5]_). The objective function is:\n",
            "    \n",
            "    >>> fun = lambda x: (x[0] - 1)**2 + (x[1] - 2.5)**2\n",
            "    \n",
            "    There are three constraints defined as:\n",
            "    \n",
            "    >>> cons = ({'type': 'ineq', 'fun': lambda x:  x[0] - 2 * x[1] + 2},\n",
            "    ...         {'type': 'ineq', 'fun': lambda x: -x[0] - 2 * x[1] + 6},\n",
            "    ...         {'type': 'ineq', 'fun': lambda x: -x[0] + 2 * x[1] + 2})\n",
            "    \n",
            "    And variables must be positive, hence the following bounds:\n",
            "    \n",
            "    >>> bnds = ((0, None), (0, None))\n",
            "    \n",
            "    The optimization problem is solved using the SLSQP method as:\n",
            "    \n",
            "    >>> res = minimize(fun, (2, 0), method='SLSQP', bounds=bnds,\n",
            "    ...                constraints=cons)\n",
            "    \n",
            "    It should converge to the theoretical solution (1.4 ,1.7).\n",
            "\n"
          ]
        }
      ],
      "source": [
        "help(minimize)"
      ]
    },
    {
      "cell_type": "markdown",
      "metadata": {
        "id": "M5-kQBBQN05M"
      },
      "source": [
        "Эта функция имеет стандартный интерфейс: нужно передать callable объект, который вычисляет значение и градиент целевой функции, а также точку старта оптимизации — начальное приближение (одномерный `numpy`-массив). Поэтому нам понадобятся функции для сбора и задания всех весов нашей нейросети (именно для них мы всегда записывали параметры слоя в список `layer.params`)"
      ]
    },
    {
      "cell_type": "code",
      "execution_count": 29,
      "metadata": {
        "ExecuteTime": {
          "end_time": "2021-03-03T14:44:52.127145Z",
          "start_time": "2021-03-03T14:44:52.114180Z"
        },
        "id": "unp_IUkfN05N"
      },
      "outputs": [],
      "source": [
        "def get_weights(network):\n",
        "    weights = []\n",
        "    for layer in network:\n",
        "        for param in layer.params:\n",
        "            weights += param.ravel().tolist()\n",
        "    return np.array(weights)\n",
        "\n",
        "\n",
        "def set_weights(weights, network):\n",
        "    i = 0\n",
        "    for layer in network:\n",
        "        for param in layer.params:\n",
        "            l = param.size\n",
        "            param[:] = weights[i:i+l].reshape(param.shape)\n",
        "            i += l"
      ]
    },
    {
      "cell_type": "markdown",
      "metadata": {
        "id": "Dtx4iUZrN05P"
      },
      "source": [
        "Вам нужно реализовать ту самую функцию, которую мы будем передавать в `minimize`. Эта функция должна брать на вход текущую точку (вектор всех параметров), а также список дополнительных параметров (мы будем передавать через них нашу сеть и обучающие данные) и возвращать значение критерия качества (NLL) и его градиент по параметрам модели."
      ]
    },
    {
      "cell_type": "code",
      "execution_count": 30,
      "metadata": {
        "ExecuteTime": {
          "end_time": "2021-03-03T14:44:52.143103Z",
          "start_time": "2021-03-03T14:44:52.131134Z"
        },
        "id": "I-3-CBGWN05P"
      },
      "outputs": [],
      "source": [
        "def compute_loss_grad(weights, args):\n",
        "    \"\"\"\n",
        "    takes current weights and computes cross-entropy and gradients\n",
        "    weights shape: [num_parameters]\n",
        "    output 1: loss (scalar)\n",
        "    output 2: gradint w.r.t. weights, shape: [num_parameters]\n",
        "    \n",
        "    hint: firstly perform forward pass through the whole network\n",
        "    then compute loss and its gradients\n",
        "    then perform backward pass, transmitting first baskward output\n",
        "    to the previos layer and saving second baskward output in a list\n",
        "    finally flatten all the gradients in this list\n",
        "    (in the order from the first to the last layer)\n",
        "    \n",
        "    Do not forget to set weights of the network!\n",
        "    \"\"\"\n",
        "    network, X, y = args\n",
        "    ### your code here\n",
        "    set_weights(weights, network)\n",
        "    output = forward(network, X)\n",
        "    loss = NLL(output, y)\n",
        "    grads = grad_NLL(output, y)\n",
        "    full_grad_params = []\n",
        "    for layer in network[::-1]:\n",
        "        grads, params = layer.backward(grads)\n",
        "        full_grad_params += [params]\n",
        "    full_grad_params = np.concatenate(full_grad_params[::-1])\n",
        "    return loss, full_grad_params"
      ]
    },
    {
      "cell_type": "markdown",
      "metadata": {
        "id": "43ZFIH2_N05Q"
      },
      "source": [
        "Теперь мы готовы обучать нашу нейросеть. "
      ]
    },
    {
      "cell_type": "code",
      "execution_count": 31,
      "metadata": {
        "ExecuteTime": {
          "end_time": "2021-03-03T14:44:52.175017Z",
          "start_time": "2021-03-03T14:44:52.148090Z"
        },
        "id": "hmSaS-B-N05R"
      },
      "outputs": [],
      "source": [
        "weights = get_weights(network)"
      ]
    },
    {
      "cell_type": "code",
      "execution_count": 32,
      "metadata": {
        "ExecuteTime": {
          "end_time": "2021-03-03T14:44:53.078366Z",
          "start_time": "2021-03-03T14:44:52.179006Z"
        },
        "id": "QBr7DziNN05R"
      },
      "outputs": [],
      "source": [
        "res = minimize(\n",
        "    compute_loss_grad, weights,       # fun and start point\n",
        "    args=[network, X_train, y_train], # args passed to fun\n",
        "    method=\"L-BFGS-B\",                # optimization method\n",
        "    jac=True                          # says that gradient is computed in fun\n",
        ")"
      ]
    },
    {
      "cell_type": "code",
      "execution_count": 33,
      "metadata": {
        "ExecuteTime": {
          "end_time": "2021-03-03T14:44:53.093332Z",
          "start_time": "2021-03-03T14:44:53.081402Z"
        },
        "colab": {
          "base_uri": "https://localhost:8080/"
        },
        "id": "zD_8oTeiN05S",
        "outputId": "58fe6ec3-a7c0-4456-94ec-9ff6f1690565"
      },
      "outputs": [
        {
          "output_type": "execute_result",
          "data": {
            "text/plain": [
              "dict_keys(['fun', 'jac', 'nfev', 'nit', 'status', 'message', 'x', 'success', 'hess_inv'])"
            ]
          },
          "metadata": {},
          "execution_count": 33
        }
      ],
      "source": [
        "res.keys()"
      ]
    },
    {
      "cell_type": "code",
      "execution_count": 34,
      "metadata": {
        "ExecuteTime": {
          "end_time": "2021-03-03T14:44:53.109290Z",
          "start_time": "2021-03-03T14:44:53.096325Z"
        },
        "scrolled": true,
        "colab": {
          "base_uri": "https://localhost:8080/"
        },
        "id": "M3y5_W7uN05U",
        "outputId": "30d05377-c229-4d3a-ceaf-1d37b18bb3ef"
      },
      "outputs": [
        {
          "output_type": "execute_result",
          "data": {
            "text/plain": [
              "114"
            ]
          },
          "metadata": {},
          "execution_count": 34
        }
      ],
      "source": [
        "res[\"nit\"] # number of iterations (should be >> 10)"
      ]
    },
    {
      "cell_type": "code",
      "execution_count": 35,
      "metadata": {
        "ExecuteTime": {
          "end_time": "2021-03-03T14:44:53.125246Z",
          "start_time": "2021-03-03T14:44:53.112286Z"
        },
        "colab": {
          "base_uri": "https://localhost:8080/"
        },
        "id": "WfYPdV7QN05U",
        "outputId": "06e53cfd-3aad-4746-ea14-06e9fa3f3531"
      },
      "outputs": [
        {
          "output_type": "execute_result",
          "data": {
            "text/plain": [
              "True"
            ]
          },
          "metadata": {},
          "execution_count": 35
        }
      ],
      "source": [
        "res[\"success\"] # should be True"
      ]
    },
    {
      "cell_type": "code",
      "execution_count": 36,
      "metadata": {
        "ExecuteTime": {
          "end_time": "2021-03-03T14:44:53.140244Z",
          "start_time": "2021-03-03T14:44:53.128239Z"
        },
        "colab": {
          "base_uri": "https://localhost:8080/"
        },
        "id": "rDvLs7RUN05W",
        "outputId": "c6f189fe-f2ba-4fe6-a376-e228d531fd35"
      },
      "outputs": [
        {
          "output_type": "execute_result",
          "data": {
            "text/plain": [
              "array([-4.11242022e-03, -8.62703810e-04, -1.60449892e-03, ...,\n",
              "       -6.60595229e-01, -1.56493507e+00, -1.80495043e-01])"
            ]
          },
          "metadata": {},
          "execution_count": 36
        }
      ],
      "source": [
        "res[\"x\"] # leraned weights"
      ]
    },
    {
      "cell_type": "markdown",
      "metadata": {
        "id": "5SEYgzMXN05Y"
      },
      "source": [
        "Выведите качество на обучении (`X_train`, `y_train`) и на контроле (`X_test`, `y_test`). Не забудьте установить веса!"
      ]
    },
    {
      "cell_type": "code",
      "execution_count": 37,
      "metadata": {
        "ExecuteTime": {
          "end_time": "2021-03-03T14:44:53.172124Z",
          "start_time": "2021-03-03T14:44:53.144212Z"
        },
        "colab": {
          "base_uri": "https://localhost:8080/"
        },
        "id": "HOUuBYFxN05Y",
        "outputId": "fa629cde-c13b-491b-d5dc-36edb215eaa7"
      },
      "outputs": [
        {
          "output_type": "stream",
          "name": "stdout",
          "text": [
            "Accuracy on train: 1.0\n",
            "Accuracy on test: 0.9555555555555556\n"
          ]
        }
      ],
      "source": [
        "### your code here\n",
        "#weights = get_weights(network)\n",
        "print(f'Accuracy on train: {(predict(network, X_train) == y_train).mean()}')\n",
        "print(f'Accuracy on test: {(predict(network, X_test) == y_test).mean()}')"
      ]
    },
    {
      "cell_type": "markdown",
      "metadata": {
        "id": "grklVqowN05Z"
      },
      "source": [
        "У `minimize` есть также аргумент `callback` — в нее можно передать функцию, которая будет вызываться после каждой итерации оптимизации. Такую функцию удобно оформить в виде метода класса, который будет сохранять качество на обучении контроле после каждой итерации. Реализуйте этот метод в классе `Callback`:"
      ]
    },
    {
      "cell_type": "code",
      "execution_count": 38,
      "metadata": {
        "ExecuteTime": {
          "end_time": "2021-03-03T14:44:53.188082Z",
          "start_time": "2021-03-03T14:44:53.175117Z"
        },
        "id": "GR9iJBGEN05a"
      },
      "outputs": [],
      "source": [
        "class Callback:\n",
        "    def __init__(self, network, X_train, y_train, X_test, y_test, print=False):\n",
        "        self.network = network\n",
        "        self.X_train = X_train\n",
        "        self.X_test = X_test\n",
        "        self.y_train = y_train\n",
        "        self.y_test = y_test\n",
        "        self.print = print\n",
        "        self.train_acc = []\n",
        "        self.test_acc = []\n",
        "        \n",
        "    def call(self, weights):\n",
        "        \"\"\"\n",
        "        Computes quality on train and test set with given weights\n",
        "        and saves to self.train_acc and self.test_acc.\n",
        "        If self.print is True, also prints these 2 values\n",
        "        \"\"\"\n",
        "        ### your code here\n",
        "        self.train_acc += [(predict(self.network, self.X_train) == self.y_train).mean()]\n",
        "        self.test_acc += [(predict(self.network, self.X_test) == self.y_test).mean()]\n",
        "        if self.print:\n",
        "            print(f'Accuracy on train: {self.train_acc[-1]}, Accuracy on test: {self.test_acc[-1]}')"
      ]
    },
    {
      "cell_type": "code",
      "execution_count": 39,
      "metadata": {
        "ExecuteTime": {
          "end_time": "2021-03-03T14:44:54.497924Z",
          "start_time": "2021-03-03T14:44:53.191074Z"
        },
        "colab": {
          "base_uri": "https://localhost:8080/"
        },
        "id": "l_U43R57N05c",
        "outputId": "1f6dd4af-566a-4b47-8d58-81ccb3cf0909"
      },
      "outputs": [
        {
          "output_type": "stream",
          "name": "stdout",
          "text": [
            "Accuracy on train: 0.10616184112843356, Accuracy on test: 0.08444444444444445\n",
            "Accuracy on train: 0.1789161098737936, Accuracy on test: 0.18444444444444444\n",
            "Accuracy on train: 0.22271714922049, Accuracy on test: 0.26666666666666666\n",
            "Accuracy on train: 0.2925018559762435, Accuracy on test: 0.31555555555555553\n",
            "Accuracy on train: 0.31403118040089084, Accuracy on test: 0.3488888888888889\n",
            "Accuracy on train: 0.33556050482553823, Accuracy on test: 0.38\n",
            "Accuracy on train: 0.4298440979955457, Accuracy on test: 0.44222222222222224\n",
            "Accuracy on train: 0.5976243504083147, Accuracy on test: 0.56\n",
            "Accuracy on train: 0.7542687453600594, Accuracy on test: 0.7133333333333334\n",
            "Accuracy on train: 0.7654046028210839, Accuracy on test: 0.7244444444444444\n",
            "Accuracy on train: 0.7832219747587231, Accuracy on test: 0.7577777777777778\n",
            "Accuracy on train: 0.8106904231625836, Accuracy on test: 0.7777777777777778\n",
            "Accuracy on train: 0.8262806236080178, Accuracy on test: 0.8\n",
            "Accuracy on train: 0.8455827765404603, Accuracy on test: 0.7911111111111111\n",
            "Accuracy on train: 0.8418708240534521, Accuracy on test: 0.8088888888888889\n",
            "Accuracy on train: 0.8492947290274685, Accuracy on test: 0.8222222222222222\n",
            "Accuracy on train: 0.8463251670378619, Accuracy on test: 0.8222222222222222\n",
            "Accuracy on train: 0.8596881959910914, Accuracy on test: 0.84\n",
            "Accuracy on train: 0.8641425389755011, Accuracy on test: 0.8577777777777778\n",
            "Accuracy on train: 0.8797327394209354, Accuracy on test: 0.8711111111111111\n",
            "Accuracy on train: 0.882702301410542, Accuracy on test: 0.8822222222222222\n",
            "Accuracy on train: 0.8864142538975501, Accuracy on test: 0.8844444444444445\n",
            "Accuracy on train: 0.89086859688196, Accuracy on test: 0.8888888888888888\n",
            "Accuracy on train: 0.8982925018559762, Accuracy on test: 0.8955555555555555\n",
            "Accuracy on train: 0.8990348923533779, Accuracy on test: 0.9022222222222223\n",
            "Accuracy on train: 0.9079435783221975, Accuracy on test: 0.9088888888888889\n",
            "Accuracy on train: 0.9183370452858204, Accuracy on test: 0.9155555555555556\n",
            "Accuracy on train: 0.9198218262806236, Accuracy on test: 0.9222222222222223\n",
            "Accuracy on train: 0.9198218262806236, Accuracy on test: 0.9177777777777778\n",
            "Accuracy on train: 0.9183370452858204, Accuracy on test: 0.9155555555555556\n",
            "Accuracy on train: 0.9235337787676318, Accuracy on test: 0.9177777777777778\n",
            "Accuracy on train: 0.9317000742390498, Accuracy on test: 0.9244444444444444\n",
            "Accuracy on train: 0.9368968077208611, Accuracy on test: 0.92\n",
            "Accuracy on train: 0.9435783221974758, Accuracy on test: 0.9177777777777778\n",
            "Accuracy on train: 0.9480326651818857, Accuracy on test: 0.9177777777777778\n",
            "Accuracy on train: 0.9487750556792873, Accuracy on test: 0.9244444444444444\n",
            "Accuracy on train: 0.949517446176689, Accuracy on test: 0.9266666666666666\n",
            "Accuracy on train: 0.9502598366740905, Accuracy on test: 0.9355555555555556\n",
            "Accuracy on train: 0.9524870081662955, Accuracy on test: 0.94\n",
            "Accuracy on train: 0.9606533036377134, Accuracy on test: 0.9355555555555556\n",
            "Accuracy on train: 0.96362286562732, Accuracy on test: 0.9444444444444444\n",
            "Accuracy on train: 0.961395694135115, Accuracy on test: 0.94\n",
            "Accuracy on train: 0.9643652561247216, Accuracy on test: 0.9377777777777778\n",
            "Accuracy on train: 0.9591685226429102, Accuracy on test: 0.9377777777777778\n",
            "Accuracy on train: 0.96362286562732, Accuracy on test: 0.94\n",
            "Accuracy on train: 0.9658500371195249, Accuracy on test: 0.9377777777777778\n",
            "Accuracy on train: 0.9651076466221232, Accuracy on test: 0.9377777777777778\n",
            "Accuracy on train: 0.9673348181143281, Accuracy on test: 0.9488888888888889\n",
            "Accuracy on train: 0.9740163325909429, Accuracy on test: 0.9555555555555556\n",
            "Accuracy on train: 0.9725315515961396, Accuracy on test: 0.9555555555555556\n",
            "Accuracy on train: 0.9792130660727543, Accuracy on test: 0.9511111111111111\n",
            "Accuracy on train: 0.9762435040831478, Accuracy on test: 0.9488888888888889\n",
            "Accuracy on train: 0.9762435040831478, Accuracy on test: 0.9533333333333334\n",
            "Accuracy on train: 0.9844097995545658, Accuracy on test: 0.9555555555555556\n",
            "Accuracy on train: 0.9866369710467706, Accuracy on test: 0.9577777777777777\n",
            "Accuracy on train: 0.9836674090571641, Accuracy on test: 0.96\n",
            "Accuracy on train: 0.9851521900519673, Accuracy on test: 0.9577777777777777\n",
            "Accuracy on train: 0.9866369710467706, Accuracy on test: 0.96\n",
            "Accuracy on train: 0.9866369710467706, Accuracy on test: 0.9622222222222222\n",
            "Accuracy on train: 0.9896065330363771, Accuracy on test: 0.9577777777777777\n",
            "Accuracy on train: 0.991833704528582, Accuracy on test: 0.9622222222222222\n",
            "Accuracy on train: 0.9910913140311804, Accuracy on test: 0.9622222222222222\n",
            "Accuracy on train: 0.9903489235337788, Accuracy on test: 0.9622222222222222\n",
            "Accuracy on train: 0.994060876020787, Accuracy on test: 0.96\n",
            "Accuracy on train: 0.9955456570155902, Accuracy on test: 0.9622222222222222\n",
            "Accuracy on train: 0.9962880475129918, Accuracy on test: 0.9622222222222222\n",
            "Accuracy on train: 0.9970304380103935, Accuracy on test: 0.96\n",
            "Accuracy on train: 0.9985152190051967, Accuracy on test: 0.9622222222222222\n",
            "Accuracy on train: 0.9977728285077951, Accuracy on test: 0.9577777777777777\n",
            "Accuracy on train: 0.9970304380103935, Accuracy on test: 0.96\n",
            "Accuracy on train: 0.9985152190051967, Accuracy on test: 0.96\n",
            "Accuracy on train: 0.9977728285077951, Accuracy on test: 0.9577777777777777\n",
            "Accuracy on train: 0.9977728285077951, Accuracy on test: 0.96\n",
            "Accuracy on train: 0.9992576095025983, Accuracy on test: 0.9622222222222222\n",
            "Accuracy on train: 0.9992576095025983, Accuracy on test: 0.96\n",
            "Accuracy on train: 0.9977728285077951, Accuracy on test: 0.9622222222222222\n",
            "Accuracy on train: 1.0, Accuracy on test: 0.9577777777777777\n",
            "Accuracy on train: 1.0, Accuracy on test: 0.9555555555555556\n",
            "Accuracy on train: 1.0, Accuracy on test: 0.9577777777777777\n",
            "Accuracy on train: 1.0, Accuracy on test: 0.9577777777777777\n",
            "Accuracy on train: 1.0, Accuracy on test: 0.96\n",
            "Accuracy on train: 1.0, Accuracy on test: 0.96\n",
            "Accuracy on train: 1.0, Accuracy on test: 0.96\n",
            "Accuracy on train: 1.0, Accuracy on test: 0.9622222222222222\n",
            "Accuracy on train: 1.0, Accuracy on test: 0.9666666666666667\n",
            "Accuracy on train: 1.0, Accuracy on test: 0.9688888888888889\n",
            "Accuracy on train: 1.0, Accuracy on test: 0.9688888888888889\n",
            "Accuracy on train: 1.0, Accuracy on test: 0.9644444444444444\n",
            "Accuracy on train: 1.0, Accuracy on test: 0.96\n",
            "Accuracy on train: 1.0, Accuracy on test: 0.9577777777777777\n",
            "Accuracy on train: 1.0, Accuracy on test: 0.9577777777777777\n",
            "Accuracy on train: 1.0, Accuracy on test: 0.9577777777777777\n",
            "Accuracy on train: 1.0, Accuracy on test: 0.96\n",
            "Accuracy on train: 1.0, Accuracy on test: 0.9622222222222222\n",
            "Accuracy on train: 1.0, Accuracy on test: 0.9644444444444444\n",
            "Accuracy on train: 1.0, Accuracy on test: 0.9644444444444444\n",
            "Accuracy on train: 1.0, Accuracy on test: 0.9644444444444444\n",
            "Accuracy on train: 1.0, Accuracy on test: 0.96\n",
            "Accuracy on train: 1.0, Accuracy on test: 0.9577777777777777\n",
            "Accuracy on train: 1.0, Accuracy on test: 0.9577777777777777\n",
            "Accuracy on train: 1.0, Accuracy on test: 0.9555555555555556\n",
            "Accuracy on train: 1.0, Accuracy on test: 0.96\n",
            "Accuracy on train: 1.0, Accuracy on test: 0.96\n",
            "Accuracy on train: 1.0, Accuracy on test: 0.96\n",
            "Accuracy on train: 1.0, Accuracy on test: 0.96\n",
            "Accuracy on train: 1.0, Accuracy on test: 0.9622222222222222\n",
            "Accuracy on train: 1.0, Accuracy on test: 0.9622222222222222\n",
            "Accuracy on train: 1.0, Accuracy on test: 0.9622222222222222\n",
            "Accuracy on train: 1.0, Accuracy on test: 0.96\n",
            "Accuracy on train: 1.0, Accuracy on test: 0.9555555555555556\n",
            "Accuracy on train: 1.0, Accuracy on test: 0.9555555555555556\n",
            "Accuracy on train: 1.0, Accuracy on test: 0.9555555555555556\n",
            "Accuracy on train: 1.0, Accuracy on test: 0.9555555555555556\n",
            "Accuracy on train: 1.0, Accuracy on test: 0.9555555555555556\n"
          ]
        }
      ],
      "source": [
        "cb = Callback(network, X_train, y_train, X_test, y_test, print=True)\n",
        "\n",
        "res = minimize(\n",
        "    compute_loss_grad, weights,  \n",
        "    args=[network, X_train, y_train], \n",
        "    method=\"L-BFGS-B\",\n",
        "    jac=True,\n",
        "    callback=cb.call\n",
        ")"
      ]
    },
    {
      "cell_type": "markdown",
      "metadata": {
        "id": "B1hjrd7GN05d"
      },
      "source": [
        "Изобразите на графике кривую качества на обучени и контроле по итерациям:"
      ]
    },
    {
      "cell_type": "code",
      "execution_count": 42,
      "metadata": {
        "ExecuteTime": {
          "end_time": "2021-03-03T14:44:54.816117Z",
          "start_time": "2021-03-03T14:44:54.500922Z"
        },
        "colab": {
          "base_uri": "https://localhost:8080/",
          "height": 369
        },
        "id": "GXCN_XZNN05d",
        "outputId": "1133e5d6-5ecc-4f4f-8e26-214b9348a10f"
      },
      "outputs": [
        {
          "output_type": "display_data",
          "data": {
            "image/png": "[encoded data removed]",
            "text/plain": [
              "<Figure size 720x360 with 1 Axes>"
            ]
          },
          "metadata": {
            "needs_background": "light"
          }
        }
      ],
      "source": [
        "fig, ax = plt.subplots(1, 1, figsize=(10, 5))\n",
        "ax.plot(cb.train_acc, label=\"train acc\")\n",
        "ax.plot(cb.test_acc, label=\"test acc\")\n",
        "ax.set_xlabel(\"Iteration\")\n",
        "ax.set_ylabel(\"Accuracy\")\n",
        "ax.grid(True)\n",
        "ax.legend()\n",
        "\n",
        "fig.tight_layout()\n",
        "plt.show()"
      ]
    },
    {
      "cell_type": "markdown",
      "metadata": {
        "id": "H0YpBkixN05e"
      },
      "source": [
        "## Эксперименты с числом слоев (1 балл)"
      ]
    },
    {
      "cell_type": "markdown",
      "metadata": {
        "id": "Lw6gkxSKN05f"
      },
      "source": [
        "Ясно, что из-за случайного начального приближения с каждым запуском обучения мы будем получать различное качество. Попробуем обучить нашу нейросеть с разным числом слоев несколько раз.\n",
        "\n",
        "Заполните матрицы `accs_train` и `accs_test`. В позиции `[i, j]` должна стоять величина доли правильных ответов сети с $i+1$ полносвязными слоями при $j$-м запуске (все запуски идентичны)."
      ]
    },
    {
      "cell_type": "code",
      "execution_count": 55,
      "metadata": {
        "ExecuteTime": {
          "end_time": "2021-03-03T14:44:54.832074Z",
          "start_time": "2021-03-03T14:44:54.819071Z"
        },
        "id": "9T3eBiCGN05g"
      },
      "outputs": [],
      "source": [
        "accs_train = np.zeros((5, 5))\n",
        "accs_test = np.zeros((5, 5))"
      ]
    },
    {
      "cell_type": "code",
      "execution_count": 56,
      "metadata": {
        "ExecuteTime": {
          "end_time": "2021-03-03T14:45:56.444624Z",
          "start_time": "2021-03-03T14:44:54.836024Z"
        },
        "id": "Rey6ahpaN05g"
      },
      "outputs": [],
      "source": [
        "### your code here\n",
        "for num_layers in range(5):\n",
        "    for run in range(5):\n",
        "        network = make_network(input_size, hidden_layers_size, output_size, num_layers + 1, ReLU)\n",
        "        res = minimize(compute_loss_grad, get_weights(network), args=[network, X_train, y_train], method='L-BFGS-B', jac=True)\n",
        "        accs_train[num_layers, run] = (predict(network, X_train) == y_train).mean()\n",
        "        accs_test[num_layers, run] = (predict(network, X_test) == y_test).mean()"
      ]
    },
    {
      "cell_type": "markdown",
      "metadata": {
        "id": "Nnqwkld_N05i"
      },
      "source": [
        "Построим боксплоты полученного качества (горизонтальная линия в каждом столбце — среднее, прямоугольник показывает разброс)."
      ]
    },
    {
      "cell_type": "code",
      "execution_count": 57,
      "metadata": {
        "ExecuteTime": {
          "end_time": "2021-03-03T14:45:57.060827Z",
          "start_time": "2021-03-03T14:45:56.447467Z"
        },
        "colab": {
          "base_uri": "https://localhost:8080/",
          "height": 585
        },
        "id": "fZkX0YORN05j",
        "outputId": "2f664601-84da-415a-a45a-9ebe9fbee06d"
      },
      "outputs": [
        {
          "output_type": "display_data",
          "data": {
            "image/png": "[encoded data removed]",
            "text/plain": [
              "<Figure size 720x576 with 2 Axes>"
            ]
          },
          "metadata": {
            "needs_background": "light"
          }
        }
      ],
      "source": [
        "fig, axes = plt.subplots(2, 1, figsize=(10, 8))\n",
        "\n",
        "axes[0].boxplot(accs_train.T, showfliers=False)\n",
        "axes[1].boxplot(accs_test.T, showfliers=False)\n",
        "\n",
        "axes[0].set_xlabel(\"Number of layers\")\n",
        "axes[1].set_xlabel(\"Number of layers\")\n",
        "\n",
        "axes[0].set_ylabel(\"Train accuracy\")\n",
        "axes[1].set_ylabel(\"Test accuracy\")\n",
        "\n",
        "axes[0].set_title(\"Train quality in 5 runs\")\n",
        "axes[1].set_title(\"Test quality in 5 runs\")\n",
        "\n",
        "axes[0].grid(True)\n",
        "axes[1].grid(True)\n",
        "\n",
        "fig.tight_layout()\n",
        "plt.show()"
      ]
    },
    {
      "cell_type": "markdown",
      "metadata": {
        "id": "yKwQAc0hN05k"
      },
      "source": [
        "Дайте развёрнутый ответ на вопросы (в этой же ячейке):\n",
        "* Как изменяются качество на обучении и контроле и устойчивость процесса обучения при увеличении числа слоев?\n",
        "* Можно ли сказать, что логистическая регрессия (линейная модель) дает качество хуже, чем нелинейная модель?\n",
        "\n",
        "__Ответы:__\n",
        "\n",
        "Качество на обучении вне зависимости от числа слоев равно 1, что свидетельствует о переобучении сети. На тесте с ростом числа слоев, и, соответственно, с ростом числа параметров и сложности модели, разброс модели увеличивается. Смещение, т. е отклонение среднего ответа сети от ответа идеального алгоритма, сначала уменьшается до 3 слоев, затем возрастает. В теории с ростом сложности смещение должно убывать. Можно сказть, что в данном эксперименте наилучшее качество было достигнуто при использовании 3 слоев.\n",
        "\n",
        "Линейная модель, т. е. сеть с 1 слоем, дала качество лучшее, чем модели с 4 и 5 слоями, но хуже, чем 2 и 3 слойные сети. При этом в силу простоты она имеет наименьший разброс среди всех моделей."
      ]
    },
    {
      "cell_type": "markdown",
      "metadata": {
        "id": "wEpFmk4KN05k"
      },
      "source": [
        "## Эксперименты c различными инициализациями весов (1 балл)"
      ]
    },
    {
      "cell_type": "markdown",
      "metadata": {
        "id": "sp0ceTsiN05k"
      },
      "source": [
        "Как уже было сказано, начальная инициализация весов нейронной сети может сильно влиять на процесс ее обучения и, как следствие, на ее качество.\n",
        "\n",
        "В этом пункте вам предлагается попробовать обучить несколько нейронных сетей с различными инициализациями слоев.\n",
        "\n",
        "Для этого необходимо реализовать функцию, инициализирующую веса линейных слоёв нашей нейронной сети. Добавьте в функционал данного метода возможность инициализировать его веса с помощью инициализации Kaiming (используется, если в нейронной сети в качестве функций активации используется ReLU) и инициализации Xavier (используется, если в нейронной сети в качестве функций активации используется Tanh или Sigmoid):"
      ]
    },
    {
      "cell_type": "code",
      "execution_count": 58,
      "metadata": {
        "ExecuteTime": {
          "end_time": "2021-03-03T14:45:57.075786Z",
          "start_time": "2021-03-03T14:45:57.063819Z"
        },
        "code_folding": [],
        "id": "FghwmsYFN05m"
      },
      "outputs": [],
      "source": [
        "def initialize_network(network, initialization):\n",
        "    for layer in network:\n",
        "        if isinstance(layer, Dense):\n",
        "            input_units, output_units = layer.weights.shape\n",
        "            if initialization == 'Kaiming':\n",
        "                ### your code here\n",
        "                layer.weights = np.random.normal(scale=np.sqrt(2 / input_units), size=(input_units, output_units))\n",
        "            elif initialization == 'Xavier':\n",
        "                ### your code here\n",
        "                layer.weights = np.random.uniform(low=-np.sqrt(6 / (input_units + output_units)), high=np.sqrt(6 / (input_units + output_units)), size=(input_units, output_units))\n",
        "            else:\n",
        "                # Initialize weights with small random numbers from normal distribution.\n",
        "                # In this case `initialization` represents a standard deviation\n",
        "                # for normal distribution.\n",
        "                layer.weights = np.random.randn(input_units, output_units) * initialization\n",
        "            layer.biases = np.zeros_like(layer.biases)\n",
        "            \n",
        "            layer.params = [layer.weights, layer.biases]"
      ]
    },
    {
      "cell_type": "markdown",
      "metadata": {
        "id": "tz5IJkH2N05n"
      },
      "source": [
        "Теперь попробуйте для каждой из 3 инициализаций обучить нейронную сеть несколько раз. Попробуйте проделать данную операцию при зафиксированном числе слоев равным 3, 4 и 5."
      ]
    },
    {
      "cell_type": "markdown",
      "metadata": {
        "id": "RGP2GrCNN05n"
      },
      "source": [
        "### 3 слоя\n",
        "\n",
        "Зафиксируйте в сети число слоев равное трем."
      ]
    },
    {
      "cell_type": "markdown",
      "metadata": {
        "id": "jm0PpXV9N05o"
      },
      "source": [
        "Заполните матрицы `accs_train` и `accs_test`. В позиции `[i, j]` должна стоять величина доли правильных ответов сети при $j$-м запуске (все запуски идентичны) с инициализацией Kaiming при $i = 3$, с инициализацией Xavier при $i = 4$ и с инициализацией из нормального распределения с фиксированными параметрами при $0 \\leqslant i \\leqslant 2$ (попробуйте здесь 3 разных параметра для стандартного отклонения для нормального распределения, например: `1e-3`, `1e-2`, `1e-1`). Заметьте, что при большом числе слоев слишком низкое стандартное отклонение может не давать нейронной сети нормально обучиться."
      ]
    },
    {
      "cell_type": "code",
      "execution_count": 63,
      "metadata": {
        "ExecuteTime": {
          "end_time": "2021-03-03T14:45:57.091744Z",
          "start_time": "2021-03-03T14:45:57.079777Z"
        },
        "id": "082L1D_CN05p"
      },
      "outputs": [],
      "source": [
        "init_vars = [1e-3, 1e-2, 1e-1, 'Kaiming', 'Xavier']"
      ]
    },
    {
      "cell_type": "code",
      "execution_count": 64,
      "metadata": {
        "ExecuteTime": {
          "end_time": "2021-03-03T14:45:57.107701Z",
          "start_time": "2021-03-03T14:45:57.094737Z"
        },
        "id": "F0CRDYPvN05q"
      },
      "outputs": [],
      "source": [
        "accs_train = np.zeros((5, 5))\n",
        "accs_test = np.zeros((5, 5))"
      ]
    },
    {
      "cell_type": "code",
      "execution_count": 65,
      "metadata": {
        "ExecuteTime": {
          "end_time": "2021-03-03T14:46:27.904407Z",
          "start_time": "2021-03-03T14:45:57.111690Z"
        },
        "id": "2RbsiRqIN05q"
      },
      "outputs": [],
      "source": [
        "### your code here\n",
        "for idx in range(len(init_vars)):\n",
        "    for run in range(5):\n",
        "        network = make_network(input_size, hidden_layers_size, output_size, 3, ReLU)\n",
        "        initialize_network(network, init_vars[idx])\n",
        "        res = minimize(compute_loss_grad, get_weights(network), args=[network, X_train, y_train], method='L-BFGS-B', jac=True)\n",
        "        accs_train[idx, run] = (predict(network, X_train) == y_train).mean()\n",
        "        accs_test[idx, run] = (predict(network, X_test) == y_test).mean()"
      ]
    },
    {
      "cell_type": "markdown",
      "metadata": {
        "id": "NYvOBMWQN05r"
      },
      "source": [
        "Построим боксплоты полученного качества (горизонтальная линия в каждом столбце — среднее, прямоугольник показывает разброс)."
      ]
    },
    {
      "cell_type": "code",
      "execution_count": 66,
      "metadata": {
        "ExecuteTime": {
          "end_time": "2021-03-03T14:46:28.632502Z",
          "start_time": "2021-03-03T14:46:27.907401Z"
        },
        "scrolled": false,
        "colab": {
          "base_uri": "https://localhost:8080/",
          "height": 585
        },
        "id": "unp8KN5gN05s",
        "outputId": "db8d6197-27d0-4061-bd10-6fae7fda6713"
      },
      "outputs": [
        {
          "output_type": "display_data",
          "data": {
            "image/png": "[encoded data removed]",
            "text/plain": [
              "<Figure size 720x576 with 2 Axes>"
            ]
          },
          "metadata": {
            "needs_background": "light"
          }
        }
      ],
      "source": [
        "init_vars_for_plot = [(x if isinstance(x, str) else fr\"$\\sigma = {x}$\") for x in init_vars]\n",
        "\n",
        "fig, ax = plt.subplots(2, 1, figsize=(10, 8))\n",
        "\n",
        "ax[0].boxplot(accs_train.T, labels=init_vars_for_plot, showfliers=False)\n",
        "\n",
        "ax[0].set_title(\"Train quality in 5 runs\")\n",
        "ax[0].set_xlabel(\"Initialization\")\n",
        "ax[0].set_ylabel(\"Test accuracy\")\n",
        "ax[0].grid(True)\n",
        "\n",
        "\n",
        "ax[1].boxplot(accs_test.T, labels=init_vars_for_plot, showfliers=False)\n",
        "\n",
        "ax[1].set_title(\"Test quality in 5 runs\")\n",
        "ax[1].set_xlabel(\"Initialization\")\n",
        "ax[1].set_ylabel(\"Test accuracy\")\n",
        "ax[1].grid(True)\n",
        "\n",
        "fig.tight_layout()\n",
        "plt.show()"
      ]
    },
    {
      "cell_type": "markdown",
      "metadata": {
        "id": "Cm6ox2X-N05t"
      },
      "source": [
        "### 4 слоя\n",
        "\n",
        "Выполните тут тот же код, что и в предыдущем пункте, но только уже с 4 слоями в сети."
      ]
    },
    {
      "cell_type": "code",
      "execution_count": 79,
      "metadata": {
        "ExecuteTime": {
          "end_time": "2021-03-03T14:45:57.091744Z",
          "start_time": "2021-03-03T14:45:57.079777Z"
        },
        "id": "VJFTtWyZN05u"
      },
      "outputs": [],
      "source": [
        "init_vars = [5e-3, 1e-2, 1e-1, 'Kaiming', 'Xavier']"
      ]
    },
    {
      "cell_type": "code",
      "execution_count": 80,
      "metadata": {
        "ExecuteTime": {
          "end_time": "2021-03-03T14:45:57.107701Z",
          "start_time": "2021-03-03T14:45:57.094737Z"
        },
        "id": "tymbN3GiN05u"
      },
      "outputs": [],
      "source": [
        "accs_train = np.zeros((5, 5))\n",
        "accs_test = np.zeros((5, 5))"
      ]
    },
    {
      "cell_type": "code",
      "execution_count": 81,
      "metadata": {
        "ExecuteTime": {
          "end_time": "2021-03-03T14:46:27.904407Z",
          "start_time": "2021-03-03T14:45:57.111690Z"
        },
        "id": "Oozztv4yN05v"
      },
      "outputs": [],
      "source": [
        "### your code here\n",
        "for idx in range(len(init_vars)):\n",
        "    for run in range(5):\n",
        "        network = make_network(input_size, hidden_layers_size, output_size, 4, ReLU)\n",
        "        initialize_network(network, init_vars[idx])\n",
        "        res = minimize(compute_loss_grad, get_weights(network), args=[network, X_train, y_train], method='L-BFGS-B', jac=True)\n",
        "        accs_train[idx, run] = (predict(network, X_train) == y_train).mean()\n",
        "        accs_test[idx, run] = (predict(network, X_test) == y_test).mean()"
      ]
    },
    {
      "cell_type": "markdown",
      "metadata": {
        "id": "_aD2SfDoN05y"
      },
      "source": [
        "Построим боксплоты полученного качества (горизонтальная линия в каждом столбце — среднее, прямоугольник показывает разброс)."
      ]
    },
    {
      "cell_type": "code",
      "execution_count": 82,
      "metadata": {
        "ExecuteTime": {
          "end_time": "2021-03-03T14:46:28.632502Z",
          "start_time": "2021-03-03T14:46:27.907401Z"
        },
        "scrolled": false,
        "colab": {
          "base_uri": "https://localhost:8080/",
          "height": 585
        },
        "id": "uBuDS7erN050",
        "outputId": "752649f0-308a-4b45-a06d-3b05444d7e92"
      },
      "outputs": [
        {
          "output_type": "display_data",
          "data": {
            "image/png": "[encoded data removed]",
            "text/plain": [
              "<Figure size 720x576 with 2 Axes>"
            ]
          },
          "metadata": {
            "needs_background": "light"
          }
        }
      ],
      "source": [
        "init_vars_for_plot = [(x if isinstance(x, str) else fr\"$\\sigma = {x}$\") for x in init_vars]\n",
        "\n",
        "fig, ax = plt.subplots(2, 1, figsize=(10, 8))\n",
        "\n",
        "ax[0].boxplot(accs_train.T, labels=init_vars_for_plot, showfliers=False)\n",
        "\n",
        "ax[0].set_title(\"Train quality in 5 runs\")\n",
        "ax[0].set_xlabel(\"Initialization\")\n",
        "ax[0].set_ylabel(\"Test accuracy\")\n",
        "ax[0].grid(True)\n",
        "\n",
        "\n",
        "ax[1].boxplot(accs_test.T, labels=init_vars_for_plot, showfliers=False)\n",
        "\n",
        "ax[1].set_title(\"Test quality in 5 runs\")\n",
        "ax[1].set_xlabel(\"Initialization\")\n",
        "ax[1].set_ylabel(\"Test accuracy\")\n",
        "ax[1].grid(True)\n",
        "\n",
        "fig.tight_layout()\n",
        "plt.show()"
      ]
    },
    {
      "cell_type": "markdown",
      "metadata": {
        "id": "P0vKoCywN052"
      },
      "source": [
        "### 5 слоев\n",
        "\n",
        "Выполните тут тот же код, что и в предыдущем пункте, но только уже с 5 слоями в сети."
      ]
    },
    {
      "cell_type": "code",
      "execution_count": 83,
      "metadata": {
        "ExecuteTime": {
          "end_time": "2021-03-03T14:45:57.091744Z",
          "start_time": "2021-03-03T14:45:57.079777Z"
        },
        "id": "Pw6Cm3TAN054"
      },
      "outputs": [],
      "source": [
        "init_vars = [1e-2, 1e-1, 1e0, 'Kaiming', 'Xavier']"
      ]
    },
    {
      "cell_type": "code",
      "execution_count": 84,
      "metadata": {
        "ExecuteTime": {
          "end_time": "2021-03-03T14:45:57.107701Z",
          "start_time": "2021-03-03T14:45:57.094737Z"
        },
        "id": "zsg56arFN054"
      },
      "outputs": [],
      "source": [
        "accs_train = np.zeros((5, 5))\n",
        "accs_test = np.zeros((5, 5))"
      ]
    },
    {
      "cell_type": "code",
      "execution_count": 85,
      "metadata": {
        "ExecuteTime": {
          "end_time": "2021-03-03T14:46:27.904407Z",
          "start_time": "2021-03-03T14:45:57.111690Z"
        },
        "id": "rdQ7xu6NN055"
      },
      "outputs": [],
      "source": [
        "### your code here\n",
        "for idx in range(len(init_vars)):\n",
        "    for run in range(5):\n",
        "        network = make_network(input_size, hidden_layers_size, output_size, 5, ReLU)\n",
        "        initialize_network(network, init_vars[idx])\n",
        "        res = minimize(compute_loss_grad, get_weights(network), args=[network, X_train, y_train], method='L-BFGS-B', jac=True)\n",
        "        accs_train[idx, run] = (predict(network, X_train) == y_train).mean()\n",
        "        accs_test[idx, run] = (predict(network, X_test) == y_test).mean()"
      ]
    },
    {
      "cell_type": "markdown",
      "metadata": {
        "id": "9nIRPl2WN056"
      },
      "source": [
        "Построим боксплоты полученного качества (горизонтальная линия в каждом столбце — среднее, прямоугольник показывает разброс)."
      ]
    },
    {
      "cell_type": "code",
      "execution_count": 86,
      "metadata": {
        "ExecuteTime": {
          "end_time": "2021-03-03T14:46:28.632502Z",
          "start_time": "2021-03-03T14:46:27.907401Z"
        },
        "scrolled": false,
        "colab": {
          "base_uri": "https://localhost:8080/",
          "height": 585
        },
        "id": "xQ0gMCZmN056",
        "outputId": "4b15683a-45d5-4e70-d136-5ad3a9537831"
      },
      "outputs": [
        {
          "output_type": "display_data",
          "data": {
            "image/png": "[encoded data removed]",
            "text/plain": [
              "<Figure size 720x576 with 2 Axes>"
            ]
          },
          "metadata": {
            "needs_background": "light"
          }
        }
      ],
      "source": [
        "init_vars_for_plot = [(x if isinstance(x, str) else fr\"$\\sigma = {x}$\") for x in init_vars]\n",
        "\n",
        "fig, ax = plt.subplots(2, 1, figsize=(10, 8))\n",
        "\n",
        "ax[0].boxplot(accs_train.T, labels=init_vars_for_plot, showfliers=False)\n",
        "\n",
        "ax[0].set_title(\"Train quality in 5 runs\")\n",
        "ax[0].set_xlabel(\"Initialization\")\n",
        "ax[0].set_ylabel(\"Test accuracy\")\n",
        "ax[0].grid(True)\n",
        "\n",
        "ax[1].boxplot(accs_test.T, labels=init_vars_for_plot, showfliers=False)\n",
        "\n",
        "ax[1].set_title(\"Test quality in 5 runs\")\n",
        "ax[1].set_xlabel(\"Initialization\")\n",
        "ax[1].set_ylabel(\"Test accuracy\")\n",
        "ax[1].grid(True)\n",
        "\n",
        "fig.tight_layout()\n",
        "plt.show()"
      ]
    },
    {
      "cell_type": "markdown",
      "metadata": {
        "id": "MAaXnf7NN057"
      },
      "source": [
        "Дайте развёрнутый ответ на вопросы (в этой же ячейке):\n",
        "* Как отличаются качество на обучении и контроле и устойчивость процесса обучения при различных инициализациях?\n",
        "* Какие инициализации помогают обучать более глубокие сети?\n",
        "\n",
        "__Ответы:__\n",
        "\n",
        "Качество на обучении при любом числе слоев и виде инициализации почти всегда равно 1, за исключением случая 5 слоев и $\\sigma=1$, где качество на обучении равно около 0.6. Это может быть связано со случайностью инициализации и наличием локальных минимумов у функции потерь. На тесте в целом с ростом числа слоев можно получить лучшие значения точности. Инициализации Kaiming и Xavier дают лучшее качество и сравнительно меньший разброс, нежели инициализации из стандартного нормального распределения. Таким образом, инициализации Xavier и Kaiming дают лучшую устойчивость. В целом рост числа слоев также ведет к лучшей устойчивости. Наилучшие результаты на тесте достигаются при 5 слоях и инициализации Kaiming. Можно сказать, что инициализации Xavier и Kaiming помогают обучать более глубокие сети в силу своей устойчивости и хорошего достигаемого качества."
      ]
    },
    {
      "cell_type": "markdown",
      "metadata": {
        "id": "Q7fgO2rON057"
      },
      "source": [
        "Теперь сравним скорость обучения при различных инициализациях. Создайте два списка списков `accs_test_on_iterations`, `accs_train_on_iterations` в каждом из которых в позиции `[i]` (см. описание `i` в предыдущем пункте) будет лежать список из значений `accuracy` на тестовой и обучающей выборках соотвественно, полученных во время обучения модели. Количество слоев в сети зафиксируйте равным 4."
      ]
    },
    {
      "cell_type": "code",
      "execution_count": 101,
      "metadata": {
        "ExecuteTime": {
          "end_time": "2021-03-03T14:45:57.091744Z",
          "start_time": "2021-03-03T14:45:57.079777Z"
        },
        "id": "y8ARYe1PN058"
      },
      "outputs": [],
      "source": [
        "init_vars = [1e-3, 1e-2, 1e-1, 'Kaiming', 'Xavier']"
      ]
    },
    {
      "cell_type": "code",
      "execution_count": 102,
      "metadata": {
        "ExecuteTime": {
          "end_time": "2021-03-03T14:46:28.647453Z",
          "start_time": "2021-03-03T14:46:28.635495Z"
        },
        "id": "5qgT7VEoN059"
      },
      "outputs": [],
      "source": [
        "accs_test_on_iterations = []\n",
        "accs_train_on_iterations = []"
      ]
    },
    {
      "cell_type": "code",
      "execution_count": 103,
      "metadata": {
        "ExecuteTime": {
          "end_time": "2021-03-03T14:46:34.433662Z",
          "start_time": "2021-03-03T14:46:28.650417Z"
        },
        "id": "PNY35EeTN059"
      },
      "outputs": [],
      "source": [
        "### your code here\n",
        "for idx in range(len(init_vars)):\n",
        "    network = make_network(input_size, hidden_layers_size, output_size, 4, ReLU)\n",
        "    initialize_network(network, init_vars[idx])\n",
        "    cb = Callback(network, X_train, y_train, X_test, y_test, print=False)\n",
        "    res = minimize(compute_loss_grad, get_weights(network), args=[network, X_train, y_train], method='L-BFGS-B', jac=True, callback=cb.call)\n",
        "    accs_train_on_iterations += [cb.train_acc]\n",
        "    accs_test_on_iterations += [cb.test_acc]"
      ]
    },
    {
      "cell_type": "code",
      "execution_count": 104,
      "metadata": {
        "ExecuteTime": {
          "end_time": "2021-03-03T14:46:34.875348Z",
          "start_time": "2021-03-03T14:46:34.436663Z"
        },
        "colab": {
          "base_uri": "https://localhost:8080/",
          "height": 585
        },
        "id": "440eWq7JN05-",
        "outputId": "a08f1a63-4fce-4295-c420-592bfa617bb4"
      },
      "outputs": [
        {
          "output_type": "display_data",
          "data": {
            "image/png": "[encoded data removed]",
            "text/plain": [
              "<Figure size 720x576 with 2 Axes>"
            ]
          },
          "metadata": {
            "needs_background": "light"
          }
        }
      ],
      "source": [
        "init_vars_for_plot = [(x if isinstance(x, str) else fr\"$\\sigma = {x}$\") for x in init_vars]\n",
        "\n",
        "fig, ax = plt.subplots(2, 1, figsize=(10, 8))\n",
        "\n",
        "for idx, label in enumerate(init_vars_for_plot):\n",
        "    ax[0].plot(accs_train_on_iterations[idx], label=label)\n",
        "\n",
        "ax[0].set_title(\"Train quality for different initializations\")\n",
        "ax[0].set_xlabel(\"Epoch number\")\n",
        "ax[0].set_ylabel(\"Test accuracy\")\n",
        "ax[0].grid(True)\n",
        "ax[0].legend()\n",
        "\n",
        "for idx, label in enumerate(init_vars_for_plot):\n",
        "    ax[1].plot(accs_test_on_iterations[idx], label=label)\n",
        "\n",
        "ax[1].set_title(\"Test quality for different initializations\")\n",
        "ax[1].set_xlabel(\"Epoch number\")\n",
        "ax[1].set_ylabel(\"Test accuracy\")\n",
        "ax[1].grid(True)\n",
        "ax[1].legend()\n",
        "\n",
        "fig.tight_layout()\n",
        "plt.show()"
      ]
    },
    {
      "cell_type": "markdown",
      "metadata": {
        "ExecuteTime": {
          "end_time": "2021-03-03T14:37:15.087902Z",
          "start_time": "2021-03-03T14:37:15.065996Z"
        },
        "id": "ScKpux99N05_"
      },
      "source": [
        "Дайте развёрнутый ответ на вопросы (в этой же ячейке):\n",
        "* Как меняется скорость обучения в зависимости от выбранной инициализации?\n",
        "\n",
        "__Ответы:__\n",
        "\n",
        "Быстрее всего модель сходится при инициализациях Xavier и Kaiming. Для инициализаций из стандартного нормального распредления сходимость значительно хуже, чем меньше $\\sigma$, тем дольше модель сходится. "
      ]
    },
    {
      "cell_type": "markdown",
      "metadata": {
        "id": "MRF5NuRjN06A"
      },
      "source": [
        "## Эксперименты c различными функциями активации (1 балл)"
      ]
    },
    {
      "cell_type": "markdown",
      "metadata": {
        "id": "5zh3mECfN06C"
      },
      "source": [
        "Проверим теперь, с какой функцией активации нейронная сеть будет обучаться лучше.\n",
        "\n",
        "В этом пункте вам предлагается попробовать обучить несколько нейронных сетей с различными функциями активации.\n",
        "\n",
        "Для этого нам нужно реализовать еще 2 слоя: для функций активации `Tanh` и `Sigmoid`."
      ]
    },
    {
      "cell_type": "code",
      "execution_count": 105,
      "metadata": {
        "ExecuteTime": {
          "end_time": "2021-03-03T14:46:34.891308Z",
          "start_time": "2021-03-03T14:46:34.878379Z"
        },
        "id": "VCwuVCVpN06D"
      },
      "outputs": [],
      "source": [
        "class Tanh:\n",
        "    \"\"\"\n",
        "    tanh(y) = (e^y - e^(-y)) / (e^y + e^(-y))\n",
        "    Используйте функцию np.tanh для подсчета гиперболического тангенса.\n",
        "    Вы можете сами реализовать подсчет tanh, но тогда вам нужно устойчиво его вычислять.\n",
        "    \"\"\"\n",
        "    def __init__(self):\n",
        "        self.params = [] # Tanh has no parameters\n",
        "\n",
        "    def forward(self, input):\n",
        "        \"\"\"\n",
        "        Apply elementwise Tanh to [batch, num_units] matrix\n",
        "        \"\"\"\n",
        "        ### your code here\n",
        "        self.input = input \n",
        "        self.output = np.tanh(input)\n",
        "        return self.output\n",
        "\n",
        "    def backward(self, grad_output):\n",
        "        \"\"\"\n",
        "        Compute gradient of loss w.r.t. Tanh input\n",
        "        grad_output shape: [batch, num_units]\n",
        "        output 1 shape: [batch, num_units]\n",
        "        output 2: []\n",
        "        \"\"\"\n",
        "        ### your code here\n",
        "        return grad_output * (1 - self.output ** 2), []\n",
        "\n",
        "    def __repr__(self):\n",
        "        return 'Tanh()'"
      ]
    },
    {
      "cell_type": "code",
      "execution_count": 106,
      "metadata": {
        "ExecuteTime": {
          "end_time": "2021-03-03T14:46:34.907337Z",
          "start_time": "2021-03-03T14:46:34.894300Z"
        },
        "id": "mFddwpJpN06E"
      },
      "outputs": [],
      "source": [
        "from scipy.special import expit\n",
        "    \n",
        "class Sigmoid:\n",
        "    \"\"\"\n",
        "    sigmoid(y) = 1 / (1 + e^(-y))\n",
        "    Используйте функцию expit для подсчета сигмоиды.\n",
        "    Вы можете сами реализовать подсчет сигмоиды, но тогда вам нужно устойчиво ее вычислять.\n",
        "    \"\"\"\n",
        "    def __init__(self):\n",
        "        self.params = [] # Sigmoid has no parameters\n",
        "\n",
        "    def forward(self, input):\n",
        "        \"\"\"\n",
        "        Apply elementwise Sigmoid to [batch, num_units] matrix\n",
        "        \"\"\"\n",
        "        ### your code here\n",
        "        self.input = input\n",
        "        self.output = expit(input)\n",
        "        return self.output\n",
        "\n",
        "    def backward(self, grad_output):\n",
        "        \"\"\"\n",
        "        Compute gradient of loss w.r.t. Sigmoid input\n",
        "        grad_output shape: [batch, num_units]\n",
        "        output 1 shape: [batch, num_units]\n",
        "        output 2: []\n",
        "        \"\"\"\n",
        "        ### your code here\n",
        "        return grad_output * self.output * (1 - self.output), []\n",
        "\n",
        "    def __repr__(self):\n",
        "        return 'Sigmoid()'"
      ]
    },
    {
      "cell_type": "markdown",
      "metadata": {
        "id": "gpZM4oCeN06F"
      },
      "source": [
        "Теперь попробуйте для каждой из 3 функций активации обучить нейронную сеть несколько раз. Число слоев зафиксируйте равным 3. В случае `Tanh` и `Sigmoid` используйте инициализацию `Xavier`, а в случае `ReLU` используйте инициализацию `Kaiming`."
      ]
    },
    {
      "cell_type": "markdown",
      "metadata": {
        "id": "FvWjt35HN06G"
      },
      "source": [
        "Заполните матрицы `accs_train` и `accs_test`. В позиции `[i, j]` должна стоять величина доли правильных ответов сети при $j$-м запуске (все запуски идентичны) с функцией активации $ReLU$ при $i = 0$, с функцией активации $Tanh$ при $i = 1$ и с функцией активации $Sigmoid$ при $i = 2$."
      ]
    },
    {
      "cell_type": "code",
      "execution_count": 107,
      "metadata": {
        "ExecuteTime": {
          "end_time": "2021-03-03T14:46:34.922732Z",
          "start_time": "2021-03-03T14:46:34.910271Z"
        },
        "id": "xEY8WuiMN06H"
      },
      "outputs": [],
      "source": [
        "act_func_vars = ['Tanh', 'Sigmoid', 'ReLU']\n",
        "init_for_act_funcs = ['Xavier', 'Xavier', 'Kaiming']"
      ]
    },
    {
      "cell_type": "code",
      "execution_count": 108,
      "metadata": {
        "ExecuteTime": {
          "end_time": "2021-03-03T14:46:34.938935Z",
          "start_time": "2021-03-03T14:46:34.925724Z"
        },
        "id": "x8PvlbqON06I"
      },
      "outputs": [],
      "source": [
        "accs_train = np.zeros((3, 5))\n",
        "accs_test = np.zeros((3, 5))"
      ]
    },
    {
      "cell_type": "code",
      "execution_count": 109,
      "metadata": {
        "ExecuteTime": {
          "end_time": "2021-03-03T14:47:04.514986Z",
          "start_time": "2021-03-03T14:46:34.941104Z"
        },
        "id": "FDoC_vGeN06J"
      },
      "outputs": [],
      "source": [
        "### your code here\n",
        "param_set = list(zip(range(3), [Tanh, Sigmoid, ReLU], act_func_vars, init_for_act_funcs))\n",
        "\n",
        "for idx, act_func, act_func_name, initialization in param_set:\n",
        "    for run in range(5):\n",
        "        network = make_network(input_size, hidden_layers_size, output_size, 3, act_func)\n",
        "        initialize_network(network, initialization)\n",
        "        res = minimize(compute_loss_grad, get_weights(network), args=[network, X_train, y_train], method='L-BFGS-B', jac=True)\n",
        "        accs_train[idx, run] = (predict(network, X_train) == y_train).mean()\n",
        "        accs_test[idx, run] = (predict(network, X_test) == y_test).mean()\n"
      ]
    },
    {
      "cell_type": "markdown",
      "metadata": {
        "id": "Pi1U5aJeN06K"
      },
      "source": [
        "Построим боксплоты полученного качества (горизонтальная линия в каждом столбце — среднее, прямоугольник показывает разброс)."
      ]
    },
    {
      "cell_type": "code",
      "execution_count": 110,
      "metadata": {
        "ExecuteTime": {
          "end_time": "2021-03-03T14:47:04.783320Z",
          "start_time": "2021-03-03T14:47:04.517701Z"
        },
        "colab": {
          "base_uri": "https://localhost:8080/",
          "height": 585
        },
        "id": "St0hfM3sN06L",
        "outputId": "232b5514-f9c1-4536-9196-2344ece4872e"
      },
      "outputs": [
        {
          "output_type": "display_data",
          "data": {
            "image/png": "[encoded data removed]",
            "text/plain": [
              "<Figure size 720x576 with 2 Axes>"
            ]
          },
          "metadata": {
            "needs_background": "light"
          }
        }
      ],
      "source": [
        "fig, ax = plt.subplots(2, 1, figsize=(10, 8))\n",
        "\n",
        "\n",
        "ax[0].boxplot(accs_train.T, labels=act_func_vars, showfliers=False)\n",
        "\n",
        "ax[0].set_title(\"Train quality in 5 runs\")\n",
        "ax[0].set_xlabel(\"Activation function\")\n",
        "ax[0].set_ylabel(\"Test accuracy\")\n",
        "ax[0].grid(True)\n",
        "\n",
        "ax[1].boxplot(accs_test.T, labels=act_func_vars, showfliers=False)\n",
        "\n",
        "ax[1].set_title(\"Test quality in 5 runs\")\n",
        "ax[1].set_xlabel(\"Activation function\")\n",
        "ax[1].set_ylabel(\"Test accuracy\")\n",
        "ax[1].grid(True)\n",
        "\n",
        "fig.tight_layout()\n",
        "plt.show()"
      ]
    },
    {
      "cell_type": "markdown",
      "metadata": {
        "id": "op2-E10LN06N"
      },
      "source": [
        "Дайте развёрнутый ответ на вопросы (в этой же ячейке):\n",
        "* Как отличаются качество на обучении и контроле и устойчивость процесса обучения при различных функциях активации?\n",
        "\n",
        "__Ответы:__\n",
        "\n",
        "Качество на обучении все также близко к 1. На тесте наилучшее качество и устойчивость достигаются при использовании $ReLU$. Наихудший результат - у сигмоиды, как по точности, так и по устойчивости. Гиперболический тангенс имеет чуть лучшее качество и чуть меньший разброс в сравнении с сигмоидой. Однако обе функции дают результат сильно хуже, чем $ReLU$."
      ]
    },
    {
      "cell_type": "markdown",
      "metadata": {
        "id": "OqAtQwlvN06O"
      },
      "source": [
        "\\* Несколько фрагментов кода в задании написаны на основе материалов [курса по глубинному обучению на ФКН НИУ ВШЭ](https://www.hse.ru/ba/ami/courses/205504078.html)"
      ]
    },
    {
      "cell_type": "markdown",
      "metadata": {
        "id": "YMcfiInzN06O"
      },
      "source": [
        "## Бонусная часть"
      ]
    },
    {
      "cell_type": "markdown",
      "metadata": {
        "id": "Dx5qV-bHN06P"
      },
      "source": [
        "## Реализация метода оптимизации (1 балл)\n",
        "\n",
        "Реализуйте сами метод оптимизации (аналог функции `minimize`) для рассмотренной выше архитектуры. В качестве метода оптимизации используйте SGD + momentum. Продемонстрируйте правильную работу метода оптимизации, сравните его работу с LBFGS-B. Сделайте выводы."
      ]
    },
    {
      "cell_type": "markdown",
      "metadata": {
        "id": "mICdMWNzN06Q"
      },
      "source": [
        "## Dropout (1 балл) \n",
        "\n",
        "Реализуйте слой Dropout. Сравните обучение сети из большого числа слоёв при использовании Dropout и без его использования (предварительно подберите адекватный параметр $p$). Сделайте выводы."
      ]
    },
    {
      "cell_type": "markdown",
      "source": [
        "Реализуем inverted dropout как наиболее часто используемый на практике. Добавим режим inference для стадий обучения и тестирования."
      ],
      "metadata": {
        "id": "m1O3rbuXgI3s"
      }
    },
    {
      "cell_type": "code",
      "source": [
        "class Dropout:\n",
        "    def __init__(self, p):\n",
        "        self.p = p\n",
        "        self.inference = False\n",
        "\n",
        "    def forward(self, input):\n",
        "        if self.inference:\n",
        "            return input\n",
        "        self.drop = (np.random.uniform(0, 1, input.shape) > self.p) / (1 - self.p)\n",
        "        return input * self.drop\n",
        "\n",
        "    def backward(self, grad_output):\n",
        "        return self.drop * grad_output, []\n",
        "\n",
        "    def __repr__(self):\n",
        "        return 'Dropout()'"
      ],
      "metadata": {
        "id": "RciqMylkllye"
      },
      "execution_count": 112,
      "outputs": []
    },
    {
      "cell_type": "markdown",
      "source": [
        "Соотвтетствующим же образом изменим callback"
      ],
      "metadata": {
        "id": "mi_T3_eYjuJB"
      }
    },
    {
      "cell_type": "code",
      "source": [
        "class Callback_w_inf:\n",
        "    def __init__(self, network, X_train, y_train, X_test, y_test, name, print=False):\n",
        "        self.network = network\n",
        "        self.X_train = X_train\n",
        "        self.y_train = y_train\n",
        "        self.X_test = X_test\n",
        "        self.y_test = y_test\n",
        "        self.train_acc = []\n",
        "        self.test_acc = []\n",
        "        self.print = print\n",
        "        self.name = name\n",
        "        self.iterations = 0\n",
        "\n",
        "    def call(self, weights):\n",
        "        self.iterations += 1\n",
        "        for layer in self.network:\n",
        "            layer.inference = True\n",
        "        self.train_acc += [(predict(network, self.X_train) == self.y_train).mean()]\n",
        "        self.test_acc += [(predict(network, self. X_test) == self.y_test).mean()]\n",
        "        for layer in self.network:\n",
        "            layer.inference = False\n",
        "        if self.print:\n",
        "            print(f'{self.name}, iteration: {self.iterations}, Train accuracy: {self.train_acc[-1]}, Test accuracy: {self.test_acc[-1]}')\n",
        "        "
      ],
      "metadata": {
        "id": "7eCtztILmbvy"
      },
      "execution_count": 123,
      "outputs": []
    },
    {
      "cell_type": "markdown",
      "source": [
        "Создадим сети без dropout и с dropout слоями с различными значениями p. Возьмем сети с 3 полносвязными скрытыми слоями. В качестве функции активации возьмем $ReLU$. Рассмотрим получаемое на них качество."
      ],
      "metadata": {
        "id": "m__5GamalElR"
      }
    },
    {
      "cell_type": "code",
      "source": [
        "input_size = X_train.shape[1]\n",
        "hidden_layers_size = 32\n",
        "output_size = 10"
      ],
      "metadata": {
        "id": "UaCZCn91leGF"
      },
      "execution_count": 115,
      "outputs": []
    },
    {
      "cell_type": "code",
      "source": [
        "w_no_dropout = []\n",
        "w_no_dropout.append(Dense(input_size, hidden_layers_size))\n",
        "w_no_dropout.append(ReLU())\n",
        "for i in range(3):\n",
        "    w_no_dropout.append(Dense(hidden_layers_size, hidden_layers_size))\n",
        "    w_no_dropout.append(ReLU())\n",
        "w_no_dropout.append(Dense(hidden_layers_size, output_size))\n",
        "w_no_dropout.append(LogSoftmax())\n",
        "\n",
        "networks = [w_no_dropout]"
      ],
      "metadata": {
        "id": "2bUA-GGHlLyF"
      },
      "execution_count": 124,
      "outputs": []
    },
    {
      "cell_type": "code",
      "source": [
        "for i in range(1, 10):\n",
        "    p = i / 10\n",
        "    network = []\n",
        "    network.append(Dense(input_size, hidden_layers_size))\n",
        "    network.append(ReLU())\n",
        "    network.append(Dropout(p=p))\n",
        "    for i in range(3):\n",
        "        network.append(Dense(hidden_layers_size, hidden_layers_size))\n",
        "        network.append(ReLU())\n",
        "        network.append(Dropout(p=p))\n",
        "    network.append(Dense(hidden_layers_size, output_size))\n",
        "    network.append(LogSoftmax())\n",
        "    networks.append(network)"
      ],
      "metadata": {
        "id": "fBZsIfuGm4iU"
      },
      "execution_count": 125,
      "outputs": []
    },
    {
      "cell_type": "code",
      "source": [
        "for network in networks:\n",
        "    print(network)"
      ],
      "metadata": {
        "colab": {
          "base_uri": "https://localhost:8080/"
        },
        "id": "VXYMeejgpdrH",
        "outputId": "ab663e27-963e-4bda-a188-b9eb131b7a1e"
      },
      "execution_count": 126,
      "outputs": [
        {
          "output_type": "stream",
          "name": "stdout",
          "text": [
            "[Dense(64, 32), Relu(), Dense(32, 32), Relu(), Dense(32, 32), Relu(), Dense(32, 32), Relu(), Dense(32, 10), LogSoftmax()]\n",
            "[Dense(64, 32), Relu(), Dropout(), Dense(32, 32), Relu(), Dropout(), Dense(32, 32), Relu(), Dropout(), Dense(32, 32), Relu(), Dropout(), Dense(32, 10), LogSoftmax()]\n",
            "[Dense(64, 32), Relu(), Dropout(), Dense(32, 32), Relu(), Dropout(), Dense(32, 32), Relu(), Dropout(), Dense(32, 32), Relu(), Dropout(), Dense(32, 10), LogSoftmax()]\n",
            "[Dense(64, 32), Relu(), Dropout(), Dense(32, 32), Relu(), Dropout(), Dense(32, 32), Relu(), Dropout(), Dense(32, 32), Relu(), Dropout(), Dense(32, 10), LogSoftmax()]\n",
            "[Dense(64, 32), Relu(), Dropout(), Dense(32, 32), Relu(), Dropout(), Dense(32, 32), Relu(), Dropout(), Dense(32, 32), Relu(), Dropout(), Dense(32, 10), LogSoftmax()]\n",
            "[Dense(64, 32), Relu(), Dropout(), Dense(32, 32), Relu(), Dropout(), Dense(32, 32), Relu(), Dropout(), Dense(32, 32), Relu(), Dropout(), Dense(32, 10), LogSoftmax()]\n",
            "[Dense(64, 32), Relu(), Dropout(), Dense(32, 32), Relu(), Dropout(), Dense(32, 32), Relu(), Dropout(), Dense(32, 32), Relu(), Dropout(), Dense(32, 10), LogSoftmax()]\n",
            "[Dense(64, 32), Relu(), Dropout(), Dense(32, 32), Relu(), Dropout(), Dense(32, 32), Relu(), Dropout(), Dense(32, 32), Relu(), Dropout(), Dense(32, 10), LogSoftmax()]\n",
            "[Dense(64, 32), Relu(), Dropout(), Dense(32, 32), Relu(), Dropout(), Dense(32, 32), Relu(), Dropout(), Dense(32, 32), Relu(), Dropout(), Dense(32, 10), LogSoftmax()]\n",
            "[Dense(64, 32), Relu(), Dropout(), Dense(32, 32), Relu(), Dropout(), Dense(32, 32), Relu(), Dropout(), Dense(32, 32), Relu(), Dropout(), Dense(32, 10), LogSoftmax()]\n"
          ]
        }
      ]
    },
    {
      "cell_type": "code",
      "source": [
        "labels = ['No dropout', '$p=0.1$', '$p=0.2$', '$p=0.3$', '$p=0.4$', '$p=0.5$', '$p=0.6$', '$p=0.7$', '$p=0.8$', '$p=0.9$']\n",
        "accs_train = []\n",
        "accs_test = []\n",
        "\n",
        "for network, label in zip(networks, labels):\n",
        "    initialize_network(network, 'Kaiming')\n",
        "    cb = Callback_w_inf(network, X_train, y_train, X_test, y_test, label, True)\n",
        "    res = minimize(compute_loss_grad, get_weights(network), args=[network, X_train, y_train], method='L-BFGS-B', jac=True, callback=cb.call)\n",
        "    accs_train.append(cb.train_acc)\n",
        "    accs_test.append(cb.test_acc)"
      ],
      "metadata": {
        "colab": {
          "base_uri": "https://localhost:8080/"
        },
        "id": "7e2ofbhssL9z",
        "outputId": "7a1f6bce-d85c-4849-e834-359426dff836"
      },
      "execution_count": 127,
      "outputs": [
        {
          "output_type": "stream",
          "name": "stdout",
          "text": [
            "No dropout, iteration: 1, Train accuracy: 0.07201187824795843, Test accuracy: 0.07333333333333333\n",
            "No dropout, iteration: 2, Train accuracy: 0.08685968819599109, Test accuracy: 0.08444444444444445\n",
            "No dropout, iteration: 3, Train accuracy: 0.1403118040089087, Test accuracy: 0.1511111111111111\n",
            "No dropout, iteration: 4, Train accuracy: 0.22048997772828507, Test accuracy: 0.21555555555555556\n",
            "No dropout, iteration: 5, Train accuracy: 0.317743132887899, Test accuracy: 0.3\n",
            "No dropout, iteration: 6, Train accuracy: 0.3979213066072754, Test accuracy: 0.3711111111111111\n",
            "No dropout, iteration: 7, Train accuracy: 0.49665924276169265, Test accuracy: 0.44\n",
            "No dropout, iteration: 8, Train accuracy: 0.5642167780252413, Test accuracy: 0.5133333333333333\n",
            "No dropout, iteration: 9, Train accuracy: 0.6191536748329621, Test accuracy: 0.5711111111111111\n",
            "No dropout, iteration: 10, Train accuracy: 0.6429101707498144, Test accuracy: 0.5822222222222222\n",
            "No dropout, iteration: 11, Train accuracy: 0.6911655530809205, Test accuracy: 0.6066666666666667\n",
            "No dropout, iteration: 12, Train accuracy: 0.7282850779510023, Test accuracy: 0.6622222222222223\n",
            "No dropout, iteration: 13, Train accuracy: 0.7720861172976986, Test accuracy: 0.7133333333333334\n",
            "No dropout, iteration: 14, Train accuracy: 0.8277654046028211, Test accuracy: 0.7577777777777778\n",
            "No dropout, iteration: 15, Train accuracy: 0.8485523385300668, Test accuracy: 0.7955555555555556\n",
            "No dropout, iteration: 16, Train accuracy: 0.874536005939124, Test accuracy: 0.8288888888888889\n",
            "No dropout, iteration: 17, Train accuracy: 0.882702301410542, Test accuracy: 0.8533333333333334\n",
            "No dropout, iteration: 18, Train accuracy: 0.9057164068299925, Test accuracy: 0.8711111111111111\n",
            "No dropout, iteration: 19, Train accuracy: 0.9138827023014106, Test accuracy: 0.8844444444444445\n",
            "No dropout, iteration: 20, Train accuracy: 0.9250185597624351, Test accuracy: 0.8933333333333333\n",
            "No dropout, iteration: 21, Train accuracy: 0.9354120267260579, Test accuracy: 0.9044444444444445\n",
            "No dropout, iteration: 22, Train accuracy: 0.9420935412026726, Test accuracy: 0.9133333333333333\n",
            "No dropout, iteration: 23, Train accuracy: 0.9487750556792873, Test accuracy: 0.9177777777777778\n",
            "No dropout, iteration: 24, Train accuracy: 0.9628804751299184, Test accuracy: 0.9266666666666666\n",
            "No dropout, iteration: 25, Train accuracy: 0.9621380846325167, Test accuracy: 0.9022222222222223\n",
            "No dropout, iteration: 26, Train accuracy: 0.9717891610987379, Test accuracy: 0.9355555555555556\n",
            "No dropout, iteration: 27, Train accuracy: 0.9725315515961396, Test accuracy: 0.9355555555555556\n",
            "No dropout, iteration: 28, Train accuracy: 0.9806978470675576, Test accuracy: 0.9466666666666667\n",
            "No dropout, iteration: 29, Train accuracy: 0.9829250185597624, Test accuracy: 0.9577777777777777\n",
            "No dropout, iteration: 30, Train accuracy: 0.9873793615441723, Test accuracy: 0.96\n",
            "No dropout, iteration: 31, Train accuracy: 0.9888641425389755, Test accuracy: 0.9577777777777777\n",
            "No dropout, iteration: 32, Train accuracy: 0.9896065330363771, Test accuracy: 0.9533333333333334\n",
            "No dropout, iteration: 33, Train accuracy: 0.9925760950259837, Test accuracy: 0.9511111111111111\n",
            "No dropout, iteration: 34, Train accuracy: 0.994060876020787, Test accuracy: 0.9555555555555556\n",
            "No dropout, iteration: 35, Train accuracy: 0.9955456570155902, Test accuracy: 0.9555555555555556\n",
            "No dropout, iteration: 36, Train accuracy: 0.9962880475129918, Test accuracy: 0.96\n",
            "No dropout, iteration: 37, Train accuracy: 0.9962880475129918, Test accuracy: 0.9555555555555556\n",
            "No dropout, iteration: 38, Train accuracy: 0.9970304380103935, Test accuracy: 0.9555555555555556\n",
            "No dropout, iteration: 39, Train accuracy: 0.9977728285077951, Test accuracy: 0.9577777777777777\n",
            "No dropout, iteration: 40, Train accuracy: 0.9992576095025983, Test accuracy: 0.9555555555555556\n",
            "No dropout, iteration: 41, Train accuracy: 0.9992576095025983, Test accuracy: 0.96\n",
            "No dropout, iteration: 42, Train accuracy: 0.9992576095025983, Test accuracy: 0.9622222222222222\n",
            "No dropout, iteration: 43, Train accuracy: 1.0, Test accuracy: 0.96\n",
            "No dropout, iteration: 44, Train accuracy: 1.0, Test accuracy: 0.9622222222222222\n",
            "No dropout, iteration: 45, Train accuracy: 1.0, Test accuracy: 0.9644444444444444\n",
            "No dropout, iteration: 46, Train accuracy: 1.0, Test accuracy: 0.9622222222222222\n",
            "No dropout, iteration: 47, Train accuracy: 1.0, Test accuracy: 0.9622222222222222\n",
            "No dropout, iteration: 48, Train accuracy: 1.0, Test accuracy: 0.9622222222222222\n",
            "No dropout, iteration: 49, Train accuracy: 1.0, Test accuracy: 0.9644444444444444\n",
            "No dropout, iteration: 50, Train accuracy: 1.0, Test accuracy: 0.9666666666666667\n",
            "No dropout, iteration: 51, Train accuracy: 1.0, Test accuracy: 0.9666666666666667\n",
            "No dropout, iteration: 52, Train accuracy: 1.0, Test accuracy: 0.9666666666666667\n",
            "No dropout, iteration: 53, Train accuracy: 1.0, Test accuracy: 0.9644444444444444\n",
            "No dropout, iteration: 54, Train accuracy: 1.0, Test accuracy: 0.9644444444444444\n",
            "No dropout, iteration: 55, Train accuracy: 1.0, Test accuracy: 0.9644444444444444\n",
            "No dropout, iteration: 56, Train accuracy: 1.0, Test accuracy: 0.9644444444444444\n",
            "No dropout, iteration: 57, Train accuracy: 1.0, Test accuracy: 0.9622222222222222\n",
            "No dropout, iteration: 58, Train accuracy: 1.0, Test accuracy: 0.9622222222222222\n",
            "No dropout, iteration: 59, Train accuracy: 1.0, Test accuracy: 0.9644444444444444\n",
            "No dropout, iteration: 60, Train accuracy: 1.0, Test accuracy: 0.9644444444444444\n",
            "No dropout, iteration: 61, Train accuracy: 1.0, Test accuracy: 0.9644444444444444\n",
            "No dropout, iteration: 62, Train accuracy: 1.0, Test accuracy: 0.9622222222222222\n",
            "No dropout, iteration: 63, Train accuracy: 1.0, Test accuracy: 0.9688888888888889\n",
            "No dropout, iteration: 64, Train accuracy: 1.0, Test accuracy: 0.9688888888888889\n",
            "No dropout, iteration: 65, Train accuracy: 1.0, Test accuracy: 0.9688888888888889\n",
            "No dropout, iteration: 66, Train accuracy: 1.0, Test accuracy: 0.9666666666666667\n",
            "No dropout, iteration: 67, Train accuracy: 1.0, Test accuracy: 0.9666666666666667\n",
            "No dropout, iteration: 68, Train accuracy: 1.0, Test accuracy: 0.9644444444444444\n",
            "$p=0.1$, iteration: 1, Train accuracy: 0.08834446919079436, Test accuracy: 0.1111111111111111\n",
            "$p=0.1$, iteration: 2, Train accuracy: 0.04899777282850779, Test accuracy: 0.06888888888888889\n",
            "$p=0.1$, iteration: 3, Train accuracy: 0.06087602078693393, Test accuracy: 0.08666666666666667\n",
            "$p=0.1$, iteration: 4, Train accuracy: 0.12397921306607275, Test accuracy: 0.14\n",
            "$p=0.1$, iteration: 5, Train accuracy: 0.2011878247958426, Test accuracy: 0.19111111111111112\n",
            "$p=0.1$, iteration: 6, Train accuracy: 0.24721603563474387, Test accuracy: 0.2288888888888889\n",
            "$p=0.1$, iteration: 7, Train accuracy: 0.3244246473645137, Test accuracy: 0.29777777777777775\n",
            "$p=0.1$, iteration: 8, Train accuracy: 0.3890126206384558, Test accuracy: 0.3933333333333333\n",
            "$p=0.1$, iteration: 9, Train accuracy: 0.40979955456570155, Test accuracy: 0.41333333333333333\n",
            "$p=0.1$, iteration: 10, Train accuracy: 0.43132887899034894, Test accuracy: 0.3888888888888889\n",
            "$p=0.1$, iteration: 11, Train accuracy: 0.5003711952487008, Test accuracy: 0.45111111111111113\n",
            "$p=0.1$, iteration: 12, Train accuracy: 0.570898292501856, Test accuracy: 0.5288888888888889\n",
            "$p=0.1$, iteration: 13, Train accuracy: 0.5939123979213066, Test accuracy: 0.5511111111111111\n",
            "$p=0.1$, iteration: 14, Train accuracy: 0.6503340757238307, Test accuracy: 0.6177777777777778\n",
            "$p=0.1$, iteration: 15, Train accuracy: 0.6755753526354863, Test accuracy: 0.6311111111111111\n",
            "$p=0.1$, iteration: 16, Train accuracy: 0.7676317743132888, Test accuracy: 0.7244444444444444\n",
            "$p=0.1$, iteration: 17, Train accuracy: 0.7757980697847068, Test accuracy: 0.7266666666666667\n",
            "$p=0.1$, iteration: 18, Train accuracy: 0.7839643652561247, Test accuracy: 0.7511111111111111\n",
            "$p=0.1$, iteration: 19, Train accuracy: 0.8047512991833704, Test accuracy: 0.7733333333333333\n",
            "$p=0.1$, iteration: 20, Train accuracy: 0.8485523385300668, Test accuracy: 0.8066666666666666\n",
            "$p=0.1$, iteration: 21, Train accuracy: 0.8641425389755011, Test accuracy: 0.8244444444444444\n",
            "$p=0.1$, iteration: 22, Train accuracy: 0.874536005939124, Test accuracy: 0.8377777777777777\n",
            "$p=0.1$, iteration: 23, Train accuracy: 0.874536005939124, Test accuracy: 0.8377777777777777\n",
            "$p=0.1$, iteration: 24, Train accuracy: 0.874536005939124, Test accuracy: 0.8377777777777777\n",
            "$p=0.1$, iteration: 25, Train accuracy: 0.8789903489235338, Test accuracy: 0.8488888888888889\n",
            "$p=0.1$, iteration: 26, Train accuracy: 0.8789903489235338, Test accuracy: 0.8488888888888889\n",
            "$p=0.2$, iteration: 1, Train accuracy: 0.09725315515961395, Test accuracy: 0.09555555555555556\n",
            "$p=0.2$, iteration: 2, Train accuracy: 0.08685968819599109, Test accuracy: 0.08222222222222222\n",
            "$p=0.2$, iteration: 3, Train accuracy: 0.10764662212323682, Test accuracy: 0.10666666666666667\n",
            "$p=0.2$, iteration: 4, Train accuracy: 0.14625092798812175, Test accuracy: 0.15777777777777777\n",
            "$p=0.2$, iteration: 5, Train accuracy: 0.2902746844840386, Test accuracy: 0.28444444444444444\n",
            "$p=0.2$, iteration: 6, Train accuracy: 0.3645137342242019, Test accuracy: 0.37333333333333335\n",
            "$p=0.2$, iteration: 7, Train accuracy: 0.4060876020786934, Test accuracy: 0.35777777777777775\n",
            "$p=0.2$, iteration: 8, Train accuracy: 0.4239049740163326, Test accuracy: 0.3622222222222222\n",
            "$p=0.2$, iteration: 9, Train accuracy: 0.3518930957683742, Test accuracy: 0.3377777777777778\n",
            "$p=0.2$, iteration: 10, Train accuracy: 0.3548626577579807, Test accuracy: 0.33555555555555555\n",
            "$p=0.2$, iteration: 11, Train accuracy: 0.45434298440979953, Test accuracy: 0.4266666666666667\n",
            "$p=0.2$, iteration: 12, Train accuracy: 0.4795842613214551, Test accuracy: 0.46\n",
            "$p=0.2$, iteration: 13, Train accuracy: 0.5055679287305123, Test accuracy: 0.4622222222222222\n",
            "$p=0.2$, iteration: 14, Train accuracy: 0.5441722345953972, Test accuracy: 0.49333333333333335\n",
            "$p=0.2$, iteration: 15, Train accuracy: 0.5597624350408315, Test accuracy: 0.5222222222222223\n",
            "$p=0.2$, iteration: 16, Train accuracy: 0.5738678544914625, Test accuracy: 0.5333333333333333\n",
            "$p=0.2$, iteration: 17, Train accuracy: 0.579064587973274, Test accuracy: 0.5333333333333333\n",
            "$p=0.2$, iteration: 18, Train accuracy: 0.5827765404602822, Test accuracy: 0.5333333333333333\n",
            "$p=0.2$, iteration: 19, Train accuracy: 0.5842613214550854, Test accuracy: 0.5266666666666666\n",
            "$p=0.2$, iteration: 20, Train accuracy: 0.5783221974758723, Test accuracy: 0.5244444444444445\n",
            "$p=0.2$, iteration: 21, Train accuracy: 0.5835189309576837, Test accuracy: 0.5266666666666666\n",
            "$p=0.2$, iteration: 22, Train accuracy: 0.593170007423905, Test accuracy: 0.5355555555555556\n",
            "$p=0.2$, iteration: 23, Train accuracy: 0.593170007423905, Test accuracy: 0.5466666666666666\n",
            "$p=0.2$, iteration: 24, Train accuracy: 0.5953971789161099, Test accuracy: 0.5488888888888889\n",
            "$p=0.2$, iteration: 25, Train accuracy: 0.5902004454342984, Test accuracy: 0.5555555555555556\n",
            "$p=0.2$, iteration: 26, Train accuracy: 0.5902004454342984, Test accuracy: 0.5555555555555556\n",
            "$p=0.3$, iteration: 1, Train accuracy: 0.12026726057906459, Test accuracy: 0.13111111111111112\n",
            "$p=0.3$, iteration: 2, Train accuracy: 0.15367483296213807, Test accuracy: 0.19333333333333333\n",
            "$p=0.3$, iteration: 3, Train accuracy: 0.18411284335560504, Test accuracy: 0.18\n",
            "$p=0.3$, iteration: 4, Train accuracy: 0.17223459539717892, Test accuracy: 0.16\n",
            "$p=0.3$, iteration: 5, Train accuracy: 0.2071269487750557, Test accuracy: 0.19555555555555557\n",
            "$p=0.3$, iteration: 6, Train accuracy: 0.20415738678544915, Test accuracy: 0.18222222222222223\n",
            "$p=0.3$, iteration: 7, Train accuracy: 0.22197475872308833, Test accuracy: 0.22\n",
            "$p=0.3$, iteration: 8, Train accuracy: 0.24053452115812918, Test accuracy: 0.23555555555555555\n",
            "$p=0.3$, iteration: 9, Train accuracy: 0.24276169265033407, Test accuracy: 0.21555555555555556\n",
            "$p=0.3$, iteration: 10, Train accuracy: 0.26057906458797325, Test accuracy: 0.23333333333333334\n",
            "$p=0.3$, iteration: 11, Train accuracy: 0.3273942093541203, Test accuracy: 0.27555555555555555\n",
            "$p=0.3$, iteration: 12, Train accuracy: 0.3370452858203415, Test accuracy: 0.2866666666666667\n",
            "$p=0.3$, iteration: 13, Train accuracy: 0.34743875278396436, Test accuracy: 0.29333333333333333\n",
            "$p=0.3$, iteration: 14, Train accuracy: 0.370452858203415, Test accuracy: 0.31777777777777777\n",
            "$p=0.3$, iteration: 15, Train accuracy: 0.36674090571640683, Test accuracy: 0.3111111111111111\n",
            "$p=0.3$, iteration: 16, Train accuracy: 0.3734224201930215, Test accuracy: 0.32666666666666666\n",
            "$p=0.3$, iteration: 17, Train accuracy: 0.3860430586488493, Test accuracy: 0.33111111111111113\n",
            "$p=0.3$, iteration: 18, Train accuracy: 0.3904974016332591, Test accuracy: 0.34444444444444444\n",
            "$p=0.3$, iteration: 19, Train accuracy: 0.39346696362286565, Test accuracy: 0.3422222222222222\n",
            "$p=0.3$, iteration: 20, Train accuracy: 0.39346696362286565, Test accuracy: 0.3422222222222222\n",
            "$p=0.4$, iteration: 1, Train accuracy: 0.08389012620638456, Test accuracy: 0.06\n",
            "$p=0.4$, iteration: 2, Train accuracy: 0.07646622123236822, Test accuracy: 0.057777777777777775\n",
            "$p=0.4$, iteration: 3, Train accuracy: 0.10170749814402376, Test accuracy: 0.08888888888888889\n",
            "$p=0.4$, iteration: 4, Train accuracy: 0.15219005196733482, Test accuracy: 0.13333333333333333\n",
            "$p=0.4$, iteration: 5, Train accuracy: 0.10319227913882702, Test accuracy: 0.09555555555555556\n",
            "$p=0.4$, iteration: 6, Train accuracy: 0.09873793615441723, Test accuracy: 0.09333333333333334\n",
            "$p=0.4$, iteration: 7, Train accuracy: 0.09873793615441723, Test accuracy: 0.09333333333333334\n",
            "$p=0.4$, iteration: 8, Train accuracy: 0.11284335560504825, Test accuracy: 0.09555555555555556\n",
            "$p=0.4$, iteration: 9, Train accuracy: 0.11952487008166296, Test accuracy: 0.1111111111111111\n",
            "$p=0.4$, iteration: 10, Train accuracy: 0.12100965107646622, Test accuracy: 0.11777777777777777\n",
            "$p=0.4$, iteration: 11, Train accuracy: 0.12100965107646622, Test accuracy: 0.11777777777777777\n",
            "$p=0.5$, iteration: 1, Train accuracy: 0.10690423162583519, Test accuracy: 0.12444444444444444\n",
            "$p=0.5$, iteration: 2, Train accuracy: 0.12323682256867112, Test accuracy: 0.14666666666666667\n",
            "$p=0.5$, iteration: 3, Train accuracy: 0.09948032665181886, Test accuracy: 0.10888888888888888\n",
            "$p=0.5$, iteration: 4, Train accuracy: 0.12620638455827765, Test accuracy: 0.13777777777777778\n",
            "$p=0.5$, iteration: 5, Train accuracy: 0.13437268002969563, Test accuracy: 0.13555555555555557\n",
            "$p=0.5$, iteration: 6, Train accuracy: 0.11581291759465479, Test accuracy: 0.11777777777777777\n",
            "$p=0.5$, iteration: 7, Train accuracy: 0.11358574610244988, Test accuracy: 0.1111111111111111\n",
            "$p=0.5$, iteration: 8, Train accuracy: 0.10838901262063845, Test accuracy: 0.10444444444444445\n",
            "$p=0.5$, iteration: 9, Train accuracy: 0.11655530809205643, Test accuracy: 0.10222222222222223\n",
            "$p=0.5$, iteration: 10, Train accuracy: 0.11655530809205643, Test accuracy: 0.1\n",
            "$p=0.5$, iteration: 11, Train accuracy: 0.11655530809205643, Test accuracy: 0.1\n",
            "$p=0.6$, iteration: 1, Train accuracy: 0.13808463251670378, Test accuracy: 0.13333333333333333\n",
            "$p=0.6$, iteration: 2, Train accuracy: 0.1633259094283593, Test accuracy: 0.1511111111111111\n",
            "$p=0.6$, iteration: 3, Train accuracy: 0.09873793615441723, Test accuracy: 0.10666666666666667\n",
            "$p=0.6$, iteration: 4, Train accuracy: 0.09873793615441723, Test accuracy: 0.10888888888888888\n",
            "$p=0.6$, iteration: 5, Train accuracy: 0.09279881217520415, Test accuracy: 0.10666666666666667\n",
            "$p=0.6$, iteration: 6, Train accuracy: 0.09651076466221233, Test accuracy: 0.1\n",
            "$p=0.6$, iteration: 7, Train accuracy: 0.10096510764662213, Test accuracy: 0.1111111111111111\n",
            "$p=0.6$, iteration: 8, Train accuracy: 0.111358574610245, Test accuracy: 0.09555555555555556\n",
            "$p=0.6$, iteration: 9, Train accuracy: 0.10690423162583519, Test accuracy: 0.08222222222222222\n",
            "$p=0.6$, iteration: 10, Train accuracy: 0.10467706013363029, Test accuracy: 0.08444444444444445\n",
            "$p=0.6$, iteration: 11, Train accuracy: 0.10541945063103192, Test accuracy: 0.08222222222222222\n",
            "$p=0.6$, iteration: 12, Train accuracy: 0.10541945063103192, Test accuracy: 0.08222222222222222\n",
            "$p=0.7$, iteration: 1, Train accuracy: 0.05716406829992576, Test accuracy: 0.06444444444444444\n",
            "$p=0.7$, iteration: 2, Train accuracy: 0.10541945063103192, Test accuracy: 0.08888888888888889\n",
            "$p=0.7$, iteration: 3, Train accuracy: 0.12323682256867112, Test accuracy: 0.12\n",
            "$p=0.7$, iteration: 4, Train accuracy: 0.10096510764662213, Test accuracy: 0.1111111111111111\n",
            "$p=0.7$, iteration: 5, Train accuracy: 0.10022271714922049, Test accuracy: 0.1111111111111111\n",
            "$p=0.7$, iteration: 6, Train accuracy: 0.10096510764662213, Test accuracy: 0.08888888888888889\n",
            "$p=0.7$, iteration: 7, Train accuracy: 0.09873793615441723, Test accuracy: 0.09333333333333334\n",
            "$p=0.7$, iteration: 8, Train accuracy: 0.09873793615441723, Test accuracy: 0.09333333333333334\n",
            "$p=0.7$, iteration: 9, Train accuracy: 0.09873793615441723, Test accuracy: 0.09333333333333334\n",
            "$p=0.8$, iteration: 1, Train accuracy: 0.07349665924276169, Test accuracy: 0.07111111111111111\n",
            "$p=0.8$, iteration: 2, Train accuracy: 0.06607275426874536, Test accuracy: 0.07333333333333333\n",
            "$p=0.8$, iteration: 3, Train accuracy: 0.10096510764662213, Test accuracy: 0.09555555555555556\n",
            "$p=0.8$, iteration: 4, Train accuracy: 0.10319227913882702, Test accuracy: 0.09333333333333334\n",
            "$p=0.8$, iteration: 5, Train accuracy: 0.09948032665181886, Test accuracy: 0.1\n",
            "$p=0.8$, iteration: 6, Train accuracy: 0.10022271714922049, Test accuracy: 0.10444444444444445\n",
            "$p=0.8$, iteration: 7, Train accuracy: 0.10096510764662213, Test accuracy: 0.07777777777777778\n",
            "$p=0.8$, iteration: 8, Train accuracy: 0.10393466963622866, Test accuracy: 0.07777777777777778\n",
            "$p=0.8$, iteration: 9, Train accuracy: 0.10467706013363029, Test accuracy: 0.07777777777777778\n",
            "$p=0.8$, iteration: 10, Train accuracy: 0.10467706013363029, Test accuracy: 0.07777777777777778\n",
            "$p=0.9$, iteration: 1, Train accuracy: 0.0801781737193764, Test accuracy: 0.09333333333333334\n",
            "$p=0.9$, iteration: 2, Train accuracy: 0.09428359317000742, Test accuracy: 0.09555555555555556\n",
            "$p=0.9$, iteration: 3, Train accuracy: 0.12620638455827765, Test accuracy: 0.13333333333333333\n",
            "$p=0.9$, iteration: 4, Train accuracy: 0.12620638455827765, Test accuracy: 0.13333333333333333\n"
          ]
        }
      ]
    },
    {
      "cell_type": "code",
      "source": [
        "plt.figure(figsize=(10, 8))\n",
        "figure_set = zip(range(1, 3), ['Train', 'Test'], [accs_train, accs_test])\n",
        "\n",
        "for fig, data, accs in figure_set:\n",
        "    plt.subplot(2, 1, fig)\n",
        "    for label, acc in zip(labels, accs):\n",
        "        plt.plot(acc, label=label)\n",
        "    plt.legend()\n",
        "    plt.grid(True)\n",
        "    plt.xlabel('Number of iteration')\n",
        "    plt.ylabel(f'{data} accuracy')\n",
        "    plt.title(f'Dropout on {data}')\n",
        "plt.tight_layout()"
      ],
      "metadata": {
        "colab": {
          "base_uri": "https://localhost:8080/",
          "height": 585
        },
        "id": "YJYyL0Ilt2DK",
        "outputId": "6e24263f-9b27-404e-be22-f3037a5f0574"
      },
      "execution_count": 128,
      "outputs": [
        {
          "output_type": "display_data",
          "data": {
            "image/png": "[encoded data removed]",
            "text/plain": [
              "<Figure size 720x576 with 2 Axes>"
            ]
          },
          "metadata": {
            "needs_background": "light"
          }
        }
      ]
    },
    {
      "cell_type": "markdown",
      "source": [
        "В итоге применение dropout ухудшило качество, и с ростом $p$ качество падает сильнее. При этом сеть начинает быстро сходиться, но не успевает достигнуть оптимума, выдавая крайне низкое качество. Так как dropout по сути является способом борьбы с переобучением, то возможно на более разнородных обучающих и тестовых выборках результаты были бы лучше и нагляднее."
      ],
      "metadata": {
        "id": "mADnSvjps3w_"
      }
    },
    {
      "cell_type": "markdown",
      "metadata": {
        "id": "kJ02DGR0N06Q"
      },
      "source": [
        "## BatchNormalization (1 балл)\n",
        "\n",
        "Реализуйте слой `BatchNormalization`. Сравните обучение сети из большого числа слоёв при использовании `BatchNormalization` и без его использования. Сделайте выводы."
      ]
    },
    {
      "cell_type": "markdown",
      "source": [
        "Добавим режим inference для обучения и теста."
      ],
      "metadata": {
        "id": "2gsRy9O-vxVJ"
      }
    },
    {
      "cell_type": "code",
      "source": [
        "class BatchNorm:\n",
        "    def __init__(self, units_num, eps=1e-5, alpha=0.1):\n",
        "        self.eps = eps\n",
        "        self.alpha = alpha\n",
        "        self.gamma = np.ones(units_num)\n",
        "        self.delta = np.zeros(units_num)\n",
        "        self.params = [self.gamma, self.delta]\n",
        "        self.inference = False\n",
        "        self.mean = None\n",
        "        self.var = None\n",
        "        self.moving_mean = None\n",
        "        self.moving_var = None\n",
        "\n",
        "    def normalize(self, data):\n",
        "        if self.inference:\n",
        "            mean = self.moving_mean\n",
        "            var = self.moving_var\n",
        "        else:\n",
        "            mean = self.mean\n",
        "            var = self.var\n",
        "        return (data - mean) / np.sqrt(var + self.eps)\n",
        "\n",
        "    def forward(self, input):\n",
        "        self.input = input\n",
        "        if not self.inference:\n",
        "            self.mean = input.mean(axis=0)\n",
        "            self.var = ((input - self.mean) ** 2).mean(axis=0)\n",
        "            if self.moving_mean is None:\n",
        "                self.moving_mean = self.mean\n",
        "                self.moving_var = self.var\n",
        "            else:\n",
        "                self.moving_mean = (self.alpha * self.mean + (1 - self.alpha) * self.moving_mean)\n",
        "                self.moving_var = (self.alpha * self.var + (1 - self.alpha) * self.moving_var)\n",
        "        return self.gamma * self.normalize(input) + self.delta\n",
        "\n",
        "    def backward(self, grad_output):\n",
        "        dLdg = grad_output.sum(axis=0)\n",
        "        dLdd = (grad_output * self.normalize(self.input)).sum(axis=0)\n",
        "        dLdX1 = ((grad_output - grad_output.mean(axis=0)) / np.sqrt(self.var + self.eps))\n",
        "        input_centered = self.input - self.mean\n",
        "        factor = 1 / (grad_output.shape[0]) * np.power(self.var + self.eps, -1.5)\n",
        "        dLdX2_l = [np.dot(np.outer(input_centered[:, i], input_centered[:, i]), grad_output[:, i]) for i in range(input_centered.shape[1])]\n",
        "        dLdX2 = np.stack(dLdX2_l, axis=1) * factor\n",
        "        return self.gamma * (dLdX1 - dLdX2), np.r_[dLdg, dLdd]\n",
        "\n",
        "    def __repr__(self):\n",
        "        return 'BatchNorm()'"
      ],
      "metadata": {
        "id": "BFBHR0hNvAa5"
      },
      "execution_count": 129,
      "outputs": []
    },
    {
      "cell_type": "markdown",
      "source": [
        "Аналогично предыдущему пункту, создадим несколько сетей, без batch normalization и со слоями batch normalization перед слоями Dense и ReLU, сравним получаемое качество. Возьмем сети с 5 скрытыми слоями."
      ],
      "metadata": {
        "id": "6gMKag7Pv_hy"
      }
    },
    {
      "cell_type": "code",
      "source": [
        "w_no_bn = []\n",
        "w_no_bn.append(Dense(input_size, hidden_layers_size))\n",
        "w_no_bn.append(ReLU())\n",
        "for i in range(5):\n",
        "    w_no_bn.append(Dense(hidden_layers_size, hidden_layers_size))\n",
        "    w_no_bn.append(ReLU())\n",
        "w_no_bn.append(Dense(hidden_layers_size, output_size))\n",
        "w_no_bn.append(LogSoftmax())\n",
        "\n",
        "networks = [w_no_bn]"
      ],
      "metadata": {
        "id": "Nc7IqtbCwjpo"
      },
      "execution_count": 131,
      "outputs": []
    },
    {
      "cell_type": "code",
      "source": [
        "dense_bn = []\n",
        "dense_bn.append(Dense(input_size, hidden_layers_size))\n",
        "dense_bn.append(ReLU())\n",
        "\n",
        "for i in range(5):\n",
        "    dense_bn.append(BatchNorm(hidden_layers_size))\n",
        "    dense_bn.append(Dense(hidden_layers_size, hidden_layers_size))\n",
        "    dense_bn.append(ReLU())\n",
        "dense_bn.append(BatchNorm(hidden_layers_size))\n",
        "dense_bn.append(Dense(hidden_layers_size, output_size))\n",
        "dense_bn.append(LogSoftmax())\n",
        "\n",
        "networks.append(dense_bn)"
      ],
      "metadata": {
        "id": "8fp350KWwvzq"
      },
      "execution_count": 132,
      "outputs": []
    },
    {
      "cell_type": "code",
      "source": [
        "relu_bn = []\n",
        "relu_bn.append(Dense(input_size, hidden_layers_size))\n",
        "relu_bn.append(BatchNorm(hidden_layers_size))\n",
        "relu_bn.append(ReLU())\n",
        "\n",
        "for i in range(5):\n",
        "    relu_bn.append(Dense(hidden_layers_size, hidden_layers_size))\n",
        "    relu_bn.append(BatchNorm(hidden_layers_size))\n",
        "    relu_bn.append(ReLU())\n",
        "relu_bn.append(Dense(hidden_layers_size, output_size))\n",
        "relu_bn.append(LogSoftmax())\n",
        "\n",
        "networks.append(relu_bn)"
      ],
      "metadata": {
        "id": "WzKKYesrxkSx"
      },
      "execution_count": 133,
      "outputs": []
    },
    {
      "cell_type": "code",
      "source": [
        "for network in networks:\n",
        "    print(network)"
      ],
      "metadata": {
        "colab": {
          "base_uri": "https://localhost:8080/"
        },
        "id": "oJy2rkNJ6lOj",
        "outputId": "822628c1-5f43-45a9-d9a6-8892eb261f30"
      },
      "execution_count": 134,
      "outputs": [
        {
          "output_type": "stream",
          "name": "stdout",
          "text": [
            "[Dense(64, 32), Relu(), Dense(32, 32), Relu(), Dense(32, 32), Relu(), Dense(32, 32), Relu(), Dense(32, 32), Relu(), Dense(32, 32), Relu(), Dense(32, 10), LogSoftmax()]\n",
            "[Dense(64, 32), Relu(), BatchNorm(), Dense(32, 32), Relu(), BatchNorm(), Dense(32, 32), Relu(), BatchNorm(), Dense(32, 32), Relu(), BatchNorm(), Dense(32, 32), Relu(), BatchNorm(), Dense(32, 32), Relu(), BatchNorm(), Dense(32, 10), LogSoftmax()]\n",
            "[Dense(64, 32), BatchNorm(), Relu(), Dense(32, 32), BatchNorm(), Relu(), Dense(32, 32), BatchNorm(), Relu(), Dense(32, 32), BatchNorm(), Relu(), Dense(32, 32), BatchNorm(), Relu(), Dense(32, 32), BatchNorm(), Relu(), Dense(32, 10), LogSoftmax()]\n"
          ]
        }
      ]
    },
    {
      "cell_type": "code",
      "source": [
        "labels = ['No BatchNorm', 'Dense BatchNorm', 'ReLU BatchNorm']\n",
        "accs_train = []\n",
        "accs_test = []\n",
        "\n",
        "for network, label in zip(networks, labels):\n",
        "    initialize_network(network, 'Kaiming')\n",
        "    cb = Callback_w_inf(network, X_train, y_train, X_test, y_test, label, True)\n",
        "    res = minimize(compute_loss_grad, get_weights(network), args=[network, X_train, y_train], method='L-BFGS-B', jac=True, callback=cb.call)\n",
        "    accs_train.append(cb.train_acc)\n",
        "    accs_test.append(cb.test_acc)"
      ],
      "metadata": {
        "colab": {
          "base_uri": "https://localhost:8080/"
        },
        "id": "DVlU360o6mpL",
        "outputId": "e19ad8f4-77ff-4101-ea17-c3f44bd96ba2"
      },
      "execution_count": 135,
      "outputs": [
        {
          "output_type": "stream",
          "name": "stdout",
          "text": [
            "No BatchNorm, iteration: 1, Train accuracy: 0.0957683741648107, Test accuracy: 0.14444444444444443\n",
            "No BatchNorm, iteration: 2, Train accuracy: 0.1091314031180401, Test accuracy: 0.10888888888888888\n",
            "No BatchNorm, iteration: 3, Train accuracy: 0.14847809948032664, Test accuracy: 0.14888888888888888\n",
            "No BatchNorm, iteration: 4, Train accuracy: 0.25686711210096513, Test accuracy: 0.20666666666666667\n",
            "No BatchNorm, iteration: 5, Train accuracy: 0.35634743875278396, Test accuracy: 0.3288888888888889\n",
            "No BatchNorm, iteration: 6, Train accuracy: 0.4795842613214551, Test accuracy: 0.43333333333333335\n",
            "No BatchNorm, iteration: 7, Train accuracy: 0.5308092056421678, Test accuracy: 0.4622222222222222\n",
            "No BatchNorm, iteration: 8, Train accuracy: 0.5590200445434298, Test accuracy: 0.4888888888888889\n",
            "No BatchNorm, iteration: 9, Train accuracy: 0.6332590942835932, Test accuracy: 0.58\n",
            "No BatchNorm, iteration: 10, Train accuracy: 0.6688938381588716, Test accuracy: 0.6333333333333333\n",
            "No BatchNorm, iteration: 11, Train accuracy: 0.7037861915367484, Test accuracy: 0.6577777777777778\n",
            "No BatchNorm, iteration: 12, Train accuracy: 0.7334818114328137, Test accuracy: 0.6866666666666666\n",
            "No BatchNorm, iteration: 13, Train accuracy: 0.7557535263548627, Test accuracy: 0.6977777777777778\n",
            "No BatchNorm, iteration: 14, Train accuracy: 0.7869339272457313, Test accuracy: 0.7444444444444445\n",
            "No BatchNorm, iteration: 15, Train accuracy: 0.8121752041573868, Test accuracy: 0.7711111111111111\n",
            "No BatchNorm, iteration: 16, Train accuracy: 0.8233110616184113, Test accuracy: 0.7866666666666666\n",
            "No BatchNorm, iteration: 17, Train accuracy: 0.838158871566444, Test accuracy: 0.7955555555555556\n",
            "No BatchNorm, iteration: 18, Train accuracy: 0.8678544914625093, Test accuracy: 0.8177777777777778\n",
            "No BatchNorm, iteration: 19, Train accuracy: 0.8841870824053452, Test accuracy: 0.8466666666666667\n",
            "No BatchNorm, iteration: 20, Train accuracy: 0.8923533778767632, Test accuracy: 0.8533333333333334\n",
            "No BatchNorm, iteration: 21, Train accuracy: 0.9020044543429844, Test accuracy: 0.8666666666666667\n",
            "No BatchNorm, iteration: 22, Train accuracy: 0.9064587973273942, Test accuracy: 0.8844444444444445\n",
            "No BatchNorm, iteration: 23, Train accuracy: 0.9205642167780252, Test accuracy: 0.8911111111111111\n",
            "No BatchNorm, iteration: 24, Train accuracy: 0.9279881217520416, Test accuracy: 0.8933333333333333\n",
            "No BatchNorm, iteration: 25, Train accuracy: 0.933184855233853, Test accuracy: 0.9\n",
            "No BatchNorm, iteration: 26, Train accuracy: 0.9376391982182628, Test accuracy: 0.9\n",
            "No BatchNorm, iteration: 27, Train accuracy: 0.941351150705271, Test accuracy: 0.8955555555555555\n",
            "No BatchNorm, iteration: 28, Train accuracy: 0.9517446176688938, Test accuracy: 0.9111111111111111\n",
            "No BatchNorm, iteration: 29, Train accuracy: 0.955456570155902, Test accuracy: 0.9177777777777778\n",
            "No BatchNorm, iteration: 30, Train accuracy: 0.9569413511507052, Test accuracy: 0.9155555555555556\n",
            "No BatchNorm, iteration: 31, Train accuracy: 0.9621380846325167, Test accuracy: 0.9155555555555556\n",
            "No BatchNorm, iteration: 32, Train accuracy: 0.9665924276169265, Test accuracy: 0.9155555555555556\n",
            "No BatchNorm, iteration: 33, Train accuracy: 0.9703043801039347, Test accuracy: 0.92\n",
            "No BatchNorm, iteration: 34, Train accuracy: 0.9755011135857461, Test accuracy: 0.9266666666666666\n",
            "No BatchNorm, iteration: 35, Train accuracy: 0.9784706755753526, Test accuracy: 0.9377777777777778\n",
            "No BatchNorm, iteration: 36, Train accuracy: 0.9799554565701559, Test accuracy: 0.9377777777777778\n",
            "No BatchNorm, iteration: 37, Train accuracy: 0.9814402375649591, Test accuracy: 0.9422222222222222\n",
            "No BatchNorm, iteration: 38, Train accuracy: 0.9829250185597624, Test accuracy: 0.94\n",
            "No BatchNorm, iteration: 39, Train accuracy: 0.9829250185597624, Test accuracy: 0.9333333333333333\n",
            "No BatchNorm, iteration: 40, Train accuracy: 0.9836674090571641, Test accuracy: 0.9333333333333333\n",
            "No BatchNorm, iteration: 41, Train accuracy: 0.9881217520415738, Test accuracy: 0.9377777777777778\n",
            "No BatchNorm, iteration: 42, Train accuracy: 0.9903489235337788, Test accuracy: 0.9377777777777778\n",
            "No BatchNorm, iteration: 43, Train accuracy: 0.991833704528582, Test accuracy: 0.9422222222222222\n",
            "No BatchNorm, iteration: 44, Train accuracy: 0.994060876020787, Test accuracy: 0.94\n",
            "No BatchNorm, iteration: 45, Train accuracy: 0.9948032665181886, Test accuracy: 0.94\n",
            "No BatchNorm, iteration: 46, Train accuracy: 0.9955456570155902, Test accuracy: 0.9466666666666667\n",
            "No BatchNorm, iteration: 47, Train accuracy: 0.9970304380103935, Test accuracy: 0.9444444444444444\n",
            "No BatchNorm, iteration: 48, Train accuracy: 0.9970304380103935, Test accuracy: 0.9422222222222222\n",
            "No BatchNorm, iteration: 49, Train accuracy: 0.9985152190051967, Test accuracy: 0.9422222222222222\n",
            "No BatchNorm, iteration: 50, Train accuracy: 0.9985152190051967, Test accuracy: 0.9377777777777778\n",
            "No BatchNorm, iteration: 51, Train accuracy: 0.9985152190051967, Test accuracy: 0.94\n",
            "No BatchNorm, iteration: 52, Train accuracy: 0.9992576095025983, Test accuracy: 0.9377777777777778\n",
            "No BatchNorm, iteration: 53, Train accuracy: 0.9992576095025983, Test accuracy: 0.94\n",
            "No BatchNorm, iteration: 54, Train accuracy: 0.9992576095025983, Test accuracy: 0.94\n",
            "No BatchNorm, iteration: 55, Train accuracy: 0.9992576095025983, Test accuracy: 0.94\n",
            "No BatchNorm, iteration: 56, Train accuracy: 0.9992576095025983, Test accuracy: 0.9422222222222222\n",
            "No BatchNorm, iteration: 57, Train accuracy: 1.0, Test accuracy: 0.94\n",
            "No BatchNorm, iteration: 58, Train accuracy: 0.9992576095025983, Test accuracy: 0.94\n",
            "No BatchNorm, iteration: 59, Train accuracy: 0.9992576095025983, Test accuracy: 0.94\n",
            "No BatchNorm, iteration: 60, Train accuracy: 1.0, Test accuracy: 0.9422222222222222\n",
            "No BatchNorm, iteration: 61, Train accuracy: 1.0, Test accuracy: 0.9444444444444444\n",
            "No BatchNorm, iteration: 62, Train accuracy: 1.0, Test accuracy: 0.9444444444444444\n",
            "No BatchNorm, iteration: 63, Train accuracy: 1.0, Test accuracy: 0.9444444444444444\n",
            "No BatchNorm, iteration: 64, Train accuracy: 1.0, Test accuracy: 0.9466666666666667\n",
            "No BatchNorm, iteration: 65, Train accuracy: 1.0, Test accuracy: 0.9466666666666667\n",
            "No BatchNorm, iteration: 66, Train accuracy: 1.0, Test accuracy: 0.9488888888888889\n",
            "No BatchNorm, iteration: 67, Train accuracy: 1.0, Test accuracy: 0.9511111111111111\n",
            "No BatchNorm, iteration: 68, Train accuracy: 1.0, Test accuracy: 0.9511111111111111\n",
            "No BatchNorm, iteration: 69, Train accuracy: 1.0, Test accuracy: 0.9511111111111111\n",
            "No BatchNorm, iteration: 70, Train accuracy: 1.0, Test accuracy: 0.9533333333333334\n",
            "No BatchNorm, iteration: 71, Train accuracy: 1.0, Test accuracy: 0.9511111111111111\n",
            "No BatchNorm, iteration: 72, Train accuracy: 1.0, Test accuracy: 0.9577777777777777\n",
            "No BatchNorm, iteration: 73, Train accuracy: 1.0, Test accuracy: 0.9577777777777777\n",
            "No BatchNorm, iteration: 74, Train accuracy: 1.0, Test accuracy: 0.9577777777777777\n",
            "No BatchNorm, iteration: 75, Train accuracy: 1.0, Test accuracy: 0.96\n",
            "No BatchNorm, iteration: 76, Train accuracy: 1.0, Test accuracy: 0.9555555555555556\n",
            "No BatchNorm, iteration: 77, Train accuracy: 1.0, Test accuracy: 0.9533333333333334\n",
            "No BatchNorm, iteration: 78, Train accuracy: 1.0, Test accuracy: 0.9577777777777777\n",
            "No BatchNorm, iteration: 79, Train accuracy: 1.0, Test accuracy: 0.9577777777777777\n",
            "No BatchNorm, iteration: 80, Train accuracy: 1.0, Test accuracy: 0.96\n",
            "No BatchNorm, iteration: 81, Train accuracy: 1.0, Test accuracy: 0.96\n",
            "No BatchNorm, iteration: 82, Train accuracy: 1.0, Test accuracy: 0.96\n",
            "No BatchNorm, iteration: 83, Train accuracy: 1.0, Test accuracy: 0.9622222222222222\n",
            "No BatchNorm, iteration: 84, Train accuracy: 1.0, Test accuracy: 0.9622222222222222\n",
            "No BatchNorm, iteration: 85, Train accuracy: 1.0, Test accuracy: 0.9622222222222222\n",
            "Dense BatchNorm, iteration: 1, Train accuracy: 0.31551596139569416, Test accuracy: 0.3333333333333333\n",
            "Dense BatchNorm, iteration: 2, Train accuracy: 0.5300668151447662, Test accuracy: 0.5288888888888889\n",
            "Dense BatchNorm, iteration: 3, Train accuracy: 0.6325167037861915, Test accuracy: 0.6022222222222222\n",
            "Dense BatchNorm, iteration: 4, Train accuracy: 0.6948775055679287, Test accuracy: 0.6622222222222223\n",
            "Dense BatchNorm, iteration: 5, Train accuracy: 0.7112100965107646, Test accuracy: 0.7044444444444444\n",
            "Dense BatchNorm, iteration: 6, Train accuracy: 0.74090571640683, Test accuracy: 0.7155555555555555\n",
            "Dense BatchNorm, iteration: 7, Train accuracy: 0.7602078693392724, Test accuracy: 0.7088888888888889\n",
            "Dense BatchNorm, iteration: 8, Train accuracy: 0.7757980697847068, Test accuracy: 0.7266666666666667\n",
            "Dense BatchNorm, iteration: 9, Train accuracy: 0.8017817371937639, Test accuracy: 0.7711111111111111\n",
            "Dense BatchNorm, iteration: 10, Train accuracy: 0.8292501855976243, Test accuracy: 0.8\n",
            "Dense BatchNorm, iteration: 11, Train accuracy: 0.821826280623608, Test accuracy: 0.7733333333333333\n",
            "Dense BatchNorm, iteration: 12, Train accuracy: 0.8188567186340014, Test accuracy: 0.7733333333333333\n",
            "Dense BatchNorm, iteration: 13, Train accuracy: 0.8032665181885672, Test accuracy: 0.7533333333333333\n",
            "Dense BatchNorm, iteration: 14, Train accuracy: 0.7579806978470676, Test accuracy: 0.7266666666666667\n",
            "Dense BatchNorm, iteration: 15, Train accuracy: 0.6503340757238307, Test accuracy: 0.6244444444444445\n",
            "Dense BatchNorm, iteration: 16, Train accuracy: 0.77728285077951, Test accuracy: 0.7377777777777778\n",
            "Dense BatchNorm, iteration: 17, Train accuracy: 1.0, Test accuracy: 0.9488888888888889\n",
            "Dense BatchNorm, iteration: 18, Train accuracy: 1.0, Test accuracy: 0.9555555555555556\n",
            "Dense BatchNorm, iteration: 19, Train accuracy: 1.0, Test accuracy: 0.9577777777777777\n",
            "Dense BatchNorm, iteration: 20, Train accuracy: 1.0, Test accuracy: 0.9622222222222222\n",
            "Dense BatchNorm, iteration: 21, Train accuracy: 1.0, Test accuracy: 0.9666666666666667\n",
            "Dense BatchNorm, iteration: 22, Train accuracy: 1.0, Test accuracy: 0.9666666666666667\n",
            "Dense BatchNorm, iteration: 23, Train accuracy: 1.0, Test accuracy: 0.9711111111111111\n",
            "Dense BatchNorm, iteration: 24, Train accuracy: 1.0, Test accuracy: 0.9711111111111111\n",
            "Dense BatchNorm, iteration: 25, Train accuracy: 1.0, Test accuracy: 0.9688888888888889\n",
            "Dense BatchNorm, iteration: 26, Train accuracy: 1.0, Test accuracy: 0.9688888888888889\n",
            "Dense BatchNorm, iteration: 27, Train accuracy: 1.0, Test accuracy: 0.9688888888888889\n",
            "Dense BatchNorm, iteration: 28, Train accuracy: 1.0, Test accuracy: 0.9688888888888889\n",
            "Dense BatchNorm, iteration: 29, Train accuracy: 1.0, Test accuracy: 0.9666666666666667\n",
            "Dense BatchNorm, iteration: 30, Train accuracy: 1.0, Test accuracy: 0.9666666666666667\n",
            "ReLU BatchNorm, iteration: 1, Train accuracy: 0.3570898292501856, Test accuracy: 0.36666666666666664\n",
            "ReLU BatchNorm, iteration: 2, Train accuracy: 0.5152190051967335, Test accuracy: 0.4866666666666667\n",
            "ReLU BatchNorm, iteration: 3, Train accuracy: 0.6384558277654045, Test accuracy: 0.62\n",
            "ReLU BatchNorm, iteration: 4, Train accuracy: 0.6978470675575352, Test accuracy: 0.68\n",
            "ReLU BatchNorm, iteration: 5, Train accuracy: 0.746844840386043, Test accuracy: 0.7266666666666667\n",
            "ReLU BatchNorm, iteration: 6, Train accuracy: 0.7951002227171492, Test accuracy: 0.7644444444444445\n",
            "ReLU BatchNorm, iteration: 7, Train accuracy: 0.8403860430586488, Test accuracy: 0.8111111111111111\n",
            "ReLU BatchNorm, iteration: 8, Train accuracy: 0.8671121009651076, Test accuracy: 0.8466666666666667\n",
            "ReLU BatchNorm, iteration: 9, Train accuracy: 0.8663697104677061, Test accuracy: 0.82\n",
            "ReLU BatchNorm, iteration: 10, Train accuracy: 0.8685968819599109, Test accuracy: 0.82\n",
            "ReLU BatchNorm, iteration: 11, Train accuracy: 0.8767631774313289, Test accuracy: 0.8266666666666667\n",
            "ReLU BatchNorm, iteration: 12, Train accuracy: 0.888641425389755, Test accuracy: 0.8533333333333334\n",
            "ReLU BatchNorm, iteration: 13, Train accuracy: 0.9012620638455828, Test accuracy: 0.8488888888888889\n",
            "ReLU BatchNorm, iteration: 14, Train accuracy: 0.9138827023014106, Test accuracy: 0.8644444444444445\n",
            "ReLU BatchNorm, iteration: 15, Train accuracy: 0.9190794357832219, Test accuracy: 0.88\n",
            "ReLU BatchNorm, iteration: 16, Train accuracy: 0.9183370452858204, Test accuracy: 0.8733333333333333\n",
            "ReLU BatchNorm, iteration: 17, Train accuracy: 0.9272457312546399, Test accuracy: 0.8777777777777778\n",
            "ReLU BatchNorm, iteration: 18, Train accuracy: 0.9324424647364514, Test accuracy: 0.8933333333333333\n",
            "ReLU BatchNorm, iteration: 19, Train accuracy: 0.9309576837416481, Test accuracy: 0.8911111111111111\n",
            "ReLU BatchNorm, iteration: 20, Train accuracy: 0.9287305122494433, Test accuracy: 0.8822222222222222\n",
            "ReLU BatchNorm, iteration: 21, Train accuracy: 0.933184855233853, Test accuracy: 0.8866666666666667\n",
            "ReLU BatchNorm, iteration: 22, Train accuracy: 0.9324424647364514, Test accuracy: 0.8822222222222222\n",
            "ReLU BatchNorm, iteration: 23, Train accuracy: 0.9265033407572383, Test accuracy: 0.8844444444444445\n",
            "ReLU BatchNorm, iteration: 24, Train accuracy: 0.9287305122494433, Test accuracy: 0.8866666666666667\n"
          ]
        }
      ]
    },
    {
      "cell_type": "code",
      "source": [
        "plt.figure(figsize=(10, 8))\n",
        "figure_set = zip(range(1, 3), ['Train', 'Test'], [accs_train, accs_test])\n",
        "\n",
        "for fig, data, accs in figure_set:\n",
        "    plt.subplot(2, 1, fig)\n",
        "    for label, acc in zip(labels, accs):\n",
        "        plt.plot(acc, label=label)\n",
        "    plt.legend()\n",
        "    plt.grid(True)\n",
        "    plt.xlabel('Number of iteration')\n",
        "    plt.ylabel(f'{data} accuracy')\n",
        "    plt.title(f'BatchNorm on {data}')\n",
        "plt.tight_layout()"
      ],
      "metadata": {
        "colab": {
          "base_uri": "https://localhost:8080/",
          "height": 585
        },
        "id": "oywkDByl-W03",
        "outputId": "569b1495-5662-49db-c15b-a2030b7841f2"
      },
      "execution_count": 136,
      "outputs": [
        {
          "output_type": "display_data",
          "data": {
            "image/png": "[encoded data removed]",
            "text/plain": [
              "<Figure size 720x576 with 2 Axes>"
            ]
          },
          "metadata": {
            "needs_background": "light"
          }
        }
      ]
    },
    {
      "cell_type": "markdown",
      "source": [
        "Использование batch normalization позволяет достичь лучшего качества и более быстрой сходимости. Наилучшие результаты по качеству как на обучении, так и на тесте дает использование батч-нормализации перед полносвязными слоями. Применение батч-нормализации перед активациями $ReLU$ дает незначительно меньшее качество, но при этом и немного более быструю сходимость."
      ],
      "metadata": {
        "id": "c8itahJfzLkb"
      }
    },
    {
      "cell_type": "code",
      "source": [
        ""
      ],
      "metadata": {
        "id": "-dh5GaZdB-c2"
      },
      "execution_count": null,
      "outputs": []
    }
  ],
  "metadata": {
    "kernelspec": {
      "display_name": "Python 3",
      "language": "python",
      "name": "python3"
    },
    "language_info": {
      "codemirror_mode": {
        "name": "ipython",
        "version": 3
      },
      "file_extension": ".py",
      "mimetype": "text/x-python",
      "name": "python",
      "nbconvert_exporter": "python",
      "pygments_lexer": "ipython3",
      "version": "3.7.6"
    },
    "colab": {
      "name": "lab_01.ipynb",
      "provenance": [],
      "collapsed_sections": [
        "YMcfiInzN06O",
        "Dx5qV-bHN06P"
      ]
    }
  },
  "nbformat": 4,
  "nbformat_minor": 0
}